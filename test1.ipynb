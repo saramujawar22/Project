{
 "metadata": {
  "language_info": {
   "codemirror_mode": {
    "name": "ipython",
    "version": 3
   },
   "file_extension": ".py",
   "mimetype": "text/x-python",
   "name": "python",
   "nbconvert_exporter": "python",
   "pygments_lexer": "ipython3",
   "version": "3.7.9"
  },
  "orig_nbformat": 2,
  "kernelspec": {
   "name": "python379jvsc74a57bd004635d289a519a1410467dd0afb0db42f9184808881ca68b2eb5a687a20a5a94",
   "display_name": "Python 3.7.9 64-bit"
  }
 },
 "nbformat": 4,
 "nbformat_minor": 2,
 "cells": [
  {
   "cell_type": "code",
   "execution_count": 1,
   "metadata": {},
   "outputs": [],
   "source": [
    "import pandas as pd\n",
    "import numpy as np\n",
    "import matplotlib.pyplot as plt\n",
    "import seaborn as sns"
   ]
  },
  {
   "cell_type": "code",
   "execution_count": 2,
   "metadata": {},
   "outputs": [
    {
     "output_type": "execute_result",
     "data": {
      "text/plain": [
       "      Sr No Date dd/mm/yyyy                  Startup Name  \\\n",
       "0         1      09/01/2020                        BYJU’S   \n",
       "1         2      13/01/2020                        Shuttl   \n",
       "2         3      09/01/2020                     Mamaearth   \n",
       "3         4      02/01/2020  https://www.wealthbucket.in/   \n",
       "4         5      02/01/2020                        Fashor   \n",
       "...     ...             ...                           ...   \n",
       "3039   3040      29/01/2015                    Printvenue   \n",
       "3040   3041      29/01/2015                      Graphene   \n",
       "3041   3042      30/01/2015                Mad Street Den   \n",
       "3042   3043      30/01/2015                     Simplotel   \n",
       "3043   3044      31/01/2015              couponmachine.in   \n",
       "\n",
       "        Industry Vertical                            SubVertical  \\\n",
       "0                  E-Tech                             E-learning   \n",
       "1          Transportation              App based shuttle service   \n",
       "2              E-commerce  Retailer of baby and toddler products   \n",
       "3                 FinTech                      Online Investment   \n",
       "4     Fashion and Apparel            Embroiled Clothes For Women   \n",
       "...                   ...                                    ...   \n",
       "3039                  NaN                                    NaN   \n",
       "3040                  NaN                                    NaN   \n",
       "3041                  NaN                                    NaN   \n",
       "3042                  NaN                                    NaN   \n",
       "3043                  NaN                                    NaN   \n",
       "\n",
       "     City  Location                     Investors Name       InvestmentnType  \\\n",
       "0         Bengaluru            Tiger Global Management  Private Equity Round   \n",
       "1           Gurgaon          Susquehanna Growth Equity              Series C   \n",
       "2         Bengaluru              Sequoia Capital India              Series B   \n",
       "3         New Delhi                     Vinod Khatumal          Pre-series A   \n",
       "4            Mumbai            Sprout Venture Partners            Seed Round   \n",
       "...             ...                                ...                   ...   \n",
       "3039            NaN        Asia Pacific Internet Group        Private Equity   \n",
       "3040            NaN                     KARSEMVEN Fund        Private Equity   \n",
       "3041            NaN     Exfinity Fund, GrowX Ventures.        Private Equity   \n",
       "3042            NaN                         MakeMyTrip        Private Equity   \n",
       "3043            NaN  UK based Group of Angel Investors          Seed Funding   \n",
       "\n",
       "     Amount in USD                            Remarks  \n",
       "0     20,00,00,000                                NaN  \n",
       "1        80,48,394                                NaN  \n",
       "2      1,83,58,860                                NaN  \n",
       "3        30,00,000                                NaN  \n",
       "4        18,00,000                                NaN  \n",
       "...            ...                                ...  \n",
       "3039     45,00,000                                NaN  \n",
       "3040      8,25,000                Govt backed VC Fund  \n",
       "3041     15,00,000                                NaN  \n",
       "3042           NaN  Strategic Funding, Minority stake  \n",
       "3043      1,40,000                                NaN  \n",
       "\n",
       "[3044 rows x 10 columns]"
      ],
      "text/html": "<div>\n<style scoped>\n    .dataframe tbody tr th:only-of-type {\n        vertical-align: middle;\n    }\n\n    .dataframe tbody tr th {\n        vertical-align: top;\n    }\n\n    .dataframe thead th {\n        text-align: right;\n    }\n</style>\n<table border=\"1\" class=\"dataframe\">\n  <thead>\n    <tr style=\"text-align: right;\">\n      <th></th>\n      <th>Sr No</th>\n      <th>Date dd/mm/yyyy</th>\n      <th>Startup Name</th>\n      <th>Industry Vertical</th>\n      <th>SubVertical</th>\n      <th>City  Location</th>\n      <th>Investors Name</th>\n      <th>InvestmentnType</th>\n      <th>Amount in USD</th>\n      <th>Remarks</th>\n    </tr>\n  </thead>\n  <tbody>\n    <tr>\n      <th>0</th>\n      <td>1</td>\n      <td>09/01/2020</td>\n      <td>BYJU’S</td>\n      <td>E-Tech</td>\n      <td>E-learning</td>\n      <td>Bengaluru</td>\n      <td>Tiger Global Management</td>\n      <td>Private Equity Round</td>\n      <td>20,00,00,000</td>\n      <td>NaN</td>\n    </tr>\n    <tr>\n      <th>1</th>\n      <td>2</td>\n      <td>13/01/2020</td>\n      <td>Shuttl</td>\n      <td>Transportation</td>\n      <td>App based shuttle service</td>\n      <td>Gurgaon</td>\n      <td>Susquehanna Growth Equity</td>\n      <td>Series C</td>\n      <td>80,48,394</td>\n      <td>NaN</td>\n    </tr>\n    <tr>\n      <th>2</th>\n      <td>3</td>\n      <td>09/01/2020</td>\n      <td>Mamaearth</td>\n      <td>E-commerce</td>\n      <td>Retailer of baby and toddler products</td>\n      <td>Bengaluru</td>\n      <td>Sequoia Capital India</td>\n      <td>Series B</td>\n      <td>1,83,58,860</td>\n      <td>NaN</td>\n    </tr>\n    <tr>\n      <th>3</th>\n      <td>4</td>\n      <td>02/01/2020</td>\n      <td>https://www.wealthbucket.in/</td>\n      <td>FinTech</td>\n      <td>Online Investment</td>\n      <td>New Delhi</td>\n      <td>Vinod Khatumal</td>\n      <td>Pre-series A</td>\n      <td>30,00,000</td>\n      <td>NaN</td>\n    </tr>\n    <tr>\n      <th>4</th>\n      <td>5</td>\n      <td>02/01/2020</td>\n      <td>Fashor</td>\n      <td>Fashion and Apparel</td>\n      <td>Embroiled Clothes For Women</td>\n      <td>Mumbai</td>\n      <td>Sprout Venture Partners</td>\n      <td>Seed Round</td>\n      <td>18,00,000</td>\n      <td>NaN</td>\n    </tr>\n    <tr>\n      <th>...</th>\n      <td>...</td>\n      <td>...</td>\n      <td>...</td>\n      <td>...</td>\n      <td>...</td>\n      <td>...</td>\n      <td>...</td>\n      <td>...</td>\n      <td>...</td>\n      <td>...</td>\n    </tr>\n    <tr>\n      <th>3039</th>\n      <td>3040</td>\n      <td>29/01/2015</td>\n      <td>Printvenue</td>\n      <td>NaN</td>\n      <td>NaN</td>\n      <td>NaN</td>\n      <td>Asia Pacific Internet Group</td>\n      <td>Private Equity</td>\n      <td>45,00,000</td>\n      <td>NaN</td>\n    </tr>\n    <tr>\n      <th>3040</th>\n      <td>3041</td>\n      <td>29/01/2015</td>\n      <td>Graphene</td>\n      <td>NaN</td>\n      <td>NaN</td>\n      <td>NaN</td>\n      <td>KARSEMVEN Fund</td>\n      <td>Private Equity</td>\n      <td>8,25,000</td>\n      <td>Govt backed VC Fund</td>\n    </tr>\n    <tr>\n      <th>3041</th>\n      <td>3042</td>\n      <td>30/01/2015</td>\n      <td>Mad Street Den</td>\n      <td>NaN</td>\n      <td>NaN</td>\n      <td>NaN</td>\n      <td>Exfinity Fund, GrowX Ventures.</td>\n      <td>Private Equity</td>\n      <td>15,00,000</td>\n      <td>NaN</td>\n    </tr>\n    <tr>\n      <th>3042</th>\n      <td>3043</td>\n      <td>30/01/2015</td>\n      <td>Simplotel</td>\n      <td>NaN</td>\n      <td>NaN</td>\n      <td>NaN</td>\n      <td>MakeMyTrip</td>\n      <td>Private Equity</td>\n      <td>NaN</td>\n      <td>Strategic Funding, Minority stake</td>\n    </tr>\n    <tr>\n      <th>3043</th>\n      <td>3044</td>\n      <td>31/01/2015</td>\n      <td>couponmachine.in</td>\n      <td>NaN</td>\n      <td>NaN</td>\n      <td>NaN</td>\n      <td>UK based Group of Angel Investors</td>\n      <td>Seed Funding</td>\n      <td>1,40,000</td>\n      <td>NaN</td>\n    </tr>\n  </tbody>\n</table>\n<p>3044 rows × 10 columns</p>\n</div>"
     },
     "metadata": {},
     "execution_count": 2
    }
   ],
   "source": [
    "data=pd.read_csv('startup_funding.csv')\n",
    "data"
   ]
  },
  {
   "cell_type": "code",
   "execution_count": 3,
   "metadata": {},
   "outputs": [
    {
     "output_type": "execute_result",
     "data": {
      "text/plain": [
       "Sr No                 int64\n",
       "Date dd/mm/yyyy      object\n",
       "Startup Name         object\n",
       "Industry Vertical    object\n",
       "SubVertical          object\n",
       "City  Location       object\n",
       "Investors Name       object\n",
       "InvestmentnType      object\n",
       "Amount in USD        object\n",
       "Remarks              object\n",
       "dtype: object"
      ]
     },
     "metadata": {},
     "execution_count": 3
    }
   ],
   "source": [
    "data.dtypes"
   ]
  },
  {
   "cell_type": "code",
   "execution_count": 4,
   "metadata": {},
   "outputs": [
    {
     "output_type": "stream",
     "name": "stdout",
     "text": [
      "<class 'pandas.core.frame.DataFrame'>\nRangeIndex: 3044 entries, 0 to 3043\nData columns (total 10 columns):\n #   Column             Non-Null Count  Dtype \n---  ------             --------------  ----- \n 0   Sr No              3044 non-null   int64 \n 1   Date dd/mm/yyyy    3044 non-null   object\n 2   Startup Name       3044 non-null   object\n 3   Industry Vertical  2873 non-null   object\n 4   SubVertical        2108 non-null   object\n 5   City  Location     2864 non-null   object\n 6   Investors Name     3020 non-null   object\n 7   InvestmentnType    3040 non-null   object\n 8   Amount in USD      2084 non-null   object\n 9   Remarks            419 non-null    object\ndtypes: int64(1), object(9)\nmemory usage: 237.9+ KB\n"
     ]
    }
   ],
   "source": [
    "data.info()\n"
   ]
  },
  {
   "cell_type": "code",
   "execution_count": 5,
   "metadata": {},
   "outputs": [
    {
     "output_type": "execute_result",
     "data": {
      "text/plain": [
       "(3044, 10)"
      ]
     },
     "metadata": {},
     "execution_count": 5
    }
   ],
   "source": [
    "data.shape"
   ]
  },
  {
   "cell_type": "code",
   "execution_count": 6,
   "metadata": {},
   "outputs": [
    {
     "output_type": "execute_result",
     "data": {
      "text/plain": [
       "             Sr No\n",
       "count  3044.000000\n",
       "mean   1522.500000\n",
       "std     878.871435\n",
       "min       1.000000\n",
       "25%     761.750000\n",
       "50%    1522.500000\n",
       "75%    2283.250000\n",
       "max    3044.000000"
      ],
      "text/html": "<div>\n<style scoped>\n    .dataframe tbody tr th:only-of-type {\n        vertical-align: middle;\n    }\n\n    .dataframe tbody tr th {\n        vertical-align: top;\n    }\n\n    .dataframe thead th {\n        text-align: right;\n    }\n</style>\n<table border=\"1\" class=\"dataframe\">\n  <thead>\n    <tr style=\"text-align: right;\">\n      <th></th>\n      <th>Sr No</th>\n    </tr>\n  </thead>\n  <tbody>\n    <tr>\n      <th>count</th>\n      <td>3044.000000</td>\n    </tr>\n    <tr>\n      <th>mean</th>\n      <td>1522.500000</td>\n    </tr>\n    <tr>\n      <th>std</th>\n      <td>878.871435</td>\n    </tr>\n    <tr>\n      <th>min</th>\n      <td>1.000000</td>\n    </tr>\n    <tr>\n      <th>25%</th>\n      <td>761.750000</td>\n    </tr>\n    <tr>\n      <th>50%</th>\n      <td>1522.500000</td>\n    </tr>\n    <tr>\n      <th>75%</th>\n      <td>2283.250000</td>\n    </tr>\n    <tr>\n      <th>max</th>\n      <td>3044.000000</td>\n    </tr>\n  </tbody>\n</table>\n</div>"
     },
     "metadata": {},
     "execution_count": 6
    }
   ],
   "source": [
    "data.describe()"
   ]
  },
  {
   "cell_type": "code",
   "execution_count": 7,
   "metadata": {},
   "outputs": [
    {
     "output_type": "execute_result",
     "data": {
      "text/plain": [
       "Sr No                   0\n",
       "Date dd/mm/yyyy         0\n",
       "Startup Name            0\n",
       "Industry Vertical     171\n",
       "SubVertical           936\n",
       "City  Location        180\n",
       "Investors Name         24\n",
       "InvestmentnType         4\n",
       "Amount in USD         960\n",
       "Remarks              2625\n",
       "dtype: int64"
      ]
     },
     "metadata": {},
     "execution_count": 7
    }
   ],
   "source": [
    "data.isnull().sum()"
   ]
  },
  {
   "cell_type": "code",
   "execution_count": 8,
   "metadata": {},
   "outputs": [
    {
     "output_type": "execute_result",
     "data": {
      "text/plain": [
       "Sr No                   0\n",
       "Date dd/mm/yyyy         0\n",
       "Startup Name            0\n",
       "Industry Vertical     171\n",
       "SubVertical           936\n",
       "City  Location        180\n",
       "Investors Name         24\n",
       "InvestmentnType         4\n",
       "Amount in USD         960\n",
       "Remarks              2625\n",
       "dtype: int64"
      ]
     },
     "metadata": {},
     "execution_count": 8
    }
   ],
   "source": [
    "data.isnull().sum()"
   ]
  },
  {
   "cell_type": "code",
   "execution_count": 9,
   "metadata": {},
   "outputs": [
    {
     "output_type": "execute_result",
     "data": {
      "text/plain": [
       "0       False\n",
       "1       False\n",
       "2       False\n",
       "3       False\n",
       "4       False\n",
       "        ...  \n",
       "3039    False\n",
       "3040    False\n",
       "3041    False\n",
       "3042    False\n",
       "3043    False\n",
       "Length: 3044, dtype: bool"
      ]
     },
     "metadata": {},
     "execution_count": 9
    }
   ],
   "source": [
    "data.duplicated()"
   ]
  },
  {
   "cell_type": "code",
   "execution_count": 10,
   "metadata": {},
   "outputs": [
    {
     "output_type": "execute_result",
     "data": {
      "text/plain": [
       "   Sr No Date dd/mm/yyyy                  Startup Name    Industry Vertical  \\\n",
       "0      1      09/01/2020                        BYJU’S               E-Tech   \n",
       "1      2      13/01/2020                        Shuttl       Transportation   \n",
       "2      3      09/01/2020                     Mamaearth           E-commerce   \n",
       "3      4      02/01/2020  https://www.wealthbucket.in/              FinTech   \n",
       "4      5      02/01/2020                        Fashor  Fashion and Apparel   \n",
       "\n",
       "                             SubVertical City  Location  \\\n",
       "0                             E-learning      Bengaluru   \n",
       "1              App based shuttle service        Gurgaon   \n",
       "2  Retailer of baby and toddler products      Bengaluru   \n",
       "3                      Online Investment      New Delhi   \n",
       "4            Embroiled Clothes For Women         Mumbai   \n",
       "\n",
       "              Investors Name       InvestmentnType Amount in USD Remarks  \n",
       "0    Tiger Global Management  Private Equity Round  20,00,00,000     NaN  \n",
       "1  Susquehanna Growth Equity              Series C     80,48,394     NaN  \n",
       "2      Sequoia Capital India              Series B   1,83,58,860     NaN  \n",
       "3             Vinod Khatumal          Pre-series A     30,00,000     NaN  \n",
       "4    Sprout Venture Partners            Seed Round     18,00,000     NaN  "
      ],
      "text/html": "<div>\n<style scoped>\n    .dataframe tbody tr th:only-of-type {\n        vertical-align: middle;\n    }\n\n    .dataframe tbody tr th {\n        vertical-align: top;\n    }\n\n    .dataframe thead th {\n        text-align: right;\n    }\n</style>\n<table border=\"1\" class=\"dataframe\">\n  <thead>\n    <tr style=\"text-align: right;\">\n      <th></th>\n      <th>Sr No</th>\n      <th>Date dd/mm/yyyy</th>\n      <th>Startup Name</th>\n      <th>Industry Vertical</th>\n      <th>SubVertical</th>\n      <th>City  Location</th>\n      <th>Investors Name</th>\n      <th>InvestmentnType</th>\n      <th>Amount in USD</th>\n      <th>Remarks</th>\n    </tr>\n  </thead>\n  <tbody>\n    <tr>\n      <th>0</th>\n      <td>1</td>\n      <td>09/01/2020</td>\n      <td>BYJU’S</td>\n      <td>E-Tech</td>\n      <td>E-learning</td>\n      <td>Bengaluru</td>\n      <td>Tiger Global Management</td>\n      <td>Private Equity Round</td>\n      <td>20,00,00,000</td>\n      <td>NaN</td>\n    </tr>\n    <tr>\n      <th>1</th>\n      <td>2</td>\n      <td>13/01/2020</td>\n      <td>Shuttl</td>\n      <td>Transportation</td>\n      <td>App based shuttle service</td>\n      <td>Gurgaon</td>\n      <td>Susquehanna Growth Equity</td>\n      <td>Series C</td>\n      <td>80,48,394</td>\n      <td>NaN</td>\n    </tr>\n    <tr>\n      <th>2</th>\n      <td>3</td>\n      <td>09/01/2020</td>\n      <td>Mamaearth</td>\n      <td>E-commerce</td>\n      <td>Retailer of baby and toddler products</td>\n      <td>Bengaluru</td>\n      <td>Sequoia Capital India</td>\n      <td>Series B</td>\n      <td>1,83,58,860</td>\n      <td>NaN</td>\n    </tr>\n    <tr>\n      <th>3</th>\n      <td>4</td>\n      <td>02/01/2020</td>\n      <td>https://www.wealthbucket.in/</td>\n      <td>FinTech</td>\n      <td>Online Investment</td>\n      <td>New Delhi</td>\n      <td>Vinod Khatumal</td>\n      <td>Pre-series A</td>\n      <td>30,00,000</td>\n      <td>NaN</td>\n    </tr>\n    <tr>\n      <th>4</th>\n      <td>5</td>\n      <td>02/01/2020</td>\n      <td>Fashor</td>\n      <td>Fashion and Apparel</td>\n      <td>Embroiled Clothes For Women</td>\n      <td>Mumbai</td>\n      <td>Sprout Venture Partners</td>\n      <td>Seed Round</td>\n      <td>18,00,000</td>\n      <td>NaN</td>\n    </tr>\n  </tbody>\n</table>\n</div>"
     },
     "metadata": {},
     "execution_count": 10
    }
   ],
   "source": [
    "data.head()"
   ]
  },
  {
   "cell_type": "code",
   "execution_count": 11,
   "metadata": {},
   "outputs": [
    {
     "output_type": "execute_result",
     "data": {
      "text/plain": [
       "      Sr No Date dd/mm/yyyy      Startup Name Industry Vertical SubVertical  \\\n",
       "3039   3040      29/01/2015        Printvenue               NaN         NaN   \n",
       "3040   3041      29/01/2015          Graphene               NaN         NaN   \n",
       "3041   3042      30/01/2015    Mad Street Den               NaN         NaN   \n",
       "3042   3043      30/01/2015         Simplotel               NaN         NaN   \n",
       "3043   3044      31/01/2015  couponmachine.in               NaN         NaN   \n",
       "\n",
       "     City  Location                     Investors Name InvestmentnType  \\\n",
       "3039            NaN        Asia Pacific Internet Group  Private Equity   \n",
       "3040            NaN                     KARSEMVEN Fund  Private Equity   \n",
       "3041            NaN     Exfinity Fund, GrowX Ventures.  Private Equity   \n",
       "3042            NaN                         MakeMyTrip  Private Equity   \n",
       "3043            NaN  UK based Group of Angel Investors    Seed Funding   \n",
       "\n",
       "     Amount in USD                            Remarks  \n",
       "3039     45,00,000                                NaN  \n",
       "3040      8,25,000                Govt backed VC Fund  \n",
       "3041     15,00,000                                NaN  \n",
       "3042           NaN  Strategic Funding, Minority stake  \n",
       "3043      1,40,000                                NaN  "
      ],
      "text/html": "<div>\n<style scoped>\n    .dataframe tbody tr th:only-of-type {\n        vertical-align: middle;\n    }\n\n    .dataframe tbody tr th {\n        vertical-align: top;\n    }\n\n    .dataframe thead th {\n        text-align: right;\n    }\n</style>\n<table border=\"1\" class=\"dataframe\">\n  <thead>\n    <tr style=\"text-align: right;\">\n      <th></th>\n      <th>Sr No</th>\n      <th>Date dd/mm/yyyy</th>\n      <th>Startup Name</th>\n      <th>Industry Vertical</th>\n      <th>SubVertical</th>\n      <th>City  Location</th>\n      <th>Investors Name</th>\n      <th>InvestmentnType</th>\n      <th>Amount in USD</th>\n      <th>Remarks</th>\n    </tr>\n  </thead>\n  <tbody>\n    <tr>\n      <th>3039</th>\n      <td>3040</td>\n      <td>29/01/2015</td>\n      <td>Printvenue</td>\n      <td>NaN</td>\n      <td>NaN</td>\n      <td>NaN</td>\n      <td>Asia Pacific Internet Group</td>\n      <td>Private Equity</td>\n      <td>45,00,000</td>\n      <td>NaN</td>\n    </tr>\n    <tr>\n      <th>3040</th>\n      <td>3041</td>\n      <td>29/01/2015</td>\n      <td>Graphene</td>\n      <td>NaN</td>\n      <td>NaN</td>\n      <td>NaN</td>\n      <td>KARSEMVEN Fund</td>\n      <td>Private Equity</td>\n      <td>8,25,000</td>\n      <td>Govt backed VC Fund</td>\n    </tr>\n    <tr>\n      <th>3041</th>\n      <td>3042</td>\n      <td>30/01/2015</td>\n      <td>Mad Street Den</td>\n      <td>NaN</td>\n      <td>NaN</td>\n      <td>NaN</td>\n      <td>Exfinity Fund, GrowX Ventures.</td>\n      <td>Private Equity</td>\n      <td>15,00,000</td>\n      <td>NaN</td>\n    </tr>\n    <tr>\n      <th>3042</th>\n      <td>3043</td>\n      <td>30/01/2015</td>\n      <td>Simplotel</td>\n      <td>NaN</td>\n      <td>NaN</td>\n      <td>NaN</td>\n      <td>MakeMyTrip</td>\n      <td>Private Equity</td>\n      <td>NaN</td>\n      <td>Strategic Funding, Minority stake</td>\n    </tr>\n    <tr>\n      <th>3043</th>\n      <td>3044</td>\n      <td>31/01/2015</td>\n      <td>couponmachine.in</td>\n      <td>NaN</td>\n      <td>NaN</td>\n      <td>NaN</td>\n      <td>UK based Group of Angel Investors</td>\n      <td>Seed Funding</td>\n      <td>1,40,000</td>\n      <td>NaN</td>\n    </tr>\n  </tbody>\n</table>\n</div>"
     },
     "metadata": {},
     "execution_count": 11
    }
   ],
   "source": [
    "data.tail()"
   ]
  },
  {
   "cell_type": "code",
   "execution_count": 42,
   "metadata": {},
   "outputs": [
    {
     "output_type": "execute_result",
     "data": {
      "text/plain": [
       "Ola Cabs                8\n",
       "Swiggy                  8\n",
       "Paytm                   7\n",
       "NoBroker                6\n",
       "Medinfi                 6\n",
       "Meesho                  6\n",
       "UrbanClap               6\n",
       "Nykaa                   6\n",
       "Uniphore                5\n",
       "Capital Float           5\n",
       "Toppr                   5\n",
       "Flipkart                5\n",
       "Grofers                 5\n",
       "Moglix                  5\n",
       "Jugnoo                  5\n",
       "Urban Ladder            4\n",
       "Coverfox                4\n",
       "BigBasket               4\n",
       "Byju\\\\xe2\\\\x80\\\\x99s    4\n",
       "YepMe                   4\n",
       "Unacademy               4\n",
       "CarDekho                4\n",
       "Niki.ai                 4\n",
       "Rivigo                  4\n",
       "Healthians              4\n",
       "Vyomo                   4\n",
       "Shuttl                  4\n",
       "HolaChef                4\n",
       "Simplilearn             4\n",
       "Zomato                  4\n",
       "Licious                 4\n",
       "Zoctr                   4\n",
       "EazyDiner               4\n",
       "RailYatri               4\n",
       "Tracxn                  4\n",
       "Udaan                   4\n",
       "1mg                     4\n",
       "Fynd                    4\n",
       "Icertis                 4\n",
       "TinyStep                4\n",
       "Aye Finance             4\n",
       "Indus OS                4\n",
       "Furlenco                4\n",
       "Magicpin                4\n",
       "Voonik                  4\n",
       "HealthifyMe             4\n",
       "Wooplr                  4\n",
       "Ola                     4\n",
       "Fitternity              3\n",
       "GOQii                   3\n",
       "Name: Startup Name, dtype: int64"
      ]
     },
     "metadata": {},
     "execution_count": 42
    }
   ],
   "source": [
    "data['Startup Name'].value_counts()[:50]"
   ]
  },
  {
   "cell_type": "code",
   "execution_count": 13,
   "metadata": {},
   "outputs": [
    {
     "output_type": "execute_result",
     "data": {
      "text/plain": [
       "08/07/2015    11\n",
       "02/02/2015    11\n",
       "30/11/2016    11\n",
       "04/10/2016    10\n",
       "21/06/2016     9\n",
       "              ..\n",
       "20/03/2018     1\n",
       "15/01.2015     1\n",
       "18/01/2018     1\n",
       "13/02/2019     1\n",
       "27/05/2018     1\n",
       "Name: Date dd/mm/yyyy, Length: 1035, dtype: int64"
      ]
     },
     "metadata": {},
     "execution_count": 13
    }
   ],
   "source": [
    "data['Date dd/mm/yyyy'].value_counts()"
   ]
  },
  {
   "cell_type": "code",
   "execution_count": 43,
   "metadata": {},
   "outputs": [
    {
     "output_type": "execute_result",
     "data": {
      "text/plain": [
       "Consumer Internet                          941\n",
       "Technology                                 478\n",
       "E-Commerce                                 296\n",
       "Healthcare                                  70\n",
       "Finance                                     62\n",
       "Education                                   43\n",
       "Logistics                                   32\n",
       "Food & Beverage                             23\n",
       "Fintech                                     16\n",
       "IT                                           8\n",
       "Food and Beverage                            6\n",
       "Real Estate                                  6\n",
       "Others                                       6\n",
       "Logistics Tech                               5\n",
       "Health and Wellness                          5\n",
       "Online Food Delivery                         5\n",
       "Transport                                    4\n",
       "Transportation                               4\n",
       "ecommerce                                    3\n",
       "Food & Beverages                             3\n",
       "Food                                         3\n",
       "Services                                     3\n",
       "Food Delivery Platform                       3\n",
       "FMCG                                         3\n",
       "Social Media                                 3\n",
       "Big Data & Analytics platform                3\n",
       "SaaS                                         3\n",
       "EdTech                                       3\n",
       "Automobile                                   3\n",
       "Information Technology                       3\n",
       "Food and Beverages                           3\n",
       "Hyperlocal Handyman Services                 3\n",
       "Hyper-Local Online/Mobile Grocery            2\n",
       "Travel Tech                                  2\n",
       "Online Payment Gateway                       2\n",
       "Financial Tech                               2\n",
       "Consumer Goods                               2\n",
       "Last Mile Transportation                     2\n",
       "Gaming                                       2\n",
       "Home services marketplace                    2\n",
       "Online Marketplace                           2\n",
       "Online Hiring Platform                       2\n",
       "Online food ordering & Delivery service      2\n",
       "Online Logistics Platform                    2\n",
       "B2B                                          2\n",
       "Software                                     2\n",
       "Digital Media                                2\n",
       "Car & Bike ecommerce platform                2\n",
       "Agriculture                                  2\n",
       "Digital / Mobile Wallet                      2\n",
       "Logistics Tech Platform                      2\n",
       "Tech                                         2\n",
       "Used Car Marketplace                         2\n",
       "Online budget hotel chain                    2\n",
       "Hyperlocal services marketplace              2\n",
       "Online Grocery platform                      2\n",
       "Cab rental Mobile app                        2\n",
       "Mobile Fitness App                           2\n",
       "Fashion Discovery platform                   2\n",
       "Job Search Platform                          2\n",
       "Name: Industry Vertical, dtype: int64"
      ]
     },
     "metadata": {},
     "execution_count": 43
    }
   ],
   "source": [
    "data['Industry Vertical'].value_counts()[:60]"
   ]
  },
  {
   "cell_type": "code",
   "execution_count": 15,
   "metadata": {},
   "outputs": [
    {
     "output_type": "execute_result",
     "data": {
      "text/plain": [
       "821"
      ]
     },
     "metadata": {},
     "execution_count": 15
    }
   ],
   "source": [
    "data['Industry Vertical'].nunique()"
   ]
  },
  {
   "cell_type": "code",
   "execution_count": 16,
   "metadata": {},
   "outputs": [],
   "source": [
    "import nltk as tk"
   ]
  },
  {
   "cell_type": "code",
   "execution_count": 57,
   "metadata": {},
   "outputs": [],
   "source": [
    "data['Industry Vertical']=data['Industry Vertical'].map(lambda x: 'E-Commerce' if (str(x)=='eCommerce' or str(x)=='ECommerce' or str(x)=='E-commerce' or str(x)=='Ecommerce' or str(x)=='ecommerce') else x)\n",
    "data['Industry Vertical']=data['Industry Vertical'].map(lambda x: 'Education' if (str(x)=='Education' or str(x)=='Ed-Tech' or str(x)=='Online Education Platform' or str(x)=='EdTech' or str(x)=='Edtech') else x)\n",
    "data['Industry Vertical']=data['Industry Vertical'].map(lambda x: 'Fintech' if (str(x)=='FinTech' or str(x)=='Fin-Tech' or str(x)=='Financial Tech') else x)\n",
    "data['Industry Vertical']=data['Industry Vertical'].map(lambda x: 'Food & Beverage' if(str(x)=='Food & Beverage' or str(x)=='Food and Beverage' or str(x)=='Food' or str(x)=='Food & Beverages' or str(x)=='Food and Beverages') else x)\n",
    "data['Industry Vertical']=data['Industry Vertical'].map(lambda x: 'Transport' if(str(x)=='Transportation') else x)"
   ]
  },
  {
   "cell_type": "code",
   "execution_count": 58,
   "metadata": {},
   "outputs": [
    {
     "output_type": "execute_result",
     "data": {
      "text/plain": [
       "Consumer Internet                941\n",
       "Technology                       478\n",
       "E-Commerce                       299\n",
       "Healthcare                        70\n",
       "Finance                           62\n",
       "Education                         48\n",
       "Food & Beverage                   38\n",
       "Logistics                         32\n",
       "Fintech                           18\n",
       "Transport                          8\n",
       "IT                                 8\n",
       "Real Estate                        6\n",
       "Others                             6\n",
       "Online Food Delivery               5\n",
       "Logistics Tech                     5\n",
       "Health and Wellness                5\n",
       "Automobile                         3\n",
       "FMCG                               3\n",
       "Big Data & Analytics platform      3\n",
       "Social Media                       3\n",
       "Name: Industry Vertical, dtype: int64"
      ]
     },
     "metadata": {},
     "execution_count": 58
    }
   ],
   "source": [
    "data['Industry Vertical'].value_counts()[:20]"
   ]
  },
  {
   "cell_type": "code",
   "execution_count": 19,
   "metadata": {},
   "outputs": [
    {
     "output_type": "execute_result",
     "data": {
      "text/plain": [
       "<AxesSubplot:ylabel='Industry Vertical'>"
      ]
     },
     "metadata": {},
     "execution_count": 19
    },
    {
     "output_type": "display_data",
     "data": {
      "text/plain": "<Figure size 432x288 with 1 Axes>",
      "image/svg+xml": "<?xml version=\"1.0\" encoding=\"utf-8\" standalone=\"no\"?>\r\n<!DOCTYPE svg PUBLIC \"-//W3C//DTD SVG 1.1//EN\"\r\n  \"http://www.w3.org/Graphics/SVG/1.1/DTD/svg11.dtd\">\r\n<svg height=\"231.84pt\" version=\"1.1\" viewBox=\"0 0 326.89096 231.84\" width=\"326.89096pt\" xmlns=\"http://www.w3.org/2000/svg\" xmlns:xlink=\"http://www.w3.org/1999/xlink\">\r\n <metadata>\r\n  <rdf:RDF xmlns:cc=\"http://creativecommons.org/ns#\" xmlns:dc=\"http://purl.org/dc/elements/1.1/\" xmlns:rdf=\"http://www.w3.org/1999/02/22-rdf-syntax-ns#\">\r\n   <cc:Work>\r\n    <dc:type rdf:resource=\"http://purl.org/dc/dcmitype/StillImage\"/>\r\n    <dc:date>2021-05-05T16:18:14.754799</dc:date>\r\n    <dc:format>image/svg+xml</dc:format>\r\n    <dc:creator>\r\n     <cc:Agent>\r\n      <dc:title>Matplotlib v3.4.1, https://matplotlib.org/</dc:title>\r\n     </cc:Agent>\r\n    </dc:creator>\r\n   </cc:Work>\r\n  </rdf:RDF>\r\n </metadata>\r\n <defs>\r\n  <style type=\"text/css\">*{stroke-linecap:butt;stroke-linejoin:round;}</style>\r\n </defs>\r\n <g id=\"figure_1\">\r\n  <g id=\"patch_1\">\r\n   <path d=\"M 0 231.84 \r\nL 326.89096 231.84 \r\nL 326.89096 0 \r\nL 0 0 \r\nz\r\n\" style=\"fill:none;\"/>\r\n  </g>\r\n  <g id=\"axes_1\">\r\n   <g id=\"patch_2\">\r\n    <path d=\"M 225.628248 115.92 \r\nC 225.628248 93.672593 217.092322 72.25163 201.791446 56.101388 \r\nC 186.490569 39.951146 165.561535 30.271521 143.346554 29.070774 \r\nC 121.131574 27.870027 99.28113 35.23737 82.328603 49.644276 \r\nC 65.376075 64.051183 54.580967 84.427279 52.182974 106.545072 \r\nL 138.652248 115.92 \r\nL 225.628248 115.92 \r\nz\r\n\" style=\"fill:#1f77b4;\"/>\r\n   </g>\r\n   <g id=\"patch_3\">\r\n    <path d=\"M 52.182974 106.545072 \r\nC 49.745855 129.023742 56.167656 151.589971 70.07492 169.417427 \r\nC 83.982184 187.244882 104.307334 198.965058 126.703346 202.071311 \r\nL 138.652248 115.92 \r\nL 52.182974 106.545072 \r\nz\r\n\" style=\"fill:#ff7f0e;\"/>\r\n   </g>\r\n   <g id=\"patch_4\">\r\n    <path d=\"M 126.703346 202.071311 \r\nC 140.469566 203.98064 154.494995 202.562866 167.600616 197.937173 \r\nC 180.706236 193.311479 192.51423 185.611218 202.031983 175.483695 \r\nL 138.652248 115.92 \r\nL 126.703346 202.071311 \r\nz\r\n\" style=\"fill:#2ca02c;\"/>\r\n   </g>\r\n   <g id=\"patch_5\">\r\n    <path d=\"M 202.031983 175.483695 \r\nC 204.272827 173.099288 206.377331 170.590325 208.335457 167.968776 \r\nC 210.293582 165.347226 212.10221 162.617264 213.752714 159.791911 \r\nL 138.652248 115.92 \r\nL 202.031983 175.483695 \r\nz\r\n\" style=\"fill:#d62728;\"/>\r\n   </g>\r\n   <g id=\"patch_6\">\r\n    <path d=\"M 213.752714 159.791911 \r\nC 215.214505 157.2896 216.55032 154.715791 217.755158 152.08012 \r\nC 218.959996 149.444448 220.032352 146.750206 220.968214 144.007477 \r\nL 138.652248 115.92 \r\nL 213.752714 159.791911 \r\nz\r\n\" style=\"fill:#9467bd;\"/>\r\n   </g>\r\n   <g id=\"patch_7\">\r\n    <path d=\"M 220.968214 144.007477 \r\nC 221.451165 142.592091 221.897531 141.164484 222.306866 139.726081 \r\nC 222.716201 138.287677 223.088369 136.838955 223.422998 135.38136 \r\nL 138.652248 115.92 \r\nL 220.968214 144.007477 \r\nz\r\n\" style=\"fill:#8c564b;\"/>\r\n   </g>\r\n   <g id=\"patch_8\">\r\n    <path d=\"M 223.422998 135.38136 \r\nC 223.673964 134.288191 223.903761 133.190269 224.11226 132.08821 \r\nC 224.320758 130.986152 224.50792 129.880164 224.67364 128.770867 \r\nL 138.652248 115.92 \r\nL 223.422998 135.38136 \r\nz\r\n\" style=\"fill:#e377c2;\"/>\r\n   </g>\r\n   <g id=\"patch_9\">\r\n    <path d=\"M 224.67364 128.770867 \r\nC 224.832454 127.707793 224.971548 126.641866 225.09085 125.573636 \r\nC 225.210152 124.505406 225.309642 123.435056 225.389268 122.363138 \r\nL 138.652248 115.92 \r\nL 224.67364 128.770867 \r\nz\r\n\" style=\"fill:#7f7f7f;\"/>\r\n   </g>\r\n   <g id=\"patch_10\">\r\n    <path d=\"M 225.389268 122.363138 \r\nC 225.437735 121.710678 225.478838 121.057692 225.51257 120.404304 \r\nC 225.546303 119.750917 225.572661 119.097169 225.591641 118.443187 \r\nL 138.652248 115.92 \r\nL 225.389268 122.363138 \r\nz\r\n\" style=\"fill:#bcbd22;\"/>\r\n   </g>\r\n   <g id=\"patch_11\">\r\n    <path d=\"M 225.591641 118.443187 \r\nC 225.603843 118.022773 225.612995 117.602275 225.619096 117.181728 \r\nC 225.625197 116.76118 225.628248 116.340594 225.628248 115.920003 \r\nL 138.652248 115.92 \r\nL 225.591641 118.443187 \r\nz\r\n\" style=\"fill:#17becf;\"/>\r\n   </g>\r\n   <g id=\"matplotlib.axis_1\"/>\r\n   <g id=\"matplotlib.axis_2\">\r\n    <g id=\"text_1\">\r\n     <!-- Industry Vertical -->\r\n     <g transform=\"translate(23.852561 156.791875)rotate(-90)scale(0.1 -0.1)\">\r\n      <defs>\r\n       <path d=\"M 628 4666 \r\nL 1259 4666 \r\nL 1259 0 \r\nL 628 0 \r\nL 628 4666 \r\nz\r\n\" id=\"DejaVuSans-49\" transform=\"scale(0.015625)\"/>\r\n       <path d=\"M 3513 2113 \r\nL 3513 0 \r\nL 2938 0 \r\nL 2938 2094 \r\nQ 2938 2591 2744 2837 \r\nQ 2550 3084 2163 3084 \r\nQ 1697 3084 1428 2787 \r\nQ 1159 2491 1159 1978 \r\nL 1159 0 \r\nL 581 0 \r\nL 581 3500 \r\nL 1159 3500 \r\nL 1159 2956 \r\nQ 1366 3272 1645 3428 \r\nQ 1925 3584 2291 3584 \r\nQ 2894 3584 3203 3211 \r\nQ 3513 2838 3513 2113 \r\nz\r\n\" id=\"DejaVuSans-6e\" transform=\"scale(0.015625)\"/>\r\n       <path d=\"M 2906 2969 \r\nL 2906 4863 \r\nL 3481 4863 \r\nL 3481 0 \r\nL 2906 0 \r\nL 2906 525 \r\nQ 2725 213 2448 61 \r\nQ 2172 -91 1784 -91 \r\nQ 1150 -91 751 415 \r\nQ 353 922 353 1747 \r\nQ 353 2572 751 3078 \r\nQ 1150 3584 1784 3584 \r\nQ 2172 3584 2448 3432 \r\nQ 2725 3281 2906 2969 \r\nz\r\nM 947 1747 \r\nQ 947 1113 1208 752 \r\nQ 1469 391 1925 391 \r\nQ 2381 391 2643 752 \r\nQ 2906 1113 2906 1747 \r\nQ 2906 2381 2643 2742 \r\nQ 2381 3103 1925 3103 \r\nQ 1469 3103 1208 2742 \r\nQ 947 2381 947 1747 \r\nz\r\n\" id=\"DejaVuSans-64\" transform=\"scale(0.015625)\"/>\r\n       <path d=\"M 544 1381 \r\nL 544 3500 \r\nL 1119 3500 \r\nL 1119 1403 \r\nQ 1119 906 1312 657 \r\nQ 1506 409 1894 409 \r\nQ 2359 409 2629 706 \r\nQ 2900 1003 2900 1516 \r\nL 2900 3500 \r\nL 3475 3500 \r\nL 3475 0 \r\nL 2900 0 \r\nL 2900 538 \r\nQ 2691 219 2414 64 \r\nQ 2138 -91 1772 -91 \r\nQ 1169 -91 856 284 \r\nQ 544 659 544 1381 \r\nz\r\nM 1991 3584 \r\nL 1991 3584 \r\nz\r\n\" id=\"DejaVuSans-75\" transform=\"scale(0.015625)\"/>\r\n       <path d=\"M 2834 3397 \r\nL 2834 2853 \r\nQ 2591 2978 2328 3040 \r\nQ 2066 3103 1784 3103 \r\nQ 1356 3103 1142 2972 \r\nQ 928 2841 928 2578 \r\nQ 928 2378 1081 2264 \r\nQ 1234 2150 1697 2047 \r\nL 1894 2003 \r\nQ 2506 1872 2764 1633 \r\nQ 3022 1394 3022 966 \r\nQ 3022 478 2636 193 \r\nQ 2250 -91 1575 -91 \r\nQ 1294 -91 989 -36 \r\nQ 684 19 347 128 \r\nL 347 722 \r\nQ 666 556 975 473 \r\nQ 1284 391 1588 391 \r\nQ 1994 391 2212 530 \r\nQ 2431 669 2431 922 \r\nQ 2431 1156 2273 1281 \r\nQ 2116 1406 1581 1522 \r\nL 1381 1569 \r\nQ 847 1681 609 1914 \r\nQ 372 2147 372 2553 \r\nQ 372 3047 722 3315 \r\nQ 1072 3584 1716 3584 \r\nQ 2034 3584 2315 3537 \r\nQ 2597 3491 2834 3397 \r\nz\r\n\" id=\"DejaVuSans-73\" transform=\"scale(0.015625)\"/>\r\n       <path d=\"M 1172 4494 \r\nL 1172 3500 \r\nL 2356 3500 \r\nL 2356 3053 \r\nL 1172 3053 \r\nL 1172 1153 \r\nQ 1172 725 1289 603 \r\nQ 1406 481 1766 481 \r\nL 2356 481 \r\nL 2356 0 \r\nL 1766 0 \r\nQ 1100 0 847 248 \r\nQ 594 497 594 1153 \r\nL 594 3053 \r\nL 172 3053 \r\nL 172 3500 \r\nL 594 3500 \r\nL 594 4494 \r\nL 1172 4494 \r\nz\r\n\" id=\"DejaVuSans-74\" transform=\"scale(0.015625)\"/>\r\n       <path d=\"M 2631 2963 \r\nQ 2534 3019 2420 3045 \r\nQ 2306 3072 2169 3072 \r\nQ 1681 3072 1420 2755 \r\nQ 1159 2438 1159 1844 \r\nL 1159 0 \r\nL 581 0 \r\nL 581 3500 \r\nL 1159 3500 \r\nL 1159 2956 \r\nQ 1341 3275 1631 3429 \r\nQ 1922 3584 2338 3584 \r\nQ 2397 3584 2469 3576 \r\nQ 2541 3569 2628 3553 \r\nL 2631 2963 \r\nz\r\n\" id=\"DejaVuSans-72\" transform=\"scale(0.015625)\"/>\r\n       <path d=\"M 2059 -325 \r\nQ 1816 -950 1584 -1140 \r\nQ 1353 -1331 966 -1331 \r\nL 506 -1331 \r\nL 506 -850 \r\nL 844 -850 \r\nQ 1081 -850 1212 -737 \r\nQ 1344 -625 1503 -206 \r\nL 1606 56 \r\nL 191 3500 \r\nL 800 3500 \r\nL 1894 763 \r\nL 2988 3500 \r\nL 3597 3500 \r\nL 2059 -325 \r\nz\r\n\" id=\"DejaVuSans-79\" transform=\"scale(0.015625)\"/>\r\n       <path id=\"DejaVuSans-20\" transform=\"scale(0.015625)\"/>\r\n       <path d=\"M 1831 0 \r\nL 50 4666 \r\nL 709 4666 \r\nL 2188 738 \r\nL 3669 4666 \r\nL 4325 4666 \r\nL 2547 0 \r\nL 1831 0 \r\nz\r\n\" id=\"DejaVuSans-56\" transform=\"scale(0.015625)\"/>\r\n       <path d=\"M 3597 1894 \r\nL 3597 1613 \r\nL 953 1613 \r\nQ 991 1019 1311 708 \r\nQ 1631 397 2203 397 \r\nQ 2534 397 2845 478 \r\nQ 3156 559 3463 722 \r\nL 3463 178 \r\nQ 3153 47 2828 -22 \r\nQ 2503 -91 2169 -91 \r\nQ 1331 -91 842 396 \r\nQ 353 884 353 1716 \r\nQ 353 2575 817 3079 \r\nQ 1281 3584 2069 3584 \r\nQ 2775 3584 3186 3129 \r\nQ 3597 2675 3597 1894 \r\nz\r\nM 3022 2063 \r\nQ 3016 2534 2758 2815 \r\nQ 2500 3097 2075 3097 \r\nQ 1594 3097 1305 2825 \r\nQ 1016 2553 972 2059 \r\nL 3022 2063 \r\nz\r\n\" id=\"DejaVuSans-65\" transform=\"scale(0.015625)\"/>\r\n       <path d=\"M 603 3500 \r\nL 1178 3500 \r\nL 1178 0 \r\nL 603 0 \r\nL 603 3500 \r\nz\r\nM 603 4863 \r\nL 1178 4863 \r\nL 1178 4134 \r\nL 603 4134 \r\nL 603 4863 \r\nz\r\n\" id=\"DejaVuSans-69\" transform=\"scale(0.015625)\"/>\r\n       <path d=\"M 3122 3366 \r\nL 3122 2828 \r\nQ 2878 2963 2633 3030 \r\nQ 2388 3097 2138 3097 \r\nQ 1578 3097 1268 2742 \r\nQ 959 2388 959 1747 \r\nQ 959 1106 1268 751 \r\nQ 1578 397 2138 397 \r\nQ 2388 397 2633 464 \r\nQ 2878 531 3122 666 \r\nL 3122 134 \r\nQ 2881 22 2623 -34 \r\nQ 2366 -91 2075 -91 \r\nQ 1284 -91 818 406 \r\nQ 353 903 353 1747 \r\nQ 353 2603 823 3093 \r\nQ 1294 3584 2113 3584 \r\nQ 2378 3584 2631 3529 \r\nQ 2884 3475 3122 3366 \r\nz\r\n\" id=\"DejaVuSans-63\" transform=\"scale(0.015625)\"/>\r\n       <path d=\"M 2194 1759 \r\nQ 1497 1759 1228 1600 \r\nQ 959 1441 959 1056 \r\nQ 959 750 1161 570 \r\nQ 1363 391 1709 391 \r\nQ 2188 391 2477 730 \r\nQ 2766 1069 2766 1631 \r\nL 2766 1759 \r\nL 2194 1759 \r\nz\r\nM 3341 1997 \r\nL 3341 0 \r\nL 2766 0 \r\nL 2766 531 \r\nQ 2569 213 2275 61 \r\nQ 1981 -91 1556 -91 \r\nQ 1019 -91 701 211 \r\nQ 384 513 384 1019 \r\nQ 384 1609 779 1909 \r\nQ 1175 2209 1959 2209 \r\nL 2766 2209 \r\nL 2766 2266 \r\nQ 2766 2663 2505 2880 \r\nQ 2244 3097 1772 3097 \r\nQ 1472 3097 1187 3025 \r\nQ 903 2953 641 2809 \r\nL 641 3341 \r\nQ 956 3463 1253 3523 \r\nQ 1550 3584 1831 3584 \r\nQ 2591 3584 2966 3190 \r\nQ 3341 2797 3341 1997 \r\nz\r\n\" id=\"DejaVuSans-61\" transform=\"scale(0.015625)\"/>\r\n       <path d=\"M 603 4863 \r\nL 1178 4863 \r\nL 1178 0 \r\nL 603 0 \r\nL 603 4863 \r\nz\r\n\" id=\"DejaVuSans-6c\" transform=\"scale(0.015625)\"/>\r\n      </defs>\r\n      <use xlink:href=\"#DejaVuSans-49\"/>\r\n      <use x=\"29.492188\" xlink:href=\"#DejaVuSans-6e\"/>\r\n      <use x=\"92.871094\" xlink:href=\"#DejaVuSans-64\"/>\r\n      <use x=\"156.347656\" xlink:href=\"#DejaVuSans-75\"/>\r\n      <use x=\"219.726562\" xlink:href=\"#DejaVuSans-73\"/>\r\n      <use x=\"271.826172\" xlink:href=\"#DejaVuSans-74\"/>\r\n      <use x=\"311.035156\" xlink:href=\"#DejaVuSans-72\"/>\r\n      <use x=\"352.148438\" xlink:href=\"#DejaVuSans-79\"/>\r\n      <use x=\"411.328125\" xlink:href=\"#DejaVuSans-20\"/>\r\n      <use x=\"443.115234\" xlink:href=\"#DejaVuSans-56\"/>\r\n      <use x=\"503.773438\" xlink:href=\"#DejaVuSans-65\"/>\r\n      <use x=\"565.296875\" xlink:href=\"#DejaVuSans-72\"/>\r\n      <use x=\"606.410156\" xlink:href=\"#DejaVuSans-74\"/>\r\n      <use x=\"645.619141\" xlink:href=\"#DejaVuSans-69\"/>\r\n      <use x=\"673.402344\" xlink:href=\"#DejaVuSans-63\"/>\r\n      <use x=\"728.382812\" xlink:href=\"#DejaVuSans-61\"/>\r\n      <use x=\"789.662109\" xlink:href=\"#DejaVuSans-6c\"/>\r\n     </g>\r\n    </g>\r\n   </g>\r\n   <g id=\"text_2\">\r\n    <!-- Consumer Internet -->\r\n    <g transform=\"translate(143.815985 23.145226)scale(0.1 -0.1)\">\r\n     <defs>\r\n      <path d=\"M 4122 4306 \r\nL 4122 3641 \r\nQ 3803 3938 3442 4084 \r\nQ 3081 4231 2675 4231 \r\nQ 1875 4231 1450 3742 \r\nQ 1025 3253 1025 2328 \r\nQ 1025 1406 1450 917 \r\nQ 1875 428 2675 428 \r\nQ 3081 428 3442 575 \r\nQ 3803 722 4122 1019 \r\nL 4122 359 \r\nQ 3791 134 3420 21 \r\nQ 3050 -91 2638 -91 \r\nQ 1578 -91 968 557 \r\nQ 359 1206 359 2328 \r\nQ 359 3453 968 4101 \r\nQ 1578 4750 2638 4750 \r\nQ 3056 4750 3426 4639 \r\nQ 3797 4528 4122 4306 \r\nz\r\n\" id=\"DejaVuSans-43\" transform=\"scale(0.015625)\"/>\r\n      <path d=\"M 1959 3097 \r\nQ 1497 3097 1228 2736 \r\nQ 959 2375 959 1747 \r\nQ 959 1119 1226 758 \r\nQ 1494 397 1959 397 \r\nQ 2419 397 2687 759 \r\nQ 2956 1122 2956 1747 \r\nQ 2956 2369 2687 2733 \r\nQ 2419 3097 1959 3097 \r\nz\r\nM 1959 3584 \r\nQ 2709 3584 3137 3096 \r\nQ 3566 2609 3566 1747 \r\nQ 3566 888 3137 398 \r\nQ 2709 -91 1959 -91 \r\nQ 1206 -91 779 398 \r\nQ 353 888 353 1747 \r\nQ 353 2609 779 3096 \r\nQ 1206 3584 1959 3584 \r\nz\r\n\" id=\"DejaVuSans-6f\" transform=\"scale(0.015625)\"/>\r\n      <path d=\"M 3328 2828 \r\nQ 3544 3216 3844 3400 \r\nQ 4144 3584 4550 3584 \r\nQ 5097 3584 5394 3201 \r\nQ 5691 2819 5691 2113 \r\nL 5691 0 \r\nL 5113 0 \r\nL 5113 2094 \r\nQ 5113 2597 4934 2840 \r\nQ 4756 3084 4391 3084 \r\nQ 3944 3084 3684 2787 \r\nQ 3425 2491 3425 1978 \r\nL 3425 0 \r\nL 2847 0 \r\nL 2847 2094 \r\nQ 2847 2600 2669 2842 \r\nQ 2491 3084 2119 3084 \r\nQ 1678 3084 1418 2786 \r\nQ 1159 2488 1159 1978 \r\nL 1159 0 \r\nL 581 0 \r\nL 581 3500 \r\nL 1159 3500 \r\nL 1159 2956 \r\nQ 1356 3278 1631 3431 \r\nQ 1906 3584 2284 3584 \r\nQ 2666 3584 2933 3390 \r\nQ 3200 3197 3328 2828 \r\nz\r\n\" id=\"DejaVuSans-6d\" transform=\"scale(0.015625)\"/>\r\n     </defs>\r\n     <use xlink:href=\"#DejaVuSans-43\"/>\r\n     <use x=\"69.824219\" xlink:href=\"#DejaVuSans-6f\"/>\r\n     <use x=\"131.005859\" xlink:href=\"#DejaVuSans-6e\"/>\r\n     <use x=\"194.384766\" xlink:href=\"#DejaVuSans-73\"/>\r\n     <use x=\"246.484375\" xlink:href=\"#DejaVuSans-75\"/>\r\n     <use x=\"309.863281\" xlink:href=\"#DejaVuSans-6d\"/>\r\n     <use x=\"407.275391\" xlink:href=\"#DejaVuSans-65\"/>\r\n     <use x=\"468.798828\" xlink:href=\"#DejaVuSans-72\"/>\r\n     <use x=\"509.912109\" xlink:href=\"#DejaVuSans-20\"/>\r\n     <use x=\"541.699219\" xlink:href=\"#DejaVuSans-49\"/>\r\n     <use x=\"571.191406\" xlink:href=\"#DejaVuSans-6e\"/>\r\n     <use x=\"634.570312\" xlink:href=\"#DejaVuSans-74\"/>\r\n     <use x=\"673.779297\" xlink:href=\"#DejaVuSans-65\"/>\r\n     <use x=\"735.302734\" xlink:href=\"#DejaVuSans-72\"/>\r\n     <use x=\"774.666016\" xlink:href=\"#DejaVuSans-6e\"/>\r\n     <use x=\"838.044922\" xlink:href=\"#DejaVuSans-65\"/>\r\n     <use x=\"899.568359\" xlink:href=\"#DejaVuSans-74\"/>\r\n    </g>\r\n   </g>\r\n   <g id=\"text_3\">\r\n    <!-- Technology -->\r\n    <g transform=\"translate(7.2 177.526545)scale(0.1 -0.1)\">\r\n     <defs>\r\n      <path d=\"M -19 4666 \r\nL 3928 4666 \r\nL 3928 4134 \r\nL 2272 4134 \r\nL 2272 0 \r\nL 1638 0 \r\nL 1638 4134 \r\nL -19 4134 \r\nL -19 4666 \r\nz\r\n\" id=\"DejaVuSans-54\" transform=\"scale(0.015625)\"/>\r\n      <path d=\"M 3513 2113 \r\nL 3513 0 \r\nL 2938 0 \r\nL 2938 2094 \r\nQ 2938 2591 2744 2837 \r\nQ 2550 3084 2163 3084 \r\nQ 1697 3084 1428 2787 \r\nQ 1159 2491 1159 1978 \r\nL 1159 0 \r\nL 581 0 \r\nL 581 4863 \r\nL 1159 4863 \r\nL 1159 2956 \r\nQ 1366 3272 1645 3428 \r\nQ 1925 3584 2291 3584 \r\nQ 2894 3584 3203 3211 \r\nQ 3513 2838 3513 2113 \r\nz\r\n\" id=\"DejaVuSans-68\" transform=\"scale(0.015625)\"/>\r\n      <path d=\"M 2906 1791 \r\nQ 2906 2416 2648 2759 \r\nQ 2391 3103 1925 3103 \r\nQ 1463 3103 1205 2759 \r\nQ 947 2416 947 1791 \r\nQ 947 1169 1205 825 \r\nQ 1463 481 1925 481 \r\nQ 2391 481 2648 825 \r\nQ 2906 1169 2906 1791 \r\nz\r\nM 3481 434 \r\nQ 3481 -459 3084 -895 \r\nQ 2688 -1331 1869 -1331 \r\nQ 1566 -1331 1297 -1286 \r\nQ 1028 -1241 775 -1147 \r\nL 775 -588 \r\nQ 1028 -725 1275 -790 \r\nQ 1522 -856 1778 -856 \r\nQ 2344 -856 2625 -561 \r\nQ 2906 -266 2906 331 \r\nL 2906 616 \r\nQ 2728 306 2450 153 \r\nQ 2172 0 1784 0 \r\nQ 1141 0 747 490 \r\nQ 353 981 353 1791 \r\nQ 353 2603 747 3093 \r\nQ 1141 3584 1784 3584 \r\nQ 2172 3584 2450 3431 \r\nQ 2728 3278 2906 2969 \r\nL 2906 3500 \r\nL 3481 3500 \r\nL 3481 434 \r\nz\r\n\" id=\"DejaVuSans-67\" transform=\"scale(0.015625)\"/>\r\n     </defs>\r\n     <use xlink:href=\"#DejaVuSans-54\"/>\r\n     <use x=\"44.083984\" xlink:href=\"#DejaVuSans-65\"/>\r\n     <use x=\"105.607422\" xlink:href=\"#DejaVuSans-63\"/>\r\n     <use x=\"160.587891\" xlink:href=\"#DejaVuSans-68\"/>\r\n     <use x=\"223.966797\" xlink:href=\"#DejaVuSans-6e\"/>\r\n     <use x=\"287.345703\" xlink:href=\"#DejaVuSans-6f\"/>\r\n     <use x=\"348.527344\" xlink:href=\"#DejaVuSans-6c\"/>\r\n     <use x=\"376.310547\" xlink:href=\"#DejaVuSans-6f\"/>\r\n     <use x=\"437.492188\" xlink:href=\"#DejaVuSans-67\"/>\r\n     <use x=\"500.96875\" xlink:href=\"#DejaVuSans-79\"/>\r\n    </g>\r\n   </g>\r\n   <g id=\"text_4\">\r\n    <!-- E-Commerce -->\r\n    <g transform=\"translate(170.495452 208.898265)scale(0.1 -0.1)\">\r\n     <defs>\r\n      <path d=\"M 628 4666 \r\nL 3578 4666 \r\nL 3578 4134 \r\nL 1259 4134 \r\nL 1259 2753 \r\nL 3481 2753 \r\nL 3481 2222 \r\nL 1259 2222 \r\nL 1259 531 \r\nL 3634 531 \r\nL 3634 0 \r\nL 628 0 \r\nL 628 4666 \r\nz\r\n\" id=\"DejaVuSans-45\" transform=\"scale(0.015625)\"/>\r\n      <path d=\"M 313 2009 \r\nL 1997 2009 \r\nL 1997 1497 \r\nL 313 1497 \r\nL 313 2009 \r\nz\r\n\" id=\"DejaVuSans-2d\" transform=\"scale(0.015625)\"/>\r\n     </defs>\r\n     <use xlink:href=\"#DejaVuSans-45\"/>\r\n     <use x=\"63.183594\" xlink:href=\"#DejaVuSans-2d\"/>\r\n     <use x=\"99.267578\" xlink:href=\"#DejaVuSans-43\"/>\r\n     <use x=\"169.091797\" xlink:href=\"#DejaVuSans-6f\"/>\r\n     <use x=\"230.273438\" xlink:href=\"#DejaVuSans-6d\"/>\r\n     <use x=\"327.685547\" xlink:href=\"#DejaVuSans-6d\"/>\r\n     <use x=\"425.097656\" xlink:href=\"#DejaVuSans-65\"/>\r\n     <use x=\"486.621094\" xlink:href=\"#DejaVuSans-72\"/>\r\n     <use x=\"525.484375\" xlink:href=\"#DejaVuSans-63\"/>\r\n     <use x=\"580.464844\" xlink:href=\"#DejaVuSans-65\"/>\r\n    </g>\r\n   </g>\r\n   <g id=\"text_5\">\r\n    <!-- Healthcare -->\r\n    <g transform=\"translate(215.303777 175.933028)scale(0.1 -0.1)\">\r\n     <defs>\r\n      <path d=\"M 628 4666 \r\nL 1259 4666 \r\nL 1259 2753 \r\nL 3553 2753 \r\nL 3553 4666 \r\nL 4184 4666 \r\nL 4184 0 \r\nL 3553 0 \r\nL 3553 2222 \r\nL 1259 2222 \r\nL 1259 0 \r\nL 628 0 \r\nL 628 4666 \r\nz\r\n\" id=\"DejaVuSans-48\" transform=\"scale(0.015625)\"/>\r\n     </defs>\r\n     <use xlink:href=\"#DejaVuSans-48\"/>\r\n     <use x=\"75.195312\" xlink:href=\"#DejaVuSans-65\"/>\r\n     <use x=\"136.71875\" xlink:href=\"#DejaVuSans-61\"/>\r\n     <use x=\"197.998047\" xlink:href=\"#DejaVuSans-6c\"/>\r\n     <use x=\"225.78125\" xlink:href=\"#DejaVuSans-74\"/>\r\n     <use x=\"264.990234\" xlink:href=\"#DejaVuSans-68\"/>\r\n     <use x=\"328.369141\" xlink:href=\"#DejaVuSans-63\"/>\r\n     <use x=\"383.349609\" xlink:href=\"#DejaVuSans-61\"/>\r\n     <use x=\"444.628906\" xlink:href=\"#DejaVuSans-72\"/>\r\n     <use x=\"483.492188\" xlink:href=\"#DejaVuSans-65\"/>\r\n    </g>\r\n   </g>\r\n   <g id=\"text_6\">\r\n    <!-- Finance -->\r\n    <g transform=\"translate(225.665449 158.455507)scale(0.1 -0.1)\">\r\n     <defs>\r\n      <path d=\"M 628 4666 \r\nL 3309 4666 \r\nL 3309 4134 \r\nL 1259 4134 \r\nL 1259 2759 \r\nL 3109 2759 \r\nL 3109 2228 \r\nL 1259 2228 \r\nL 1259 0 \r\nL 628 0 \r\nL 628 4666 \r\nz\r\n\" id=\"DejaVuSans-46\" transform=\"scale(0.015625)\"/>\r\n     </defs>\r\n     <use xlink:href=\"#DejaVuSans-46\"/>\r\n     <use x=\"50.269531\" xlink:href=\"#DejaVuSans-69\"/>\r\n     <use x=\"78.052734\" xlink:href=\"#DejaVuSans-6e\"/>\r\n     <use x=\"141.431641\" xlink:href=\"#DejaVuSans-61\"/>\r\n     <use x=\"202.710938\" xlink:href=\"#DejaVuSans-6e\"/>\r\n     <use x=\"266.089844\" xlink:href=\"#DejaVuSans-63\"/>\r\n     <use x=\"321.070312\" xlink:href=\"#DejaVuSans-65\"/>\r\n    </g>\r\n   </g>\r\n   <g id=\"text_7\">\r\n    <!-- Logistics -->\r\n    <g transform=\"translate(230.672328 144.866064)scale(0.1 -0.1)\">\r\n     <defs>\r\n      <path d=\"M 628 4666 \r\nL 1259 4666 \r\nL 1259 531 \r\nL 3531 531 \r\nL 3531 0 \r\nL 628 0 \r\nL 628 4666 \r\nz\r\n\" id=\"DejaVuSans-4c\" transform=\"scale(0.015625)\"/>\r\n     </defs>\r\n     <use xlink:href=\"#DejaVuSans-4c\"/>\r\n     <use x=\"53.962891\" xlink:href=\"#DejaVuSans-6f\"/>\r\n     <use x=\"115.144531\" xlink:href=\"#DejaVuSans-67\"/>\r\n     <use x=\"178.621094\" xlink:href=\"#DejaVuSans-69\"/>\r\n     <use x=\"206.404297\" xlink:href=\"#DejaVuSans-73\"/>\r\n     <use x=\"258.503906\" xlink:href=\"#DejaVuSans-74\"/>\r\n     <use x=\"297.712891\" xlink:href=\"#DejaVuSans-69\"/>\r\n     <use x=\"325.496094\" xlink:href=\"#DejaVuSans-63\"/>\r\n     <use x=\"380.476562\" xlink:href=\"#DejaVuSans-73\"/>\r\n    </g>\r\n   </g>\r\n   <g id=\"text_8\">\r\n    <!-- Education -->\r\n    <g transform=\"translate(232.658261 136.464407)scale(0.1 -0.1)\">\r\n     <use xlink:href=\"#DejaVuSans-45\"/>\r\n     <use x=\"63.183594\" xlink:href=\"#DejaVuSans-64\"/>\r\n     <use x=\"126.660156\" xlink:href=\"#DejaVuSans-75\"/>\r\n     <use x=\"190.039062\" xlink:href=\"#DejaVuSans-63\"/>\r\n     <use x=\"245.019531\" xlink:href=\"#DejaVuSans-61\"/>\r\n     <use x=\"306.298828\" xlink:href=\"#DejaVuSans-74\"/>\r\n     <use x=\"345.507812\" xlink:href=\"#DejaVuSans-69\"/>\r\n     <use x=\"373.291016\" xlink:href=\"#DejaVuSans-6f\"/>\r\n     <use x=\"434.472656\" xlink:href=\"#DejaVuSans-6e\"/>\r\n    </g>\r\n   </g>\r\n   <g id=\"text_9\">\r\n    <!-- Food &amp; Beverage -->\r\n    <g transform=\"translate(233.73471 129.298374)scale(0.1 -0.1)\">\r\n     <defs>\r\n      <path d=\"M 1556 2509 \r\nQ 1272 2256 1139 2004 \r\nQ 1006 1753 1006 1478 \r\nQ 1006 1022 1337 719 \r\nQ 1669 416 2169 416 \r\nQ 2466 416 2725 514 \r\nQ 2984 613 3213 813 \r\nL 1556 2509 \r\nz\r\nM 1997 2859 \r\nL 3584 1234 \r\nQ 3769 1513 3872 1830 \r\nQ 3975 2147 3994 2503 \r\nL 4575 2503 \r\nQ 4538 2091 4375 1687 \r\nQ 4213 1284 3922 891 \r\nL 4794 0 \r\nL 4006 0 \r\nL 3559 459 \r\nQ 3234 181 2878 45 \r\nQ 2522 -91 2113 -91 \r\nQ 1359 -91 881 339 \r\nQ 403 769 403 1441 \r\nQ 403 1841 612 2192 \r\nQ 822 2544 1241 2853 \r\nQ 1091 3050 1012 3245 \r\nQ 934 3441 934 3628 \r\nQ 934 4134 1281 4442 \r\nQ 1628 4750 2203 4750 \r\nQ 2463 4750 2720 4694 \r\nQ 2978 4638 3244 4525 \r\nL 3244 3956 \r\nQ 2972 4103 2725 4179 \r\nQ 2478 4256 2266 4256 \r\nQ 1938 4256 1733 4082 \r\nQ 1528 3909 1528 3634 \r\nQ 1528 3475 1620 3314 \r\nQ 1713 3153 1997 2859 \r\nz\r\n\" id=\"DejaVuSans-26\" transform=\"scale(0.015625)\"/>\r\n      <path d=\"M 1259 2228 \r\nL 1259 519 \r\nL 2272 519 \r\nQ 2781 519 3026 730 \r\nQ 3272 941 3272 1375 \r\nQ 3272 1813 3026 2020 \r\nQ 2781 2228 2272 2228 \r\nL 1259 2228 \r\nz\r\nM 1259 4147 \r\nL 1259 2741 \r\nL 2194 2741 \r\nQ 2656 2741 2882 2914 \r\nQ 3109 3088 3109 3444 \r\nQ 3109 3797 2882 3972 \r\nQ 2656 4147 2194 4147 \r\nL 1259 4147 \r\nz\r\nM 628 4666 \r\nL 2241 4666 \r\nQ 2963 4666 3353 4366 \r\nQ 3744 4066 3744 3513 \r\nQ 3744 3084 3544 2831 \r\nQ 3344 2578 2956 2516 \r\nQ 3422 2416 3680 2098 \r\nQ 3938 1781 3938 1306 \r\nQ 3938 681 3513 340 \r\nQ 3088 0 2303 0 \r\nL 628 0 \r\nL 628 4666 \r\nz\r\n\" id=\"DejaVuSans-42\" transform=\"scale(0.015625)\"/>\r\n      <path d=\"M 191 3500 \r\nL 800 3500 \r\nL 1894 563 \r\nL 2988 3500 \r\nL 3597 3500 \r\nL 2284 0 \r\nL 1503 0 \r\nL 191 3500 \r\nz\r\n\" id=\"DejaVuSans-76\" transform=\"scale(0.015625)\"/>\r\n     </defs>\r\n     <use xlink:href=\"#DejaVuSans-46\"/>\r\n     <use x=\"53.894531\" xlink:href=\"#DejaVuSans-6f\"/>\r\n     <use x=\"115.076172\" xlink:href=\"#DejaVuSans-6f\"/>\r\n     <use x=\"176.257812\" xlink:href=\"#DejaVuSans-64\"/>\r\n     <use x=\"239.734375\" xlink:href=\"#DejaVuSans-20\"/>\r\n     <use x=\"271.521484\" xlink:href=\"#DejaVuSans-26\"/>\r\n     <use x=\"349.5\" xlink:href=\"#DejaVuSans-20\"/>\r\n     <use x=\"381.287109\" xlink:href=\"#DejaVuSans-42\"/>\r\n     <use x=\"449.890625\" xlink:href=\"#DejaVuSans-65\"/>\r\n     <use x=\"511.414062\" xlink:href=\"#DejaVuSans-76\"/>\r\n     <use x=\"570.59375\" xlink:href=\"#DejaVuSans-65\"/>\r\n     <use x=\"632.117188\" xlink:href=\"#DejaVuSans-72\"/>\r\n     <use x=\"673.230469\" xlink:href=\"#DejaVuSans-61\"/>\r\n     <use x=\"734.509766\" xlink:href=\"#DejaVuSans-67\"/>\r\n     <use x=\"797.986328\" xlink:href=\"#DejaVuSans-65\"/>\r\n    </g>\r\n   </g>\r\n   <g id=\"text_10\">\r\n    <!-- Ed-Tech -->\r\n    <g transform=\"translate(234.198603 123.61211)scale(0.1 -0.1)\">\r\n     <use xlink:href=\"#DejaVuSans-45\"/>\r\n     <use x=\"63.183594\" xlink:href=\"#DejaVuSans-64\"/>\r\n     <use x=\"126.660156\" xlink:href=\"#DejaVuSans-2d\"/>\r\n     <use x=\"153.619141\" xlink:href=\"#DejaVuSans-54\"/>\r\n     <use x=\"197.703125\" xlink:href=\"#DejaVuSans-65\"/>\r\n     <use x=\"259.226562\" xlink:href=\"#DejaVuSans-63\"/>\r\n     <use x=\"314.207031\" xlink:href=\"#DejaVuSans-68\"/>\r\n    </g>\r\n   </g>\r\n   <g id=\"text_11\">\r\n    <!-- FinTech -->\r\n    <g transform=\"translate(234.315781 120.067275)scale(0.1 -0.1)\">\r\n     <use xlink:href=\"#DejaVuSans-46\"/>\r\n     <use x=\"50.269531\" xlink:href=\"#DejaVuSans-69\"/>\r\n     <use x=\"78.052734\" xlink:href=\"#DejaVuSans-6e\"/>\r\n     <use x=\"141.431641\" xlink:href=\"#DejaVuSans-54\"/>\r\n     <use x=\"185.515625\" xlink:href=\"#DejaVuSans-65\"/>\r\n     <use x=\"247.039062\" xlink:href=\"#DejaVuSans-63\"/>\r\n     <use x=\"302.019531\" xlink:href=\"#DejaVuSans-68\"/>\r\n    </g>\r\n   </g>\r\n  </g>\r\n </g>\r\n</svg>\r\n",
      "image/png": "[encoded data removed]"
     },
     "metadata": {}
    }
   ],
   "source": [
    "data['Industry Vertical'].value_counts()[:10].plot(kind='pie')"
   ]
  },
  {
   "cell_type": "code",
   "execution_count": 40,
   "metadata": {},
   "outputs": [],
   "source": [
    "data['City  Location']=data['City  Location'].map(lambda x: 'New Delhi' if (str(x)=='\\\\\\\\xc2\\\\\\\\xa0New Delhi') else x)\n",
    "data['City  Location']=data['City  Location'].map(lambda x: 'Gurugram' if (str(x)=='Gurugram' or str(x)=='Gurgaon' or str(x)=='\\\\\\\\xc2\\\\\\\\xa0Gurgaon') else x)\n",
    "data['City  Location']=data['City  Location'].map(lambda x: 'Mumbai' if (str(x)=='\\\\\\\\xc2\\\\\\\\xa0Mumbai') else x)\n",
    "data['City  Location']=data['City  Location'].map(lambda x: 'Noida' if (str(x)=='\\\\\\\\xc2\\\\\\\\xa0Noida') else x)"
   ]
  },
  {
   "cell_type": "code",
   "execution_count": 41,
   "metadata": {},
   "outputs": [
    {
     "output_type": "execute_result",
     "data": {
      "text/plain": [
       "Bangalore                 842\n",
       "Mumbai                    568\n",
       "New Delhi                 424\n",
       "Gurugram                  341\n",
       "Pune                      105\n",
       "Hyderabad                  99\n",
       "Chennai                    97\n",
       "Noida                      93\n",
       "Ahmedabad                  38\n",
       "Delhi                      34\n",
       "Jaipur                     30\n",
       "Kolkata                    21\n",
       "Indore                     13\n",
       "Chandigarh                 11\n",
       "Goa                        10\n",
       "Vadodara                   10\n",
       "Singapore                   8\n",
       "Coimbatore                  5\n",
       "Kanpur                      4\n",
       "Pune / US                   4\n",
       "Faridabad                   3\n",
       "Nagpur                      3\n",
       "Bhopal                      3\n",
       "San Francisco               2\n",
       "Siliguri                    2\n",
       "Bangalore / SFO             2\n",
       "New Delhi / US              2\n",
       "Kochi                       2\n",
       "India/US                    2\n",
       "Udaipur                     2\n",
       "Kormangala                  2\n",
       "Bangalore/ Bangkok          2\n",
       "Ahemadabad                  2\n",
       "Surat                       2\n",
       "Gwalior                     2\n",
       "Mumbai/Bengaluru            2\n",
       "Trivandrum                  2\n",
       "Udupi                       2\n",
       "Agra                        2\n",
       "Kerala                      1\n",
       "USA                         1\n",
       "Panaji                      1\n",
       "Belgaum                     1\n",
       "Menlo Park                  1\n",
       "Delhi & Cambridge           1\n",
       "Nairobi                     1\n",
       "Boston                      1\n",
       "Noida / Singapore           1\n",
       "Dallas / Hyderabad          1\n",
       "Nw Delhi                    1\n",
       "New York                    1\n",
       "New Delhi / California      1\n",
       "Chennai/ Singapore          1\n",
       "Andheri                     1\n",
       "Srinagar                    1\n",
       "Varanasi                    1\n",
       "Bangalore / San Mateo       1\n",
       "SFO / Bangalore             1\n",
       "Pune / Dubai                1\n",
       "Bangalore / USA             1\n",
       "Name: City  Location, dtype: int64"
      ]
     },
     "metadata": {},
     "execution_count": 41
    }
   ],
   "source": [
    "data['City  Location'].value_counts()[:60]"
   ]
  },
  {
   "cell_type": "code",
   "execution_count": 60,
   "metadata": {},
   "outputs": [
    {
     "output_type": "execute_result",
     "data": {
      "text/plain": [
       "Undisclosed Investors                                        39\n",
       "Undisclosed investors                                        30\n",
       "Ratan Tata                                                   25\n",
       "Indian Angel Network                                         23\n",
       "Kalaari Capital                                              16\n",
       "Group of Angel Investors                                     15\n",
       "Sequoia Capital                                              15\n",
       "Undisclosed Investor                                         12\n",
       "Accel Partners                                               12\n",
       "Brand Capital                                                11\n",
       "undisclosed investors                                        11\n",
       "Undisclosed                                                  11\n",
       "Venture Catalysts                                            11\n",
       "RoundGlass Partners                                          10\n",
       "SAIF Partners                                                10\n",
       "Info Edge (India) Ltd                                         9\n",
       "Undisclosed investor                                          9\n",
       "Nexus Venture Partners                                        9\n",
       "Trifecta Capital                                              8\n",
       "Unitus Seed Fund                                              8\n",
       "Blume Ventures                                                8\n",
       "Tiger Global                                                  8\n",
       "Matrix Partners                                               7\n",
       "YouWeCan Ventures                                             7\n",
       "Tiger Global Management                                       7\n",
       "Bessemer Venture Partners                                     6\n",
       "The Chennai Angels                                            6\n",
       "Y Combinator                                                  6\n",
       "IDG Ventures                                                  5\n",
       "LetsVenture                                                   5\n",
       "Hyderabad Angels (at Startup Heroes event)                    5\n",
       "ah! Ventures                                                  5\n",
       "Axilor Ventures                                               5\n",
       "InnoVen Capital                                               5\n",
       "Undisclosed HNIs                                              5\n",
       "Flipkart                                                      5\n",
       "Exfinity Venture Partners                                     5\n",
       "Kae Capital                                                   5\n",
       "Paytm                                                         5\n",
       "Omidyar Network                                               5\n",
       "India Educational Investment Fund                             5\n",
       "SRI Capital                                                   5\n",
       "Sixth Sense Ventures                                          5\n",
       "India Quotient                                                5\n",
       "Green House Ventures (GHV)                                    4\n",
       "Multiple investors through Ten Minute Million competition     4\n",
       "Infuse Ventures                                               4\n",
       "MakeMyTrip                                                    4\n",
       "Quarizon                                                      4\n",
       "Mumbai Angels                                                 4\n",
       "Name: Investors Name, dtype: int64"
      ]
     },
     "metadata": {},
     "execution_count": 60
    }
   ],
   "source": [
    "data['Investors Name'].value_counts()[:50]"
   ]
  },
  {
   "cell_type": "code",
   "execution_count": 61,
   "metadata": {},
   "outputs": [],
   "source": [
    "data['Investors Name']=data['Investors Name'].map(lambda x: 'Undisclosed Investors' if(str(x)=='Undisclosed investors' or str(x)=='Undisclosed Investor' or str(x)=='undisclosed investors' or str(x)=='Undisclosed' or str(x)=='Undisclosed investor') else x)"
   ]
  },
  {
   "cell_type": "code",
   "execution_count": 65,
   "metadata": {},
   "outputs": [
    {
     "output_type": "execute_result",
     "data": {
      "text/plain": [
       "Undisclosed Investors                                        112\n",
       "Ratan Tata                                                    25\n",
       "Indian Angel Network                                          23\n",
       "Kalaari Capital                                               16\n",
       "Sequoia Capital                                               15\n",
       "Group of Angel Investors                                      15\n",
       "Accel Partners                                                12\n",
       "Venture Catalysts                                             11\n",
       "Brand Capital                                                 11\n",
       "RoundGlass Partners                                           10\n",
       "SAIF Partners                                                 10\n",
       "Nexus Venture Partners                                         9\n",
       "Info Edge (India) Ltd                                          9\n",
       "Blume Ventures                                                 8\n",
       "Trifecta Capital                                               8\n",
       "Tiger Global                                                   8\n",
       "Unitus Seed Fund                                               8\n",
       "Matrix Partners                                                7\n",
       "Tiger Global Management                                        7\n",
       "YouWeCan Ventures                                              7\n",
       "Bessemer Venture Partners                                      6\n",
       "Y Combinator                                                   6\n",
       "The Chennai Angels                                             6\n",
       "Hyderabad Angels (at Startup Heroes event)                     5\n",
       "Omidyar Network                                                5\n",
       "InnoVen Capital                                                5\n",
       "SRI Capital                                                    5\n",
       "India Quotient                                                 5\n",
       "LetsVenture                                                    5\n",
       "Undisclosed HNIs                                               5\n",
       "Sixth Sense Ventures                                           5\n",
       "India Educational Investment Fund                              5\n",
       "Exfinity Venture Partners                                      5\n",
       "Flipkart                                                       5\n",
       "Axilor Ventures                                                5\n",
       "Paytm                                                          5\n",
       "Kae Capital                                                    5\n",
       "ah! Ventures                                                   5\n",
       "IDG Ventures                                                   5\n",
       "MakeMyTrip                                                     4\n",
       "IvyCap Ventures                                                4\n",
       "Multiple investors through Ten Minute Million competition      4\n",
       "Rainmatter                                                     4\n",
       "Eight Roads Ventures                                           4\n",
       "Vijay Shekhar Sharma                                           4\n",
       "Sequoia India                                                  4\n",
       "Jungle Ventures                                                4\n",
       "IFMR Capital                                                   4\n",
       "Green House Ventures (GHV)                                     4\n",
       "Mumbai Angels                                                  4\n",
       "YourNest Angel Fund                                            4\n",
       "Quarizon                                                       4\n",
       "Idein Ventures                                                 4\n",
       "Infuse Ventures                                                4\n",
       "Fireside Ventures                                              3\n",
       "Sequoia Capital India                                          3\n",
       "Rajan Anandan                                                  3\n",
       "Village Capital                                                3\n",
       "The Ten Minute Million                                         3\n",
       "Ideaspring Capital                                             3\n",
       "Name: Investors Name, dtype: int64"
      ]
     },
     "metadata": {},
     "execution_count": 65
    }
   ],
   "source": [
    "data['Investors Name'].value_counts()[:60]"
   ]
  },
  {
   "cell_type": "code",
   "execution_count": null,
   "metadata": {},
   "outputs": [],
   "source": []
  }
 ]
}