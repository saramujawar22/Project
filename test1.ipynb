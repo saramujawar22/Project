{
 "metadata": {
  "language_info": {
   "codemirror_mode": {
    "name": "ipython",
    "version": 3
   },
   "file_extension": ".py",
   "mimetype": "text/x-python",
   "name": "python",
   "nbconvert_exporter": "python",
   "pygments_lexer": "ipython3",
   "version": "3.7.9"
  },
  "orig_nbformat": 2,
  "kernelspec": {
   "name": "python379jvsc74a57bd004635d289a519a1410467dd0afb0db42f9184808881ca68b2eb5a687a20a5a94",
   "display_name": "Python 3.7.9 64-bit"
  }
 },
 "nbformat": 4,
 "nbformat_minor": 2,
 "cells": [
  {
   "cell_type": "code",
   "execution_count": 1,
   "metadata": {},
   "outputs": [],
   "source": [
    "import pandas as pd\n",
    "import numpy as np\n",
    "import matplotlib.pyplot as plt\n",
    "import seaborn as sns"
   ]
  },
  {
   "cell_type": "code",
   "execution_count": 3,
   "metadata": {},
   "outputs": [
    {
     "output_type": "execute_result",
     "data": {
      "text/plain": [
       "     Date dd/mm/yyyy                  Startup Name    Industry Vertical  \\\n",
       "0         09-01-2020                        BYJU’S               E-Tech   \n",
       "1         13-01-2020                        Shuttl       Transportation   \n",
       "2         09-01-2020                     Mamaearth           E-commerce   \n",
       "3         02-01-2020  https://www.wealthbucket.in/              FinTech   \n",
       "4         02-01-2020                        Fashor  Fashion and Apparel   \n",
       "...              ...                           ...                  ...   \n",
       "3039      29-01-2015                    Printvenue                  NaN   \n",
       "3040      29-01-2015                      Graphene                  NaN   \n",
       "3041      30-01-2015                Mad Street Den                  NaN   \n",
       "3042      30-01-2015                     Simplotel                  NaN   \n",
       "3043      31-01-2015              couponmachine.in                  NaN   \n",
       "\n",
       "                                SubVertical City  Location  \\\n",
       "0                                E-learning      Bengaluru   \n",
       "1                 App based shuttle service        Gurgaon   \n",
       "2     Retailer of baby and toddler products      Bengaluru   \n",
       "3                         Online Investment      New Delhi   \n",
       "4               Embroiled Clothes For Women         Mumbai   \n",
       "...                                     ...            ...   \n",
       "3039                                    NaN            NaN   \n",
       "3040                                    NaN            NaN   \n",
       "3041                                    NaN            NaN   \n",
       "3042                                    NaN            NaN   \n",
       "3043                                    NaN            NaN   \n",
       "\n",
       "                         Investors Name       InvestmentnType Amount in USD  \\\n",
       "0               Tiger Global Management  Private Equity Round  20,00,00,000   \n",
       "1             Susquehanna Growth Equity              Series C     80,48,394   \n",
       "2                 Sequoia Capital India              Series B   1,83,58,860   \n",
       "3                        Vinod Khatumal          Pre-series A     30,00,000   \n",
       "4               Sprout Venture Partners            Seed Round     18,00,000   \n",
       "...                                 ...                   ...           ...   \n",
       "3039        Asia Pacific Internet Group        Private Equity     45,00,000   \n",
       "3040                     KARSEMVEN Fund        Private Equity      8,25,000   \n",
       "3041     Exfinity Fund, GrowX Ventures.        Private Equity     15,00,000   \n",
       "3042                         MakeMyTrip        Private Equity           NaN   \n",
       "3043  UK based Group of Angel Investors          Seed Funding      1,40,000   \n",
       "\n",
       "                                Remarks  \n",
       "0                                   NaN  \n",
       "1                                   NaN  \n",
       "2                                   NaN  \n",
       "3                                   NaN  \n",
       "4                                   NaN  \n",
       "...                                 ...  \n",
       "3039                                NaN  \n",
       "3040                Govt backed VC Fund  \n",
       "3041                                NaN  \n",
       "3042  Strategic Funding, Minority stake  \n",
       "3043                                NaN  \n",
       "\n",
       "[3044 rows x 9 columns]"
      ],
      "text/html": "<div>\n<style scoped>\n    .dataframe tbody tr th:only-of-type {\n        vertical-align: middle;\n    }\n\n    .dataframe tbody tr th {\n        vertical-align: top;\n    }\n\n    .dataframe thead th {\n        text-align: right;\n    }\n</style>\n<table border=\"1\" class=\"dataframe\">\n  <thead>\n    <tr style=\"text-align: right;\">\n      <th></th>\n      <th>Date dd/mm/yyyy</th>\n      <th>Startup Name</th>\n      <th>Industry Vertical</th>\n      <th>SubVertical</th>\n      <th>City  Location</th>\n      <th>Investors Name</th>\n      <th>InvestmentnType</th>\n      <th>Amount in USD</th>\n      <th>Remarks</th>\n    </tr>\n  </thead>\n  <tbody>\n    <tr>\n      <th>0</th>\n      <td>09-01-2020</td>\n      <td>BYJU’S</td>\n      <td>E-Tech</td>\n      <td>E-learning</td>\n      <td>Bengaluru</td>\n      <td>Tiger Global Management</td>\n      <td>Private Equity Round</td>\n      <td>20,00,00,000</td>\n      <td>NaN</td>\n    </tr>\n    <tr>\n      <th>1</th>\n      <td>13-01-2020</td>\n      <td>Shuttl</td>\n      <td>Transportation</td>\n      <td>App based shuttle service</td>\n      <td>Gurgaon</td>\n      <td>Susquehanna Growth Equity</td>\n      <td>Series C</td>\n      <td>80,48,394</td>\n      <td>NaN</td>\n    </tr>\n    <tr>\n      <th>2</th>\n      <td>09-01-2020</td>\n      <td>Mamaearth</td>\n      <td>E-commerce</td>\n      <td>Retailer of baby and toddler products</td>\n      <td>Bengaluru</td>\n      <td>Sequoia Capital India</td>\n      <td>Series B</td>\n      <td>1,83,58,860</td>\n      <td>NaN</td>\n    </tr>\n    <tr>\n      <th>3</th>\n      <td>02-01-2020</td>\n      <td>https://www.wealthbucket.in/</td>\n      <td>FinTech</td>\n      <td>Online Investment</td>\n      <td>New Delhi</td>\n      <td>Vinod Khatumal</td>\n      <td>Pre-series A</td>\n      <td>30,00,000</td>\n      <td>NaN</td>\n    </tr>\n    <tr>\n      <th>4</th>\n      <td>02-01-2020</td>\n      <td>Fashor</td>\n      <td>Fashion and Apparel</td>\n      <td>Embroiled Clothes For Women</td>\n      <td>Mumbai</td>\n      <td>Sprout Venture Partners</td>\n      <td>Seed Round</td>\n      <td>18,00,000</td>\n      <td>NaN</td>\n    </tr>\n    <tr>\n      <th>...</th>\n      <td>...</td>\n      <td>...</td>\n      <td>...</td>\n      <td>...</td>\n      <td>...</td>\n      <td>...</td>\n      <td>...</td>\n      <td>...</td>\n      <td>...</td>\n    </tr>\n    <tr>\n      <th>3039</th>\n      <td>29-01-2015</td>\n      <td>Printvenue</td>\n      <td>NaN</td>\n      <td>NaN</td>\n      <td>NaN</td>\n      <td>Asia Pacific Internet Group</td>\n      <td>Private Equity</td>\n      <td>45,00,000</td>\n      <td>NaN</td>\n    </tr>\n    <tr>\n      <th>3040</th>\n      <td>29-01-2015</td>\n      <td>Graphene</td>\n      <td>NaN</td>\n      <td>NaN</td>\n      <td>NaN</td>\n      <td>KARSEMVEN Fund</td>\n      <td>Private Equity</td>\n      <td>8,25,000</td>\n      <td>Govt backed VC Fund</td>\n    </tr>\n    <tr>\n      <th>3041</th>\n      <td>30-01-2015</td>\n      <td>Mad Street Den</td>\n      <td>NaN</td>\n      <td>NaN</td>\n      <td>NaN</td>\n      <td>Exfinity Fund, GrowX Ventures.</td>\n      <td>Private Equity</td>\n      <td>15,00,000</td>\n      <td>NaN</td>\n    </tr>\n    <tr>\n      <th>3042</th>\n      <td>30-01-2015</td>\n      <td>Simplotel</td>\n      <td>NaN</td>\n      <td>NaN</td>\n      <td>NaN</td>\n      <td>MakeMyTrip</td>\n      <td>Private Equity</td>\n      <td>NaN</td>\n      <td>Strategic Funding, Minority stake</td>\n    </tr>\n    <tr>\n      <th>3043</th>\n      <td>31-01-2015</td>\n      <td>couponmachine.in</td>\n      <td>NaN</td>\n      <td>NaN</td>\n      <td>NaN</td>\n      <td>UK based Group of Angel Investors</td>\n      <td>Seed Funding</td>\n      <td>1,40,000</td>\n      <td>NaN</td>\n    </tr>\n  </tbody>\n</table>\n<p>3044 rows × 9 columns</p>\n</div>"
     },
     "metadata": {},
     "execution_count": 3
    }
   ],
   "source": [
    "data=pd.read_csv('startup_funding.csv')\n",
    "data"
   ]
  },
  {
   "cell_type": "code",
   "execution_count": 4,
   "metadata": {},
   "outputs": [
    {
     "output_type": "execute_result",
     "data": {
      "text/plain": [
       "Date dd/mm/yyyy      object\n",
       "Startup Name         object\n",
       "Industry Vertical    object\n",
       "SubVertical          object\n",
       "City  Location       object\n",
       "Investors Name       object\n",
       "InvestmentnType      object\n",
       "Amount in USD        object\n",
       "Remarks              object\n",
       "dtype: object"
      ]
     },
     "metadata": {},
     "execution_count": 4
    }
   ],
   "source": [
    "data.dtypes"
   ]
  },
  {
   "cell_type": "code",
   "execution_count": 5,
   "metadata": {},
   "outputs": [
    {
     "output_type": "stream",
     "name": "stdout",
     "text": [
      "<class 'pandas.core.frame.DataFrame'>\nRangeIndex: 3044 entries, 0 to 3043\nData columns (total 9 columns):\n #   Column             Non-Null Count  Dtype \n---  ------             --------------  ----- \n 0   Date dd/mm/yyyy    3044 non-null   object\n 1   Startup Name       3044 non-null   object\n 2   Industry Vertical  2873 non-null   object\n 3   SubVertical        2108 non-null   object\n 4   City  Location     2864 non-null   object\n 5   Investors Name     3020 non-null   object\n 6   InvestmentnType    3040 non-null   object\n 7   Amount in USD      2084 non-null   object\n 8   Remarks            419 non-null    object\ndtypes: object(9)\nmemory usage: 214.2+ KB\n"
     ]
    }
   ],
   "source": [
    "data.info()\n"
   ]
  },
  {
   "cell_type": "code",
   "execution_count": 6,
   "metadata": {},
   "outputs": [
    {
     "output_type": "execute_result",
     "data": {
      "text/plain": [
       "(3044, 9)"
      ]
     },
     "metadata": {},
     "execution_count": 6
    }
   ],
   "source": [
    "data.shape"
   ]
  },
  {
   "cell_type": "code",
   "execution_count": 7,
   "metadata": {},
   "outputs": [
    {
     "output_type": "execute_result",
     "data": {
      "text/plain": [
       "       Date dd/mm/yyyy Startup Name  Industry Vertical  \\\n",
       "count             3044         3044               2873   \n",
       "unique            1035         2459                821   \n",
       "top         08-07-2015     Ola Cabs  Consumer Internet   \n",
       "freq                11            8                941   \n",
       "\n",
       "                    SubVertical City  Location         Investors Name  \\\n",
       "count                      2108           2864                   3020   \n",
       "unique                     1942            112                   2412   \n",
       "top     Online Lending Platform      Bangalore  Undisclosed Investors   \n",
       "freq                         11            700                     39   \n",
       "\n",
       "       InvestmentnType Amount in USD   Remarks  \n",
       "count             3040          2084       419  \n",
       "unique              55           471        72  \n",
       "top     Private Equity     10,00,000  Series A  \n",
       "freq              1356           165       175  "
      ],
      "text/html": "<div>\n<style scoped>\n    .dataframe tbody tr th:only-of-type {\n        vertical-align: middle;\n    }\n\n    .dataframe tbody tr th {\n        vertical-align: top;\n    }\n\n    .dataframe thead th {\n        text-align: right;\n    }\n</style>\n<table border=\"1\" class=\"dataframe\">\n  <thead>\n    <tr style=\"text-align: right;\">\n      <th></th>\n      <th>Date dd/mm/yyyy</th>\n      <th>Startup Name</th>\n      <th>Industry Vertical</th>\n      <th>SubVertical</th>\n      <th>City  Location</th>\n      <th>Investors Name</th>\n      <th>InvestmentnType</th>\n      <th>Amount in USD</th>\n      <th>Remarks</th>\n    </tr>\n  </thead>\n  <tbody>\n    <tr>\n      <th>count</th>\n      <td>3044</td>\n      <td>3044</td>\n      <td>2873</td>\n      <td>2108</td>\n      <td>2864</td>\n      <td>3020</td>\n      <td>3040</td>\n      <td>2084</td>\n      <td>419</td>\n    </tr>\n    <tr>\n      <th>unique</th>\n      <td>1035</td>\n      <td>2459</td>\n      <td>821</td>\n      <td>1942</td>\n      <td>112</td>\n      <td>2412</td>\n      <td>55</td>\n      <td>471</td>\n      <td>72</td>\n    </tr>\n    <tr>\n      <th>top</th>\n      <td>08-07-2015</td>\n      <td>Ola Cabs</td>\n      <td>Consumer Internet</td>\n      <td>Online Lending Platform</td>\n      <td>Bangalore</td>\n      <td>Undisclosed Investors</td>\n      <td>Private Equity</td>\n      <td>10,00,000</td>\n      <td>Series A</td>\n    </tr>\n    <tr>\n      <th>freq</th>\n      <td>11</td>\n      <td>8</td>\n      <td>941</td>\n      <td>11</td>\n      <td>700</td>\n      <td>39</td>\n      <td>1356</td>\n      <td>165</td>\n      <td>175</td>\n    </tr>\n  </tbody>\n</table>\n</div>"
     },
     "metadata": {},
     "execution_count": 7
    }
   ],
   "source": [
    "data.describe()"
   ]
  },
  {
   "cell_type": "code",
   "execution_count": 8,
   "metadata": {},
   "outputs": [
    {
     "output_type": "execute_result",
     "data": {
      "text/plain": [
       "Date dd/mm/yyyy         0\n",
       "Startup Name            0\n",
       "Industry Vertical     171\n",
       "SubVertical           936\n",
       "City  Location        180\n",
       "Investors Name         24\n",
       "InvestmentnType         4\n",
       "Amount in USD         960\n",
       "Remarks              2625\n",
       "dtype: int64"
      ]
     },
     "metadata": {},
     "execution_count": 8
    }
   ],
   "source": [
    "data.isnull().sum()"
   ]
  },
  {
   "cell_type": "code",
   "execution_count": 9,
   "metadata": {},
   "outputs": [
    {
     "output_type": "execute_result",
     "data": {
      "text/plain": [
       "Date dd/mm/yyyy         0\n",
       "Startup Name            0\n",
       "Industry Vertical     171\n",
       "SubVertical           936\n",
       "City  Location        180\n",
       "Investors Name         24\n",
       "InvestmentnType         4\n",
       "Amount in USD         960\n",
       "Remarks              2625\n",
       "dtype: int64"
      ]
     },
     "metadata": {},
     "execution_count": 9
    }
   ],
   "source": [
    "data.isnull().sum()"
   ]
  },
  {
   "cell_type": "code",
   "execution_count": 10,
   "metadata": {},
   "outputs": [
    {
     "output_type": "execute_result",
     "data": {
      "text/plain": [
       "0       False\n",
       "1       False\n",
       "2       False\n",
       "3       False\n",
       "4       False\n",
       "        ...  \n",
       "3039    False\n",
       "3040    False\n",
       "3041    False\n",
       "3042    False\n",
       "3043    False\n",
       "Length: 3044, dtype: bool"
      ]
     },
     "metadata": {},
     "execution_count": 10
    }
   ],
   "source": [
    "data.duplicated()"
   ]
  },
  {
   "cell_type": "code",
   "execution_count": 11,
   "metadata": {},
   "outputs": [
    {
     "output_type": "execute_result",
     "data": {
      "text/plain": [
       "  Date dd/mm/yyyy                  Startup Name    Industry Vertical  \\\n",
       "0      09-01-2020                        BYJU’S               E-Tech   \n",
       "1      13-01-2020                        Shuttl       Transportation   \n",
       "2      09-01-2020                     Mamaearth           E-commerce   \n",
       "3      02-01-2020  https://www.wealthbucket.in/              FinTech   \n",
       "4      02-01-2020                        Fashor  Fashion and Apparel   \n",
       "\n",
       "                             SubVertical City  Location  \\\n",
       "0                             E-learning      Bengaluru   \n",
       "1              App based shuttle service        Gurgaon   \n",
       "2  Retailer of baby and toddler products      Bengaluru   \n",
       "3                      Online Investment      New Delhi   \n",
       "4            Embroiled Clothes For Women         Mumbai   \n",
       "\n",
       "              Investors Name       InvestmentnType Amount in USD Remarks  \n",
       "0    Tiger Global Management  Private Equity Round  20,00,00,000     NaN  \n",
       "1  Susquehanna Growth Equity              Series C     80,48,394     NaN  \n",
       "2      Sequoia Capital India              Series B   1,83,58,860     NaN  \n",
       "3             Vinod Khatumal          Pre-series A     30,00,000     NaN  \n",
       "4    Sprout Venture Partners            Seed Round     18,00,000     NaN  "
      ],
      "text/html": "<div>\n<style scoped>\n    .dataframe tbody tr th:only-of-type {\n        vertical-align: middle;\n    }\n\n    .dataframe tbody tr th {\n        vertical-align: top;\n    }\n\n    .dataframe thead th {\n        text-align: right;\n    }\n</style>\n<table border=\"1\" class=\"dataframe\">\n  <thead>\n    <tr style=\"text-align: right;\">\n      <th></th>\n      <th>Date dd/mm/yyyy</th>\n      <th>Startup Name</th>\n      <th>Industry Vertical</th>\n      <th>SubVertical</th>\n      <th>City  Location</th>\n      <th>Investors Name</th>\n      <th>InvestmentnType</th>\n      <th>Amount in USD</th>\n      <th>Remarks</th>\n    </tr>\n  </thead>\n  <tbody>\n    <tr>\n      <th>0</th>\n      <td>09-01-2020</td>\n      <td>BYJU’S</td>\n      <td>E-Tech</td>\n      <td>E-learning</td>\n      <td>Bengaluru</td>\n      <td>Tiger Global Management</td>\n      <td>Private Equity Round</td>\n      <td>20,00,00,000</td>\n      <td>NaN</td>\n    </tr>\n    <tr>\n      <th>1</th>\n      <td>13-01-2020</td>\n      <td>Shuttl</td>\n      <td>Transportation</td>\n      <td>App based shuttle service</td>\n      <td>Gurgaon</td>\n      <td>Susquehanna Growth Equity</td>\n      <td>Series C</td>\n      <td>80,48,394</td>\n      <td>NaN</td>\n    </tr>\n    <tr>\n      <th>2</th>\n      <td>09-01-2020</td>\n      <td>Mamaearth</td>\n      <td>E-commerce</td>\n      <td>Retailer of baby and toddler products</td>\n      <td>Bengaluru</td>\n      <td>Sequoia Capital India</td>\n      <td>Series B</td>\n      <td>1,83,58,860</td>\n      <td>NaN</td>\n    </tr>\n    <tr>\n      <th>3</th>\n      <td>02-01-2020</td>\n      <td>https://www.wealthbucket.in/</td>\n      <td>FinTech</td>\n      <td>Online Investment</td>\n      <td>New Delhi</td>\n      <td>Vinod Khatumal</td>\n      <td>Pre-series A</td>\n      <td>30,00,000</td>\n      <td>NaN</td>\n    </tr>\n    <tr>\n      <th>4</th>\n      <td>02-01-2020</td>\n      <td>Fashor</td>\n      <td>Fashion and Apparel</td>\n      <td>Embroiled Clothes For Women</td>\n      <td>Mumbai</td>\n      <td>Sprout Venture Partners</td>\n      <td>Seed Round</td>\n      <td>18,00,000</td>\n      <td>NaN</td>\n    </tr>\n  </tbody>\n</table>\n</div>"
     },
     "metadata": {},
     "execution_count": 11
    }
   ],
   "source": [
    "data.head()"
   ]
  },
  {
   "cell_type": "code",
   "execution_count": 12,
   "metadata": {},
   "outputs": [
    {
     "output_type": "execute_result",
     "data": {
      "text/plain": [
       "     Date dd/mm/yyyy      Startup Name Industry Vertical SubVertical  \\\n",
       "3039      29-01-2015        Printvenue               NaN         NaN   \n",
       "3040      29-01-2015          Graphene               NaN         NaN   \n",
       "3041      30-01-2015    Mad Street Den               NaN         NaN   \n",
       "3042      30-01-2015         Simplotel               NaN         NaN   \n",
       "3043      31-01-2015  couponmachine.in               NaN         NaN   \n",
       "\n",
       "     City  Location                     Investors Name InvestmentnType  \\\n",
       "3039            NaN        Asia Pacific Internet Group  Private Equity   \n",
       "3040            NaN                     KARSEMVEN Fund  Private Equity   \n",
       "3041            NaN     Exfinity Fund, GrowX Ventures.  Private Equity   \n",
       "3042            NaN                         MakeMyTrip  Private Equity   \n",
       "3043            NaN  UK based Group of Angel Investors    Seed Funding   \n",
       "\n",
       "     Amount in USD                            Remarks  \n",
       "3039     45,00,000                                NaN  \n",
       "3040      8,25,000                Govt backed VC Fund  \n",
       "3041     15,00,000                                NaN  \n",
       "3042           NaN  Strategic Funding, Minority stake  \n",
       "3043      1,40,000                                NaN  "
      ],
      "text/html": "<div>\n<style scoped>\n    .dataframe tbody tr th:only-of-type {\n        vertical-align: middle;\n    }\n\n    .dataframe tbody tr th {\n        vertical-align: top;\n    }\n\n    .dataframe thead th {\n        text-align: right;\n    }\n</style>\n<table border=\"1\" class=\"dataframe\">\n  <thead>\n    <tr style=\"text-align: right;\">\n      <th></th>\n      <th>Date dd/mm/yyyy</th>\n      <th>Startup Name</th>\n      <th>Industry Vertical</th>\n      <th>SubVertical</th>\n      <th>City  Location</th>\n      <th>Investors Name</th>\n      <th>InvestmentnType</th>\n      <th>Amount in USD</th>\n      <th>Remarks</th>\n    </tr>\n  </thead>\n  <tbody>\n    <tr>\n      <th>3039</th>\n      <td>29-01-2015</td>\n      <td>Printvenue</td>\n      <td>NaN</td>\n      <td>NaN</td>\n      <td>NaN</td>\n      <td>Asia Pacific Internet Group</td>\n      <td>Private Equity</td>\n      <td>45,00,000</td>\n      <td>NaN</td>\n    </tr>\n    <tr>\n      <th>3040</th>\n      <td>29-01-2015</td>\n      <td>Graphene</td>\n      <td>NaN</td>\n      <td>NaN</td>\n      <td>NaN</td>\n      <td>KARSEMVEN Fund</td>\n      <td>Private Equity</td>\n      <td>8,25,000</td>\n      <td>Govt backed VC Fund</td>\n    </tr>\n    <tr>\n      <th>3041</th>\n      <td>30-01-2015</td>\n      <td>Mad Street Den</td>\n      <td>NaN</td>\n      <td>NaN</td>\n      <td>NaN</td>\n      <td>Exfinity Fund, GrowX Ventures.</td>\n      <td>Private Equity</td>\n      <td>15,00,000</td>\n      <td>NaN</td>\n    </tr>\n    <tr>\n      <th>3042</th>\n      <td>30-01-2015</td>\n      <td>Simplotel</td>\n      <td>NaN</td>\n      <td>NaN</td>\n      <td>NaN</td>\n      <td>MakeMyTrip</td>\n      <td>Private Equity</td>\n      <td>NaN</td>\n      <td>Strategic Funding, Minority stake</td>\n    </tr>\n    <tr>\n      <th>3043</th>\n      <td>31-01-2015</td>\n      <td>couponmachine.in</td>\n      <td>NaN</td>\n      <td>NaN</td>\n      <td>NaN</td>\n      <td>UK based Group of Angel Investors</td>\n      <td>Seed Funding</td>\n      <td>1,40,000</td>\n      <td>NaN</td>\n    </tr>\n  </tbody>\n</table>\n</div>"
     },
     "metadata": {},
     "execution_count": 12
    }
   ],
   "source": [
    "data.tail()"
   ]
  },
  {
   "cell_type": "code",
   "execution_count": null,
   "metadata": {},
   "outputs": [],
   "source": []
  }
 ]
}