{
 "cells": [
  {
   "cell_type": "code",
   "execution_count": 1,
   "metadata": {},
   "outputs": [],
   "source": [
    "import pandas as pd\n",
    "import numpy as np\n",
    "import seaborn as sns\n",
    "import matplotlib.pyplot as plt\n",
    "import re"
   ]
  },
  {
   "cell_type": "code",
   "execution_count": 2,
   "metadata": {},
   "outputs": [],
   "source": [
    "##Data Exploration and Cleaning"
   ]
  },
  {
   "cell_type": "code",
   "execution_count": 3,
   "metadata": {},
   "outputs": [
    {
     "data": {
      "text/html": [
       "<div>\n",
       "<style scoped>\n",
       "    .dataframe tbody tr th:only-of-type {\n",
       "        vertical-align: middle;\n",
       "    }\n",
       "\n",
       "    .dataframe tbody tr th {\n",
       "        vertical-align: top;\n",
       "    }\n",
       "\n",
       "    .dataframe thead th {\n",
       "        text-align: right;\n",
       "    }\n",
       "</style>\n",
       "<table border=\"1\" class=\"dataframe\">\n",
       "  <thead>\n",
       "    <tr style=\"text-align: right;\">\n",
       "      <th></th>\n",
       "      <th>Sr No</th>\n",
       "      <th>Date dd/mm/yyyy</th>\n",
       "      <th>Startup Name</th>\n",
       "      <th>Industry Vertical</th>\n",
       "      <th>SubVertical</th>\n",
       "      <th>City  Location</th>\n",
       "      <th>Investors Name</th>\n",
       "      <th>InvestmentnType</th>\n",
       "      <th>Amount in USD</th>\n",
       "      <th>Remarks</th>\n",
       "    </tr>\n",
       "  </thead>\n",
       "  <tbody>\n",
       "    <tr>\n",
       "      <th>0</th>\n",
       "      <td>1</td>\n",
       "      <td>15-12-2020</td>\n",
       "      <td>Bira 91</td>\n",
       "      <td>Food and Beverage</td>\n",
       "      <td>Craft Beer</td>\n",
       "      <td>New Delhi</td>\n",
       "      <td>Nishant Mittal, Pankaj Chaddah and Shikha Suni...</td>\n",
       "      <td>Funding</td>\n",
       "      <td>12,73,634.07</td>\n",
       "      <td>NaN</td>\n",
       "    </tr>\n",
       "    <tr>\n",
       "      <th>1</th>\n",
       "      <td>2</td>\n",
       "      <td>21-12-2020</td>\n",
       "      <td>Pine Labs</td>\n",
       "      <td>Financial Services</td>\n",
       "      <td>Payment Solutions Provider</td>\n",
       "      <td>Noida</td>\n",
       "      <td>Lone Pine Capital</td>\n",
       "      <td>Secondary Market</td>\n",
       "      <td>Undisclosed</td>\n",
       "      <td>NaN</td>\n",
       "    </tr>\n",
       "    <tr>\n",
       "      <th>2</th>\n",
       "      <td>3</td>\n",
       "      <td>15-12-2020</td>\n",
       "      <td>Zenoti</td>\n",
       "      <td>Technology Provider</td>\n",
       "      <td>Cloud-based software provider for the spa and ...</td>\n",
       "      <td>Washington</td>\n",
       "      <td>Advent International</td>\n",
       "      <td>Series D</td>\n",
       "      <td>16,00,00,000</td>\n",
       "      <td>NaN</td>\n",
       "    </tr>\n",
       "    <tr>\n",
       "      <th>3</th>\n",
       "      <td>4</td>\n",
       "      <td>22-12-2020</td>\n",
       "      <td>Tax Buddy India</td>\n",
       "      <td>FinTech</td>\n",
       "      <td>Online tax adviser</td>\n",
       "      <td>Mumbai</td>\n",
       "      <td>Zenith Global</td>\n",
       "      <td>Seed</td>\n",
       "      <td>10,00,000</td>\n",
       "      <td>NaN</td>\n",
       "    </tr>\n",
       "    <tr>\n",
       "      <th>4</th>\n",
       "      <td>5</td>\n",
       "      <td>15-12-2020</td>\n",
       "      <td>Delhivery</td>\n",
       "      <td>Supply chain</td>\n",
       "      <td>Transportation</td>\n",
       "      <td>Gurgaon</td>\n",
       "      <td>Steadview Capital</td>\n",
       "      <td>Secondary Market</td>\n",
       "      <td>2,50,00,000</td>\n",
       "      <td>NaN</td>\n",
       "    </tr>\n",
       "  </tbody>\n",
       "</table>\n",
       "</div>"
      ],
      "text/plain": [
       "   Sr No Date dd/mm/yyyy     Startup Name    Industry Vertical  \\\n",
       "0      1      15-12-2020          Bira 91    Food and Beverage   \n",
       "1      2      21-12-2020        Pine Labs   Financial Services   \n",
       "2      3      15-12-2020           Zenoti  Technology Provider   \n",
       "3      4      22-12-2020  Tax Buddy India              FinTech   \n",
       "4      5      15-12-2020        Delhivery        Supply chain    \n",
       "\n",
       "                                         SubVertical City  Location  \\\n",
       "0                                        Craft Beer       New Delhi   \n",
       "1                         Payment Solutions Provider          Noida   \n",
       "2  Cloud-based software provider for the spa and ...     Washington   \n",
       "3                                Online tax adviser          Mumbai   \n",
       "4                                     Transportation        Gurgaon   \n",
       "\n",
       "                                      Investors Name   InvestmentnType  \\\n",
       "0  Nishant Mittal, Pankaj Chaddah and Shikha Suni...           Funding   \n",
       "1                                  Lone Pine Capital  Secondary Market   \n",
       "2                               Advent International          Series D   \n",
       "3                                      Zenith Global              Seed   \n",
       "4                                 Steadview Capital   Secondary Market   \n",
       "\n",
       "  Amount in USD Remarks  \n",
       "0  12,73,634.07     NaN  \n",
       "1   Undisclosed     NaN  \n",
       "2  16,00,00,000     NaN  \n",
       "3     10,00,000     NaN  \n",
       "4   2,50,00,000     NaN  "
      ]
     },
     "execution_count": 3,
     "metadata": {},
     "output_type": "execute_result"
    }
   ],
   "source": [
    "data=pd.read_csv('startupfund.csv')\n",
    "data.head()"
   ]
  },
  {
   "cell_type": "code",
   "execution_count": 4,
   "metadata": {},
   "outputs": [
    {
     "data": {
      "text/plain": [
       "(3158, 10)"
      ]
     },
     "execution_count": 4,
     "metadata": {},
     "output_type": "execute_result"
    }
   ],
   "source": [
    "data.shape"
   ]
  },
  {
   "cell_type": "code",
   "execution_count": 5,
   "metadata": {},
   "outputs": [
    {
     "name": "stdout",
     "output_type": "stream",
     "text": [
      "<class 'pandas.core.frame.DataFrame'>\n",
      "RangeIndex: 3158 entries, 0 to 3157\n",
      "Data columns (total 10 columns):\n",
      " #   Column             Non-Null Count  Dtype \n",
      "---  ------             --------------  ----- \n",
      " 0   Sr No              3158 non-null   int64 \n",
      " 1   Date dd/mm/yyyy    3158 non-null   object\n",
      " 2   Startup Name       3158 non-null   object\n",
      " 3   Industry Vertical  2987 non-null   object\n",
      " 4   SubVertical        2222 non-null   object\n",
      " 5   City  Location     2978 non-null   object\n",
      " 6   Investors Name     3134 non-null   object\n",
      " 7   InvestmentnType    3150 non-null   object\n",
      " 8   Amount in USD      2184 non-null   object\n",
      " 9   Remarks            419 non-null    object\n",
      "dtypes: int64(1), object(9)\n",
      "memory usage: 246.8+ KB\n"
     ]
    }
   ],
   "source": [
    "data.info()"
   ]
  },
  {
   "cell_type": "code",
   "execution_count": 6,
   "metadata": {},
   "outputs": [
    {
     "data": {
      "text/html": [
       "<div>\n",
       "<style scoped>\n",
       "    .dataframe tbody tr th:only-of-type {\n",
       "        vertical-align: middle;\n",
       "    }\n",
       "\n",
       "    .dataframe tbody tr th {\n",
       "        vertical-align: top;\n",
       "    }\n",
       "\n",
       "    .dataframe thead th {\n",
       "        text-align: right;\n",
       "    }\n",
       "</style>\n",
       "<table border=\"1\" class=\"dataframe\">\n",
       "  <thead>\n",
       "    <tr style=\"text-align: right;\">\n",
       "      <th></th>\n",
       "      <th>Sr No</th>\n",
       "      <th>Date dd/mm/yyyy</th>\n",
       "      <th>StartupName</th>\n",
       "      <th>Industry</th>\n",
       "      <th>SubVertical</th>\n",
       "      <th>CityLocation</th>\n",
       "      <th>InvestorName</th>\n",
       "      <th>InvestmentType</th>\n",
       "      <th>Amount</th>\n",
       "      <th>Remarks</th>\n",
       "    </tr>\n",
       "  </thead>\n",
       "  <tbody>\n",
       "    <tr>\n",
       "      <th>0</th>\n",
       "      <td>1</td>\n",
       "      <td>15-12-2020</td>\n",
       "      <td>Bira 91</td>\n",
       "      <td>Food and Beverage</td>\n",
       "      <td>Craft Beer</td>\n",
       "      <td>New Delhi</td>\n",
       "      <td>Nishant Mittal, Pankaj Chaddah and Shikha Suni...</td>\n",
       "      <td>Funding</td>\n",
       "      <td>12,73,634.07</td>\n",
       "      <td>NaN</td>\n",
       "    </tr>\n",
       "    <tr>\n",
       "      <th>1</th>\n",
       "      <td>2</td>\n",
       "      <td>21-12-2020</td>\n",
       "      <td>Pine Labs</td>\n",
       "      <td>Financial Services</td>\n",
       "      <td>Payment Solutions Provider</td>\n",
       "      <td>Noida</td>\n",
       "      <td>Lone Pine Capital</td>\n",
       "      <td>Secondary Market</td>\n",
       "      <td>Undisclosed</td>\n",
       "      <td>NaN</td>\n",
       "    </tr>\n",
       "    <tr>\n",
       "      <th>2</th>\n",
       "      <td>3</td>\n",
       "      <td>15-12-2020</td>\n",
       "      <td>Zenoti</td>\n",
       "      <td>Technology Provider</td>\n",
       "      <td>Cloud-based software provider for the spa and ...</td>\n",
       "      <td>Washington</td>\n",
       "      <td>Advent International</td>\n",
       "      <td>Series D</td>\n",
       "      <td>16,00,00,000</td>\n",
       "      <td>NaN</td>\n",
       "    </tr>\n",
       "    <tr>\n",
       "      <th>3</th>\n",
       "      <td>4</td>\n",
       "      <td>22-12-2020</td>\n",
       "      <td>Tax Buddy India</td>\n",
       "      <td>FinTech</td>\n",
       "      <td>Online tax adviser</td>\n",
       "      <td>Mumbai</td>\n",
       "      <td>Zenith Global</td>\n",
       "      <td>Seed</td>\n",
       "      <td>10,00,000</td>\n",
       "      <td>NaN</td>\n",
       "    </tr>\n",
       "    <tr>\n",
       "      <th>4</th>\n",
       "      <td>5</td>\n",
       "      <td>15-12-2020</td>\n",
       "      <td>Delhivery</td>\n",
       "      <td>Supply chain</td>\n",
       "      <td>Transportation</td>\n",
       "      <td>Gurgaon</td>\n",
       "      <td>Steadview Capital</td>\n",
       "      <td>Secondary Market</td>\n",
       "      <td>2,50,00,000</td>\n",
       "      <td>NaN</td>\n",
       "    </tr>\n",
       "  </tbody>\n",
       "</table>\n",
       "</div>"
      ],
      "text/plain": [
       "   Sr No Date dd/mm/yyyy      StartupName             Industry  \\\n",
       "0      1      15-12-2020          Bira 91    Food and Beverage   \n",
       "1      2      21-12-2020        Pine Labs   Financial Services   \n",
       "2      3      15-12-2020           Zenoti  Technology Provider   \n",
       "3      4      22-12-2020  Tax Buddy India              FinTech   \n",
       "4      5      15-12-2020        Delhivery        Supply chain    \n",
       "\n",
       "                                         SubVertical CityLocation  \\\n",
       "0                                        Craft Beer     New Delhi   \n",
       "1                         Payment Solutions Provider        Noida   \n",
       "2  Cloud-based software provider for the spa and ...   Washington   \n",
       "3                                Online tax adviser        Mumbai   \n",
       "4                                     Transportation      Gurgaon   \n",
       "\n",
       "                                        InvestorName    InvestmentType  \\\n",
       "0  Nishant Mittal, Pankaj Chaddah and Shikha Suni...           Funding   \n",
       "1                                  Lone Pine Capital  Secondary Market   \n",
       "2                               Advent International          Series D   \n",
       "3                                      Zenith Global              Seed   \n",
       "4                                 Steadview Capital   Secondary Market   \n",
       "\n",
       "         Amount Remarks  \n",
       "0  12,73,634.07     NaN  \n",
       "1   Undisclosed     NaN  \n",
       "2  16,00,00,000     NaN  \n",
       "3     10,00,000     NaN  \n",
       "4   2,50,00,000     NaN  "
      ]
     },
     "execution_count": 6,
     "metadata": {},
     "output_type": "execute_result"
    }
   ],
   "source": [
    "data.rename(columns={'Startup Name': 'StartupName', 'Industry Vertical': 'Industry', 'City  Location': 'CityLocation', 'Investors Name': 'InvestorName', 'InvestmentnType': 'InvestmentType', 'Amount in USD': 'Amount'}, inplace=True)\n",
    "data.head()"
   ]
  },
  {
   "cell_type": "code",
   "execution_count": 7,
   "metadata": {},
   "outputs": [],
   "source": [
    "###Cleaning date column and extracting month and year values from date"
   ]
  },
  {
   "cell_type": "code",
   "execution_count": 8,
   "metadata": {},
   "outputs": [],
   "source": [
    "data['Date dd/mm/yyyy']=data['Date dd/mm/yyyy'].map(lambda x:str(x).replace('-',''))\n",
    "data['Date dd/mm/yyyy']=data['Date dd/mm/yyyy'].map(lambda x:str(x).replace('/',''))"
   ]
  },
  {
   "cell_type": "code",
   "execution_count": 9,
   "metadata": {},
   "outputs": [],
   "source": [
    "data['Date']=pd.to_datetime(data['Date dd/mm/yyyy'],format='%d%m%Y',errors='coerce')\n",
    "data['Year']=pd.DatetimeIndex(data['Date']).year\n",
    "data['Month']=pd.DatetimeIndex(data['Date']).month"
   ]
  },
  {
   "cell_type": "code",
   "execution_count": 10,
   "metadata": {},
   "outputs": [],
   "source": [
    "###Converting values in Amount column from string to float "
   ]
  },
  {
   "cell_type": "code",
   "execution_count": 11,
   "metadata": {},
   "outputs": [],
   "source": [
    "def isnum(x):\n",
    "    try:\n",
    "        x=int(str(x).replace(',',''))\n",
    "    except:\n",
    "        x=str(x).replace(',','')\n",
    "    if isinstance(x,int):\n",
    "        return x\n",
    "    else:\n",
    "        return 0"
   ]
  },
  {
   "cell_type": "code",
   "execution_count": 12,
   "metadata": {},
   "outputs": [],
   "source": [
    "data['Amount']=data['Amount'].map(isnum)"
   ]
  },
  {
   "cell_type": "code",
   "execution_count": 13,
   "metadata": {},
   "outputs": [],
   "source": [
    " def amount(x):\n",
    "    if x<=1000000:\n",
    "        return '0-10L'\n",
    "    elif x<=5000000:\n",
    "        return '10L-50L'\n",
    "    elif x<=10000000:\n",
    "        return '50L-1C'\n",
    "    elif x<=20000000:\n",
    "        return '1C-2C'\n",
    "    elif x<=50000000:\n",
    "        return '2C-5C'\n",
    "    elif x<=100000000:\n",
    "        return '5C-10C'\n",
    "    elif x<=200000000:\n",
    "        return '10C-20C'\n",
    "    elif x<=400000000:\n",
    "        return '20C-40C'\n",
    "    elif x<=1000000000:\n",
    "        return '40C-100C'\n",
    "    elif x<=2000000000:\n",
    "        return '100C-200C'\n",
    "    elif x<=3000000000:\n",
    "        return '200C-300C'\n",
    "    else:\n",
    "        return '300C+'"
   ]
  },
  {
   "cell_type": "code",
   "execution_count": 14,
   "metadata": {},
   "outputs": [],
   "source": [
    "data['Investment Range in USD']=data['Amount'].map(amount)"
   ]
  },
  {
   "cell_type": "code",
   "execution_count": 15,
   "metadata": {},
   "outputs": [],
   "source": [
    "###Cleaning column CityLocation"
   ]
  },
  {
   "cell_type": "code",
   "execution_count": null,
   "metadata": {},
   "outputs": [],
   "source": []
  }
 ],
 "metadata": {
  "kernelspec": {
   "display_name": "Python 3",
   "language": "python",
   "name": "python3"
  },
  "language_info": {
   "codemirror_mode": {
    "name": "ipython",
    "version": 3
   },
   "file_extension": ".py",
   "mimetype": "text/x-python",
   "name": "python",
   "nbconvert_exporter": "python",
   "pygments_lexer": "ipython3",
   "version": "3.7.9"
  }
 },
 "nbformat": 4,
 "nbformat_minor": 2
}
