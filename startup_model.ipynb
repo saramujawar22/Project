{
  "nbformat": 4,
  "nbformat_minor": 0,
  "metadata": {
    "colab": {
      "name": "startup_model.ipynb",
      "provenance": [],
      "collapsed_sections": [],
      "authorship_tag": "ABX9TyM0+YIsZ6LI2WZDYT/OABOe",
      "include_colab_link": true
    },
    "kernelspec": {
      "name": "python3",
      "display_name": "Python 3"
    },
    "language_info": {
      "name": "python"
    }
  },
  "cells": [
    {
      "cell_type": "markdown",
      "metadata": {
        "id": "view-in-github",
        "colab_type": "text"
      },
      "source": [
        "<a href=\"https://colab.research.google.com/github/saramujawar22/Project/blob/main/startup_model.ipynb\" target=\"_parent\"><img src=\"https://colab.research.google.com/assets/colab-badge.svg\" alt=\"Open In Colab\"/></a>"
      ]
    },
    {
      "cell_type": "code",
      "metadata": {
        "id": "-3earee85Pd5"
      },
      "source": [
        "#Import the libraries\n",
        "import pandas as pd\n",
        "import numpy as np\n",
        "import seaborn as sns\n",
        "import matplotlib.pyplot as plt\n",
        "import re"
      ],
      "execution_count": null,
      "outputs": []
    },
    {
      "cell_type": "markdown",
      "metadata": {
        "id": "7nNkadvH-SIv"
      },
      "source": [
        "**Data Exploration and cleaning**"
      ]
    },
    {
      "cell_type": "code",
      "metadata": {
        "colab": {
          "base_uri": "https://localhost:8080/",
          "height": 279
        },
        "id": "mLcypt4E-Q-a",
        "outputId": "e942007e-ffcb-44e0-f3af-105b421340f9"
      },
      "source": [
        "data=pd.read_csv('startupsfunding.csv')\n",
        "data.head()"
      ],
      "execution_count": null,
      "outputs": [
        {
          "output_type": "execute_result",
          "data": {
            "text/html": [
              "<div>\n",
              "<style scoped>\n",
              "    .dataframe tbody tr th:only-of-type {\n",
              "        vertical-align: middle;\n",
              "    }\n",
              "\n",
              "    .dataframe tbody tr th {\n",
              "        vertical-align: top;\n",
              "    }\n",
              "\n",
              "    .dataframe thead th {\n",
              "        text-align: right;\n",
              "    }\n",
              "</style>\n",
              "<table border=\"1\" class=\"dataframe\">\n",
              "  <thead>\n",
              "    <tr style=\"text-align: right;\">\n",
              "      <th></th>\n",
              "      <th>Sr No</th>\n",
              "      <th>Date dd/mm/yyyy</th>\n",
              "      <th>Startup Name</th>\n",
              "      <th>Industry Vertical</th>\n",
              "      <th>SubVertical</th>\n",
              "      <th>City  Location</th>\n",
              "      <th>Investors Name</th>\n",
              "      <th>InvestmentnType</th>\n",
              "      <th>Amount in USD</th>\n",
              "      <th>Remarks</th>\n",
              "    </tr>\n",
              "  </thead>\n",
              "  <tbody>\n",
              "    <tr>\n",
              "      <th>0</th>\n",
              "      <td>1</td>\n",
              "      <td>15-12-2020</td>\n",
              "      <td>Zenoti</td>\n",
              "      <td>Technology Provider</td>\n",
              "      <td>Cloud-based software provider for the spa and ...</td>\n",
              "      <td>Washington</td>\n",
              "      <td>Advent International</td>\n",
              "      <td>Series D</td>\n",
              "      <td>16,00,00,000</td>\n",
              "      <td>NaN</td>\n",
              "    </tr>\n",
              "    <tr>\n",
              "      <th>1</th>\n",
              "      <td>2</td>\n",
              "      <td>22-12-2020</td>\n",
              "      <td>Tax Buddy India</td>\n",
              "      <td>FinTech</td>\n",
              "      <td>Online tax adviser</td>\n",
              "      <td>Mumbai</td>\n",
              "      <td>Zenith Global</td>\n",
              "      <td>Seed</td>\n",
              "      <td>10,00,000</td>\n",
              "      <td>NaN</td>\n",
              "    </tr>\n",
              "    <tr>\n",
              "      <th>2</th>\n",
              "      <td>3</td>\n",
              "      <td>15-12-2020</td>\n",
              "      <td>Delhivery</td>\n",
              "      <td>Supply chain</td>\n",
              "      <td>Transportation</td>\n",
              "      <td>Gurgaon</td>\n",
              "      <td>Steadview Capital</td>\n",
              "      <td>Secondary Market</td>\n",
              "      <td>2,50,00,000</td>\n",
              "      <td>NaN</td>\n",
              "    </tr>\n",
              "    <tr>\n",
              "      <th>3</th>\n",
              "      <td>4</td>\n",
              "      <td>18-12-2020</td>\n",
              "      <td>PagarBook</td>\n",
              "      <td>SaaS</td>\n",
              "      <td>Employee management platform</td>\n",
              "      <td>Bengaluru</td>\n",
              "      <td>Sequoia Capital</td>\n",
              "      <td>Series A</td>\n",
              "      <td>1,50,00,000</td>\n",
              "      <td>NaN</td>\n",
              "    </tr>\n",
              "    <tr>\n",
              "      <th>4</th>\n",
              "      <td>5</td>\n",
              "      <td>30-11-2020</td>\n",
              "      <td>Codingal</td>\n",
              "      <td>EduTech</td>\n",
              "      <td>Online coding platform</td>\n",
              "      <td>Bengaluru</td>\n",
              "      <td>Rebright Partners, Java Capital, and GSF Accel...</td>\n",
              "      <td>Seed</td>\n",
              "      <td>5,60,000</td>\n",
              "      <td>NaN</td>\n",
              "    </tr>\n",
              "  </tbody>\n",
              "</table>\n",
              "</div>"
            ],
            "text/plain": [
              "   Sr No Date dd/mm/yyyy  ... Amount in USD Remarks\n",
              "0      1      15-12-2020  ...  16,00,00,000     NaN\n",
              "1      2      22-12-2020  ...     10,00,000     NaN\n",
              "2      3      15-12-2020  ...   2,50,00,000     NaN\n",
              "3      4      18-12-2020  ...   1,50,00,000     NaN\n",
              "4      5      30-11-2020  ...      5,60,000     NaN\n",
              "\n",
              "[5 rows x 10 columns]"
            ]
          },
          "metadata": {
            "tags": []
          },
          "execution_count": 2
        }
      ]
    },
    {
      "cell_type": "code",
      "metadata": {
        "colab": {
          "base_uri": "https://localhost:8080/"
        },
        "id": "91ykApxe-lSg",
        "outputId": "b85cec97-df78-4141-fa9a-e74d015e14f6"
      },
      "source": [
        "data.shape"
      ],
      "execution_count": null,
      "outputs": [
        {
          "output_type": "execute_result",
          "data": {
            "text/plain": [
              "(3156, 10)"
            ]
          },
          "metadata": {
            "tags": []
          },
          "execution_count": 3
        }
      ]
    },
    {
      "cell_type": "code",
      "metadata": {
        "colab": {
          "base_uri": "https://localhost:8080/"
        },
        "id": "Iahvvxq6-rs1",
        "outputId": "a169e0cd-d7d3-4be2-9f92-ec6c0b1e9243"
      },
      "source": [
        "data.info()"
      ],
      "execution_count": null,
      "outputs": [
        {
          "output_type": "stream",
          "text": [
            "<class 'pandas.core.frame.DataFrame'>\n",
            "RangeIndex: 3156 entries, 0 to 3155\n",
            "Data columns (total 10 columns):\n",
            " #   Column             Non-Null Count  Dtype \n",
            "---  ------             --------------  ----- \n",
            " 0   Sr No              3156 non-null   int64 \n",
            " 1   Date dd/mm/yyyy    3156 non-null   object\n",
            " 2   Startup Name       3156 non-null   object\n",
            " 3   Industry Vertical  2985 non-null   object\n",
            " 4   SubVertical        2220 non-null   object\n",
            " 5   City  Location     2976 non-null   object\n",
            " 6   Investors Name     3132 non-null   object\n",
            " 7   InvestmentnType    3148 non-null   object\n",
            " 8   Amount in USD      2182 non-null   object\n",
            " 9   Remarks            419 non-null    object\n",
            "dtypes: int64(1), object(9)\n",
            "memory usage: 246.7+ KB\n"
          ],
          "name": "stdout"
        }
      ]
    },
    {
      "cell_type": "code",
      "metadata": {
        "colab": {
          "base_uri": "https://localhost:8080/",
          "height": 296
        },
        "id": "3ple_9to-uEf",
        "outputId": "5f090369-4569-403c-de90-75ee4fbb944e"
      },
      "source": [
        "data.rename(columns={'Startup Name': 'StartupName', 'Industry Vertical': 'Industry','SubVertical': 'subIndustry', 'City  Location': 'CityLocation', 'Investors Name': 'InvestorName', 'InvestmentnType': 'InvestmentType', 'Amount in USD': 'Amount'}, inplace=True)\n",
        "data.head()"
      ],
      "execution_count": null,
      "outputs": [
        {
          "output_type": "execute_result",
          "data": {
            "text/html": [
              "<div>\n",
              "<style scoped>\n",
              "    .dataframe tbody tr th:only-of-type {\n",
              "        vertical-align: middle;\n",
              "    }\n",
              "\n",
              "    .dataframe tbody tr th {\n",
              "        vertical-align: top;\n",
              "    }\n",
              "\n",
              "    .dataframe thead th {\n",
              "        text-align: right;\n",
              "    }\n",
              "</style>\n",
              "<table border=\"1\" class=\"dataframe\">\n",
              "  <thead>\n",
              "    <tr style=\"text-align: right;\">\n",
              "      <th></th>\n",
              "      <th>Sr No</th>\n",
              "      <th>Date dd/mm/yyyy</th>\n",
              "      <th>StartupName</th>\n",
              "      <th>Industry</th>\n",
              "      <th>subIndustry</th>\n",
              "      <th>CityLocation</th>\n",
              "      <th>InvestorName</th>\n",
              "      <th>InvestmentType</th>\n",
              "      <th>Amount</th>\n",
              "      <th>Remarks</th>\n",
              "    </tr>\n",
              "  </thead>\n",
              "  <tbody>\n",
              "    <tr>\n",
              "      <th>0</th>\n",
              "      <td>1</td>\n",
              "      <td>15-12-2020</td>\n",
              "      <td>Zenoti</td>\n",
              "      <td>Technology Provider</td>\n",
              "      <td>Cloud-based software provider for the spa and ...</td>\n",
              "      <td>Washington</td>\n",
              "      <td>Advent International</td>\n",
              "      <td>Series D</td>\n",
              "      <td>16,00,00,000</td>\n",
              "      <td>NaN</td>\n",
              "    </tr>\n",
              "    <tr>\n",
              "      <th>1</th>\n",
              "      <td>2</td>\n",
              "      <td>22-12-2020</td>\n",
              "      <td>Tax Buddy India</td>\n",
              "      <td>FinTech</td>\n",
              "      <td>Online tax adviser</td>\n",
              "      <td>Mumbai</td>\n",
              "      <td>Zenith Global</td>\n",
              "      <td>Seed</td>\n",
              "      <td>10,00,000</td>\n",
              "      <td>NaN</td>\n",
              "    </tr>\n",
              "    <tr>\n",
              "      <th>2</th>\n",
              "      <td>3</td>\n",
              "      <td>15-12-2020</td>\n",
              "      <td>Delhivery</td>\n",
              "      <td>Supply chain</td>\n",
              "      <td>Transportation</td>\n",
              "      <td>Gurgaon</td>\n",
              "      <td>Steadview Capital</td>\n",
              "      <td>Secondary Market</td>\n",
              "      <td>2,50,00,000</td>\n",
              "      <td>NaN</td>\n",
              "    </tr>\n",
              "    <tr>\n",
              "      <th>3</th>\n",
              "      <td>4</td>\n",
              "      <td>18-12-2020</td>\n",
              "      <td>PagarBook</td>\n",
              "      <td>SaaS</td>\n",
              "      <td>Employee management platform</td>\n",
              "      <td>Bengaluru</td>\n",
              "      <td>Sequoia Capital</td>\n",
              "      <td>Series A</td>\n",
              "      <td>1,50,00,000</td>\n",
              "      <td>NaN</td>\n",
              "    </tr>\n",
              "    <tr>\n",
              "      <th>4</th>\n",
              "      <td>5</td>\n",
              "      <td>30-11-2020</td>\n",
              "      <td>Codingal</td>\n",
              "      <td>EduTech</td>\n",
              "      <td>Online coding platform</td>\n",
              "      <td>Bengaluru</td>\n",
              "      <td>Rebright Partners, Java Capital, and GSF Accel...</td>\n",
              "      <td>Seed</td>\n",
              "      <td>5,60,000</td>\n",
              "      <td>NaN</td>\n",
              "    </tr>\n",
              "  </tbody>\n",
              "</table>\n",
              "</div>"
            ],
            "text/plain": [
              "   Sr No Date dd/mm/yyyy  ...        Amount Remarks\n",
              "0      1      15-12-2020  ...  16,00,00,000     NaN\n",
              "1      2      22-12-2020  ...     10,00,000     NaN\n",
              "2      3      15-12-2020  ...   2,50,00,000     NaN\n",
              "3      4      18-12-2020  ...   1,50,00,000     NaN\n",
              "4      5      30-11-2020  ...      5,60,000     NaN\n",
              "\n",
              "[5 rows x 10 columns]"
            ]
          },
          "metadata": {
            "tags": []
          },
          "execution_count": 5
        }
      ]
    },
    {
      "cell_type": "markdown",
      "metadata": {
        "id": "VwfUFD7q-869"
      },
      "source": [
        "**Cleaning date column and extracting month and year values from date **"
      ]
    },
    {
      "cell_type": "code",
      "metadata": {
        "id": "_LS8u6Ps_I-5"
      },
      "source": [
        "data['Date dd/mm/yyyy']=data['Date dd/mm/yyyy'].map(lambda x:str(x).replace('-',''))\n",
        "data['Date dd/mm/yyyy']=data['Date dd/mm/yyyy'].map(lambda x:str(x).replace('/',''))"
      ],
      "execution_count": null,
      "outputs": []
    },
    {
      "cell_type": "code",
      "metadata": {
        "id": "TlXzGMUL_VBq"
      },
      "source": [
        "data['Date']=pd.to_datetime(data['Date dd/mm/yyyy'],format='%d%m%Y',errors='coerce')\n",
        "data['Year']=pd.DatetimeIndex(data['Date']).year\n",
        "data['Month']=pd.DatetimeIndex(data['Date']).month"
      ],
      "execution_count": null,
      "outputs": []
    },
    {
      "cell_type": "markdown",
      "metadata": {
        "id": "bEAV8zkZ_dk-"
      },
      "source": [
        "**Converting values in amount column from string to Integer**"
      ]
    },
    {
      "cell_type": "code",
      "metadata": {
        "id": "Zz_YYHf4_pv4"
      },
      "source": [
        "def isnum(x):\n",
        "    try:\n",
        "        x=int(str(x).replace(',',''))\n",
        "    except:\n",
        "        x=str(x).replace(',','')\n",
        "    if isinstance(x,int):\n",
        "        return x\n",
        "    else:\n",
        "        return 0"
      ],
      "execution_count": null,
      "outputs": []
    },
    {
      "cell_type": "code",
      "metadata": {
        "id": "b-tLAtsV_0rL"
      },
      "source": [
        "data['Amount']=data['Amount'].map(isnum)"
      ],
      "execution_count": null,
      "outputs": []
    },
    {
      "cell_type": "code",
      "metadata": {
        "id": "zOp45ICK_36r"
      },
      "source": [
        "def amount(x):\n",
        "    if x<=100000:\n",
        "        return '0-1L'\n",
        "    elif x<=1000000:\n",
        "        return '1L-10L'\n",
        "    elif x<=5000000:\n",
        "        return '10L-50L'\n",
        "    elif x<=10000000:\n",
        "        return '50L-1C'\n",
        "    elif x<=20000000:\n",
        "        return '1C-2C'\n",
        "    elif x<=50000000:\n",
        "        return '2C-5C'\n",
        "    elif x<=100000000:\n",
        "        return '5C-10C'\n",
        "    elif x<=200000000:\n",
        "        return '10C-20C'\n",
        "    elif x<=400000000:\n",
        "        return '20C-40C'\n",
        "    elif x<=1000000000:\n",
        "        return '40C-100C'\n",
        "    elif x<=2000000000:\n",
        "        return '100C-200C'\n",
        "    elif x<=3000000000:\n",
        "        return '200C-300C'\n",
        "    else:\n",
        "        return '300C+'"
      ],
      "execution_count": null,
      "outputs": []
    },
    {
      "cell_type": "code",
      "metadata": {
        "colab": {
          "base_uri": "https://localhost:8080/",
          "height": 417
        },
        "id": "cT9EN_Us_9sl",
        "outputId": "23d1e4b0-eaeb-42c1-f700-b39d4e212172"
      },
      "source": [
        "data['Investment Range in USD']=data['Amount'].map(amount)\n",
        "data.head()"
      ],
      "execution_count": null,
      "outputs": [
        {
          "output_type": "execute_result",
          "data": {
            "text/html": [
              "<div>\n",
              "<style scoped>\n",
              "    .dataframe tbody tr th:only-of-type {\n",
              "        vertical-align: middle;\n",
              "    }\n",
              "\n",
              "    .dataframe tbody tr th {\n",
              "        vertical-align: top;\n",
              "    }\n",
              "\n",
              "    .dataframe thead th {\n",
              "        text-align: right;\n",
              "    }\n",
              "</style>\n",
              "<table border=\"1\" class=\"dataframe\">\n",
              "  <thead>\n",
              "    <tr style=\"text-align: right;\">\n",
              "      <th></th>\n",
              "      <th>Sr No</th>\n",
              "      <th>Date dd/mm/yyyy</th>\n",
              "      <th>StartupName</th>\n",
              "      <th>Industry</th>\n",
              "      <th>subIndustry</th>\n",
              "      <th>CityLocation</th>\n",
              "      <th>InvestorName</th>\n",
              "      <th>InvestmentType</th>\n",
              "      <th>Amount</th>\n",
              "      <th>Remarks</th>\n",
              "      <th>Date</th>\n",
              "      <th>Year</th>\n",
              "      <th>Month</th>\n",
              "      <th>Investment Range in USD</th>\n",
              "    </tr>\n",
              "  </thead>\n",
              "  <tbody>\n",
              "    <tr>\n",
              "      <th>0</th>\n",
              "      <td>1</td>\n",
              "      <td>15122020</td>\n",
              "      <td>Zenoti</td>\n",
              "      <td>Technology Provider</td>\n",
              "      <td>Cloud-based software provider for the spa and ...</td>\n",
              "      <td>Washington</td>\n",
              "      <td>Advent International</td>\n",
              "      <td>Series D</td>\n",
              "      <td>160000000</td>\n",
              "      <td>NaN</td>\n",
              "      <td>2020-12-15</td>\n",
              "      <td>2020.0</td>\n",
              "      <td>12.0</td>\n",
              "      <td>10C-20C</td>\n",
              "    </tr>\n",
              "    <tr>\n",
              "      <th>1</th>\n",
              "      <td>2</td>\n",
              "      <td>22122020</td>\n",
              "      <td>Tax Buddy India</td>\n",
              "      <td>FinTech</td>\n",
              "      <td>Online tax adviser</td>\n",
              "      <td>Mumbai</td>\n",
              "      <td>Zenith Global</td>\n",
              "      <td>Seed</td>\n",
              "      <td>1000000</td>\n",
              "      <td>NaN</td>\n",
              "      <td>2020-12-22</td>\n",
              "      <td>2020.0</td>\n",
              "      <td>12.0</td>\n",
              "      <td>1L-10L</td>\n",
              "    </tr>\n",
              "    <tr>\n",
              "      <th>2</th>\n",
              "      <td>3</td>\n",
              "      <td>15122020</td>\n",
              "      <td>Delhivery</td>\n",
              "      <td>Supply chain</td>\n",
              "      <td>Transportation</td>\n",
              "      <td>Gurgaon</td>\n",
              "      <td>Steadview Capital</td>\n",
              "      <td>Secondary Market</td>\n",
              "      <td>25000000</td>\n",
              "      <td>NaN</td>\n",
              "      <td>2020-12-15</td>\n",
              "      <td>2020.0</td>\n",
              "      <td>12.0</td>\n",
              "      <td>2C-5C</td>\n",
              "    </tr>\n",
              "    <tr>\n",
              "      <th>3</th>\n",
              "      <td>4</td>\n",
              "      <td>18122020</td>\n",
              "      <td>PagarBook</td>\n",
              "      <td>SaaS</td>\n",
              "      <td>Employee management platform</td>\n",
              "      <td>Bengaluru</td>\n",
              "      <td>Sequoia Capital</td>\n",
              "      <td>Series A</td>\n",
              "      <td>15000000</td>\n",
              "      <td>NaN</td>\n",
              "      <td>2020-12-18</td>\n",
              "      <td>2020.0</td>\n",
              "      <td>12.0</td>\n",
              "      <td>1C-2C</td>\n",
              "    </tr>\n",
              "    <tr>\n",
              "      <th>4</th>\n",
              "      <td>5</td>\n",
              "      <td>30112020</td>\n",
              "      <td>Codingal</td>\n",
              "      <td>EduTech</td>\n",
              "      <td>Online coding platform</td>\n",
              "      <td>Bengaluru</td>\n",
              "      <td>Rebright Partners, Java Capital, and GSF Accel...</td>\n",
              "      <td>Seed</td>\n",
              "      <td>560000</td>\n",
              "      <td>NaN</td>\n",
              "      <td>2020-11-30</td>\n",
              "      <td>2020.0</td>\n",
              "      <td>11.0</td>\n",
              "      <td>1L-10L</td>\n",
              "    </tr>\n",
              "  </tbody>\n",
              "</table>\n",
              "</div>"
            ],
            "text/plain": [
              "   Sr No Date dd/mm/yyyy  ... Month Investment Range in USD\n",
              "0      1        15122020  ...  12.0                 10C-20C\n",
              "1      2        22122020  ...  12.0                  1L-10L\n",
              "2      3        15122020  ...  12.0                   2C-5C\n",
              "3      4        18122020  ...  12.0                   1C-2C\n",
              "4      5        30112020  ...  11.0                  1L-10L\n",
              "\n",
              "[5 rows x 14 columns]"
            ]
          },
          "metadata": {
            "tags": []
          },
          "execution_count": 11
        }
      ]
    },
    {
      "cell_type": "markdown",
      "metadata": {
        "id": "pbNVaj7PAIuL"
      },
      "source": [
        "**Cleaning column CityLocation**"
      ]
    },
    {
      "cell_type": "code",
      "metadata": {
        "id": "Y_IyfGg0AOMU"
      },
      "source": [
        "data['CityLocation']=data['CityLocation'].map(lambda x: 'New Delhi' if (str(x)=='\\\\\\\\xc2\\\\\\\\xa0New Delhi') else x)\n",
        "data['CityLocation']=data['CityLocation'].map(lambda x: 'Bangalore' if (str(x)=='Bengaluru') else x)\n",
        "data['CityLocation']=data['CityLocation'].map(lambda x: 'Gurugram' if (str(x)=='Gurgaon' or str(x)=='\\\\\\\\xc2\\\\\\\\xa0Gurgaon') else x)\n",
        "data['CityLocation']=data['CityLocation'].map(lambda x: 'Noida' if (str(x)=='\\\\\\\\xc2\\\\\\\\xa0Noida') else x)"
      ],
      "execution_count": null,
      "outputs": []
    },
    {
      "cell_type": "markdown",
      "metadata": {
        "id": "oTzRgfF0AUn-"
      },
      "source": [
        "**Cleaning column Industry**"
      ]
    },
    {
      "cell_type": "code",
      "metadata": {
        "id": "-0EqdZQgAZdm"
      },
      "source": [
        "data['Industry']=data['Industry'].map(lambda x: 'E-Commerce' if (str(x)=='eCommerce' or str(x)=='ECommerce' or str(x)=='E-commerce' or str(x)=='Ecommerce' or str(x)=='ecommerce' or str(x)=='E-Commerce') else x)\n",
        "data['Industry']=data['Industry'].map(lambda x: 'Education' if (str(x)=='Education' or str(x)=='Ed-Tech' or str(x)=='Online Education Platform' or str(x)=='EdTech' or str(x)=='Edtech') else x)\n",
        "data['Industry']=data['Industry'].map(lambda x: 'Fintech' if (str(x)=='FinTech' or str(x)=='Fin-Tech' or str(x)=='Financial Tech') else x)\n",
        "data['Industry']=data['Industry'].map(lambda x: 'Food & Beverage' if(str(x)=='Food & Beverage' or str(x)=='Food and Beverage' or str(x)=='Food' or str(x)=='Food & Beverages' or str(x)=='Food and Beverages') else x)\n",
        "data['Industry']=data['Industry'].map(lambda x: 'Transport' if(str(x)=='Transportation') else x)\n",
        "data['Industry']=data['Industry'].map(lambda x: 'Healthcare' if(str(x)=='Health and Wellness' or str(x)=='Health Care') else x)"
      ],
      "execution_count": null,
      "outputs": []
    },
    {
      "cell_type": "markdown",
      "metadata": {
        "id": "imMnzH2-Af5x"
      },
      "source": [
        "**Cleaning column StartupName**"
      ]
    },
    {
      "cell_type": "code",
      "metadata": {
        "id": "dDspFm0ZAm31"
      },
      "source": [
        "data['StartupName']=data['StartupName'].map(lambda x: 'Byju' if(str(x)=='Byjuâ€™s') else x)\n",
        "data['StartupName']=data['StartupName'].map(lambda x: 'Flipkart' if(str(x)=='Flipkart.com') else x)\n",
        "data['StartupName']=data['StartupName'].map(lambda x:'Ola' if(str(x)=='Ola Cabs') else x)"
      ],
      "execution_count": null,
      "outputs": []
    },
    {
      "cell_type": "markdown",
      "metadata": {
        "id": "fRABPtvQArl1"
      },
      "source": [
        "**Cleaning column InvestorName**"
      ]
    },
    {
      "cell_type": "code",
      "metadata": {
        "id": "qZ9WKz3cAwnV"
      },
      "source": [
        "data['InvestorName']=data['InvestorName'].map(lambda x: 'Undisclosed Investors' if(str(x)=='Undisclosed investors' or str(x)=='Undisclosed Investor' or str(x)=='undisclosed investors' or str(x)=='Undisclosed' or str(x)=='Undisclosed investor') else x)"
      ],
      "execution_count": null,
      "outputs": []
    },
    {
      "cell_type": "markdown",
      "metadata": {
        "id": "7ACV8jcjA3qR"
      },
      "source": [
        "**Drop SR NO and Remarks Column**"
      ]
    },
    {
      "cell_type": "code",
      "metadata": {
        "colab": {
          "base_uri": "https://localhost:8080/",
          "height": 346
        },
        "id": "a4Oo3gifBAFZ",
        "outputId": "ec515c40-463d-4b29-8ed1-d892505b7790"
      },
      "source": [
        "data.drop(columns=['Sr No','Remarks','Date dd/mm/yyyy'],inplace=True)\n",
        "data.head()"
      ],
      "execution_count": null,
      "outputs": [
        {
          "output_type": "execute_result",
          "data": {
            "text/html": [
              "<div>\n",
              "<style scoped>\n",
              "    .dataframe tbody tr th:only-of-type {\n",
              "        vertical-align: middle;\n",
              "    }\n",
              "\n",
              "    .dataframe tbody tr th {\n",
              "        vertical-align: top;\n",
              "    }\n",
              "\n",
              "    .dataframe thead th {\n",
              "        text-align: right;\n",
              "    }\n",
              "</style>\n",
              "<table border=\"1\" class=\"dataframe\">\n",
              "  <thead>\n",
              "    <tr style=\"text-align: right;\">\n",
              "      <th></th>\n",
              "      <th>StartupName</th>\n",
              "      <th>Industry</th>\n",
              "      <th>subIndustry</th>\n",
              "      <th>CityLocation</th>\n",
              "      <th>InvestorName</th>\n",
              "      <th>InvestmentType</th>\n",
              "      <th>Amount</th>\n",
              "      <th>Date</th>\n",
              "      <th>Year</th>\n",
              "      <th>Month</th>\n",
              "      <th>Investment Range in USD</th>\n",
              "    </tr>\n",
              "  </thead>\n",
              "  <tbody>\n",
              "    <tr>\n",
              "      <th>0</th>\n",
              "      <td>Zenoti</td>\n",
              "      <td>Technology Provider</td>\n",
              "      <td>Cloud-based software provider for the spa and ...</td>\n",
              "      <td>Washington</td>\n",
              "      <td>Advent International</td>\n",
              "      <td>Series D</td>\n",
              "      <td>160000000</td>\n",
              "      <td>2020-12-15</td>\n",
              "      <td>2020.0</td>\n",
              "      <td>12.0</td>\n",
              "      <td>10C-20C</td>\n",
              "    </tr>\n",
              "    <tr>\n",
              "      <th>1</th>\n",
              "      <td>Tax Buddy India</td>\n",
              "      <td>Fintech</td>\n",
              "      <td>Online tax adviser</td>\n",
              "      <td>Mumbai</td>\n",
              "      <td>Zenith Global</td>\n",
              "      <td>Seed</td>\n",
              "      <td>1000000</td>\n",
              "      <td>2020-12-22</td>\n",
              "      <td>2020.0</td>\n",
              "      <td>12.0</td>\n",
              "      <td>1L-10L</td>\n",
              "    </tr>\n",
              "    <tr>\n",
              "      <th>2</th>\n",
              "      <td>Delhivery</td>\n",
              "      <td>Supply chain</td>\n",
              "      <td>Transportation</td>\n",
              "      <td>Gurugram</td>\n",
              "      <td>Steadview Capital</td>\n",
              "      <td>Secondary Market</td>\n",
              "      <td>25000000</td>\n",
              "      <td>2020-12-15</td>\n",
              "      <td>2020.0</td>\n",
              "      <td>12.0</td>\n",
              "      <td>2C-5C</td>\n",
              "    </tr>\n",
              "    <tr>\n",
              "      <th>3</th>\n",
              "      <td>PagarBook</td>\n",
              "      <td>SaaS</td>\n",
              "      <td>Employee management platform</td>\n",
              "      <td>Bangalore</td>\n",
              "      <td>Sequoia Capital</td>\n",
              "      <td>Series A</td>\n",
              "      <td>15000000</td>\n",
              "      <td>2020-12-18</td>\n",
              "      <td>2020.0</td>\n",
              "      <td>12.0</td>\n",
              "      <td>1C-2C</td>\n",
              "    </tr>\n",
              "    <tr>\n",
              "      <th>4</th>\n",
              "      <td>Codingal</td>\n",
              "      <td>EduTech</td>\n",
              "      <td>Online coding platform</td>\n",
              "      <td>Bangalore</td>\n",
              "      <td>Rebright Partners, Java Capital, and GSF Accel...</td>\n",
              "      <td>Seed</td>\n",
              "      <td>560000</td>\n",
              "      <td>2020-11-30</td>\n",
              "      <td>2020.0</td>\n",
              "      <td>11.0</td>\n",
              "      <td>1L-10L</td>\n",
              "    </tr>\n",
              "  </tbody>\n",
              "</table>\n",
              "</div>"
            ],
            "text/plain": [
              "       StartupName             Industry  ... Month Investment Range in USD\n",
              "0           Zenoti  Technology Provider  ...  12.0                 10C-20C\n",
              "1  Tax Buddy India              Fintech  ...  12.0                  1L-10L\n",
              "2        Delhivery        Supply chain   ...  12.0                   2C-5C\n",
              "3        PagarBook                 SaaS  ...  12.0                   1C-2C\n",
              "4         Codingal              EduTech  ...  11.0                  1L-10L\n",
              "\n",
              "[5 rows x 11 columns]"
            ]
          },
          "metadata": {
            "tags": []
          },
          "execution_count": 16
        }
      ]
    },
    {
      "cell_type": "code",
      "metadata": {
        "colab": {
          "base_uri": "https://localhost:8080/"
        },
        "id": "Yi_si3o8BJXE",
        "outputId": "42b4b13f-0ae5-4a4f-dbd6-01ac09cc3e98"
      },
      "source": [
        "data[['Industry','subIndustry','CityLocation','InvestorName','InvestmentType']].fillna('unknown',inplace=True)\n",
        "data.dropna(inplace=True)"
      ],
      "execution_count": null,
      "outputs": [
        {
          "output_type": "stream",
          "text": [
            "/usr/local/lib/python3.7/dist-packages/pandas/core/frame.py:4327: SettingWithCopyWarning: \n",
            "A value is trying to be set on a copy of a slice from a DataFrame\n",
            "\n",
            "See the caveats in the documentation: https://pandas.pydata.org/pandas-docs/stable/user_guide/indexing.html#returning-a-view-versus-a-copy\n",
            "  downcast=downcast,\n"
          ],
          "name": "stderr"
        }
      ]
    },
    {
      "cell_type": "code",
      "metadata": {
        "colab": {
          "base_uri": "https://localhost:8080/"
        },
        "id": "w8C32WtABNFv",
        "outputId": "157e2f89-e603-408b-9965-3dd11b27cec4"
      },
      "source": [
        "data.isna().sum()"
      ],
      "execution_count": null,
      "outputs": [
        {
          "output_type": "execute_result",
          "data": {
            "text/plain": [
              "StartupName                0\n",
              "Industry                   0\n",
              "subIndustry                0\n",
              "CityLocation               0\n",
              "InvestorName               0\n",
              "InvestmentType             0\n",
              "Amount                     0\n",
              "Date                       0\n",
              "Year                       0\n",
              "Month                      0\n",
              "Investment Range in USD    0\n",
              "dtype: int64"
            ]
          },
          "metadata": {
            "tags": []
          },
          "execution_count": 18
        }
      ]
    },
    {
      "cell_type": "markdown",
      "metadata": {
        "id": "HLteSk57Babe"
      },
      "source": [
        "**cleaning column InvestmentType**"
      ]
    },
    {
      "cell_type": "code",
      "metadata": {
        "id": "9rxMHxxwBfaN"
      },
      "source": [
        "data['InvestmentType']=data['InvestmentType'].apply(lambda x:x.replace(' ','').lower()) "
      ],
      "execution_count": null,
      "outputs": []
    },
    {
      "cell_type": "code",
      "metadata": {
        "id": "j-l7dpvWBjPN"
      },
      "source": [
        "data['InvestmentType']=data['InvestmentType'].map(lambda x: 'private equity' if (str(x)=='privateequity' or str(x)=='privateequityround') else x)\n",
        "data['InvestmentType']=data['InvestmentType'].map(lambda x: 'seed funding' if (str(x)=='seedfunding' or str(x)=='seedround' or str(x)=='seed') else x)\n",
        "data['InvestmentType']=data['InvestmentType'].map(lambda x: 'seed/angel funding' if (str(x)=='seed/angelfunding' or str(x)=='angel/seedfunding' or str(x)=='seed/anglefunding') else x)"
      ],
      "execution_count": null,
      "outputs": []
    },
    {
      "cell_type": "code",
      "metadata": {
        "id": "KRpFDr1WBo0J"
      },
      "source": [
        "def calculate_n_investors(x):#function to calculate record wise number of investors\n",
        "    if  re.search(',',x) and x!='empty':\n",
        "        return len(x.split(','))\n",
        "    elif x!='empty':\n",
        "        return 1\n",
        "    else:\n",
        "        return -1\n",
        "data['numberofinvestors']=data['InvestorName'].replace(np.NaN,'empty').map(calculate_n_investors)"
      ],
      "execution_count": null,
      "outputs": []
    },
    {
      "cell_type": "code",
      "metadata": {
        "colab": {
          "base_uri": "https://localhost:8080/",
          "height": 417
        },
        "id": "Lgwdpjy1BxG1",
        "outputId": "951fe043-ec87-4085-81ad-ea9f2e6246b7"
      },
      "source": [
        "data.head()"
      ],
      "execution_count": null,
      "outputs": [
        {
          "output_type": "execute_result",
          "data": {
            "text/html": [
              "<div>\n",
              "<style scoped>\n",
              "    .dataframe tbody tr th:only-of-type {\n",
              "        vertical-align: middle;\n",
              "    }\n",
              "\n",
              "    .dataframe tbody tr th {\n",
              "        vertical-align: top;\n",
              "    }\n",
              "\n",
              "    .dataframe thead th {\n",
              "        text-align: right;\n",
              "    }\n",
              "</style>\n",
              "<table border=\"1\" class=\"dataframe\">\n",
              "  <thead>\n",
              "    <tr style=\"text-align: right;\">\n",
              "      <th></th>\n",
              "      <th>StartupName</th>\n",
              "      <th>Industry</th>\n",
              "      <th>subIndustry</th>\n",
              "      <th>CityLocation</th>\n",
              "      <th>InvestorName</th>\n",
              "      <th>InvestmentType</th>\n",
              "      <th>Amount</th>\n",
              "      <th>Date</th>\n",
              "      <th>Year</th>\n",
              "      <th>Month</th>\n",
              "      <th>Investment Range in USD</th>\n",
              "      <th>numberofinvestors</th>\n",
              "    </tr>\n",
              "  </thead>\n",
              "  <tbody>\n",
              "    <tr>\n",
              "      <th>0</th>\n",
              "      <td>Zenoti</td>\n",
              "      <td>Technology Provider</td>\n",
              "      <td>Cloud-based software provider for the spa and ...</td>\n",
              "      <td>Washington</td>\n",
              "      <td>Advent International</td>\n",
              "      <td>seriesd</td>\n",
              "      <td>160000000</td>\n",
              "      <td>2020-12-15</td>\n",
              "      <td>2020.0</td>\n",
              "      <td>12.0</td>\n",
              "      <td>10C-20C</td>\n",
              "      <td>1</td>\n",
              "    </tr>\n",
              "    <tr>\n",
              "      <th>1</th>\n",
              "      <td>Tax Buddy India</td>\n",
              "      <td>Fintech</td>\n",
              "      <td>Online tax adviser</td>\n",
              "      <td>Mumbai</td>\n",
              "      <td>Zenith Global</td>\n",
              "      <td>seed funding</td>\n",
              "      <td>1000000</td>\n",
              "      <td>2020-12-22</td>\n",
              "      <td>2020.0</td>\n",
              "      <td>12.0</td>\n",
              "      <td>1L-10L</td>\n",
              "      <td>1</td>\n",
              "    </tr>\n",
              "    <tr>\n",
              "      <th>2</th>\n",
              "      <td>Delhivery</td>\n",
              "      <td>Supply chain</td>\n",
              "      <td>Transportation</td>\n",
              "      <td>Gurugram</td>\n",
              "      <td>Steadview Capital</td>\n",
              "      <td>secondarymarket</td>\n",
              "      <td>25000000</td>\n",
              "      <td>2020-12-15</td>\n",
              "      <td>2020.0</td>\n",
              "      <td>12.0</td>\n",
              "      <td>2C-5C</td>\n",
              "      <td>1</td>\n",
              "    </tr>\n",
              "    <tr>\n",
              "      <th>3</th>\n",
              "      <td>PagarBook</td>\n",
              "      <td>SaaS</td>\n",
              "      <td>Employee management platform</td>\n",
              "      <td>Bangalore</td>\n",
              "      <td>Sequoia Capital</td>\n",
              "      <td>seriesa</td>\n",
              "      <td>15000000</td>\n",
              "      <td>2020-12-18</td>\n",
              "      <td>2020.0</td>\n",
              "      <td>12.0</td>\n",
              "      <td>1C-2C</td>\n",
              "      <td>1</td>\n",
              "    </tr>\n",
              "    <tr>\n",
              "      <th>4</th>\n",
              "      <td>Codingal</td>\n",
              "      <td>EduTech</td>\n",
              "      <td>Online coding platform</td>\n",
              "      <td>Bangalore</td>\n",
              "      <td>Rebright Partners, Java Capital, and GSF Accel...</td>\n",
              "      <td>seed funding</td>\n",
              "      <td>560000</td>\n",
              "      <td>2020-11-30</td>\n",
              "      <td>2020.0</td>\n",
              "      <td>11.0</td>\n",
              "      <td>1L-10L</td>\n",
              "      <td>3</td>\n",
              "    </tr>\n",
              "  </tbody>\n",
              "</table>\n",
              "</div>"
            ],
            "text/plain": [
              "       StartupName  ... numberofinvestors\n",
              "0           Zenoti  ...                 1\n",
              "1  Tax Buddy India  ...                 1\n",
              "2        Delhivery  ...                 1\n",
              "3        PagarBook  ...                 1\n",
              "4         Codingal  ...                 3\n",
              "\n",
              "[5 rows x 12 columns]"
            ]
          },
          "metadata": {
            "tags": []
          },
          "execution_count": 22
        }
      ]
    },
    {
      "cell_type": "markdown",
      "metadata": {
        "id": "EQGZBOX2B2V7"
      },
      "source": [
        "**ML Models**"
      ]
    },
    {
      "cell_type": "code",
      "metadata": {
        "colab": {
          "base_uri": "https://localhost:8080/"
        },
        "id": "vmgcsQ1OCJwG",
        "outputId": "e3225e80-6eab-4db8-b572-d507c7efa884"
      },
      "source": [
        "# import ML models\n",
        "from sklearn import tree\n",
        "from sklearn.tree import DecisionTreeClassifier\n",
        "from sklearn.ensemble import RandomForestClassifier\n",
        "import graphviz\n",
        "from sklearn.tree import export_graphviz\n",
        "\n",
        "# import train test split\n",
        "from sklearn.model_selection import train_test_split\n",
        "\n",
        "# import evaluators\n",
        "from sklearn.metrics import recall_score,precision_score,accuracy_score,classification_report,confusion_matrix\n",
        "\n",
        "%matplotlib inline\n",
        "\n",
        "# import SMOTE\n",
        "from imblearn.over_sampling import RandomOverSampler"
      ],
      "execution_count": null,
      "outputs": [
        {
          "output_type": "stream",
          "text": [
            "/usr/local/lib/python3.7/dist-packages/sklearn/externals/six.py:31: FutureWarning: The module is deprecated in version 0.21 and will be removed in version 0.23 since we've dropped support for Python 2.7. Please rely on the official version of six (https://pypi.org/project/six/).\n",
            "  \"(https://pypi.org/project/six/).\", FutureWarning)\n",
            "/usr/local/lib/python3.7/dist-packages/sklearn/utils/deprecation.py:144: FutureWarning: The sklearn.neighbors.base module is  deprecated in version 0.22 and will be removed in version 0.24. The corresponding classes / functions should instead be imported from sklearn.neighbors. Anything that cannot be imported from sklearn.neighbors is now part of the private API.\n",
            "  warnings.warn(message, FutureWarning)\n"
          ],
          "name": "stderr"
        }
      ]
    },
    {
      "cell_type": "code",
      "metadata": {
        "colab": {
          "base_uri": "https://localhost:8080/",
          "height": 417
        },
        "id": "NOA3FcNXCPzJ",
        "outputId": "1f9ae11e-2c82-49e8-d9f0-d0fc90ddf651"
      },
      "source": [
        "data.head()"
      ],
      "execution_count": null,
      "outputs": [
        {
          "output_type": "execute_result",
          "data": {
            "text/html": [
              "<div>\n",
              "<style scoped>\n",
              "    .dataframe tbody tr th:only-of-type {\n",
              "        vertical-align: middle;\n",
              "    }\n",
              "\n",
              "    .dataframe tbody tr th {\n",
              "        vertical-align: top;\n",
              "    }\n",
              "\n",
              "    .dataframe thead th {\n",
              "        text-align: right;\n",
              "    }\n",
              "</style>\n",
              "<table border=\"1\" class=\"dataframe\">\n",
              "  <thead>\n",
              "    <tr style=\"text-align: right;\">\n",
              "      <th></th>\n",
              "      <th>StartupName</th>\n",
              "      <th>Industry</th>\n",
              "      <th>subIndustry</th>\n",
              "      <th>CityLocation</th>\n",
              "      <th>InvestorName</th>\n",
              "      <th>InvestmentType</th>\n",
              "      <th>Amount</th>\n",
              "      <th>Date</th>\n",
              "      <th>Year</th>\n",
              "      <th>Month</th>\n",
              "      <th>Investment Range in USD</th>\n",
              "      <th>numberofinvestors</th>\n",
              "    </tr>\n",
              "  </thead>\n",
              "  <tbody>\n",
              "    <tr>\n",
              "      <th>0</th>\n",
              "      <td>Zenoti</td>\n",
              "      <td>Technology Provider</td>\n",
              "      <td>Cloud-based software provider for the spa and ...</td>\n",
              "      <td>Washington</td>\n",
              "      <td>Advent International</td>\n",
              "      <td>seriesd</td>\n",
              "      <td>160000000</td>\n",
              "      <td>2020-12-15</td>\n",
              "      <td>2020.0</td>\n",
              "      <td>12.0</td>\n",
              "      <td>10C-20C</td>\n",
              "      <td>1</td>\n",
              "    </tr>\n",
              "    <tr>\n",
              "      <th>1</th>\n",
              "      <td>Tax Buddy India</td>\n",
              "      <td>Fintech</td>\n",
              "      <td>Online tax adviser</td>\n",
              "      <td>Mumbai</td>\n",
              "      <td>Zenith Global</td>\n",
              "      <td>seed funding</td>\n",
              "      <td>1000000</td>\n",
              "      <td>2020-12-22</td>\n",
              "      <td>2020.0</td>\n",
              "      <td>12.0</td>\n",
              "      <td>1L-10L</td>\n",
              "      <td>1</td>\n",
              "    </tr>\n",
              "    <tr>\n",
              "      <th>2</th>\n",
              "      <td>Delhivery</td>\n",
              "      <td>Supply chain</td>\n",
              "      <td>Transportation</td>\n",
              "      <td>Gurugram</td>\n",
              "      <td>Steadview Capital</td>\n",
              "      <td>secondarymarket</td>\n",
              "      <td>25000000</td>\n",
              "      <td>2020-12-15</td>\n",
              "      <td>2020.0</td>\n",
              "      <td>12.0</td>\n",
              "      <td>2C-5C</td>\n",
              "      <td>1</td>\n",
              "    </tr>\n",
              "    <tr>\n",
              "      <th>3</th>\n",
              "      <td>PagarBook</td>\n",
              "      <td>SaaS</td>\n",
              "      <td>Employee management platform</td>\n",
              "      <td>Bangalore</td>\n",
              "      <td>Sequoia Capital</td>\n",
              "      <td>seriesa</td>\n",
              "      <td>15000000</td>\n",
              "      <td>2020-12-18</td>\n",
              "      <td>2020.0</td>\n",
              "      <td>12.0</td>\n",
              "      <td>1C-2C</td>\n",
              "      <td>1</td>\n",
              "    </tr>\n",
              "    <tr>\n",
              "      <th>4</th>\n",
              "      <td>Codingal</td>\n",
              "      <td>EduTech</td>\n",
              "      <td>Online coding platform</td>\n",
              "      <td>Bangalore</td>\n",
              "      <td>Rebright Partners, Java Capital, and GSF Accel...</td>\n",
              "      <td>seed funding</td>\n",
              "      <td>560000</td>\n",
              "      <td>2020-11-30</td>\n",
              "      <td>2020.0</td>\n",
              "      <td>11.0</td>\n",
              "      <td>1L-10L</td>\n",
              "      <td>3</td>\n",
              "    </tr>\n",
              "  </tbody>\n",
              "</table>\n",
              "</div>"
            ],
            "text/plain": [
              "       StartupName  ... numberofinvestors\n",
              "0           Zenoti  ...                 1\n",
              "1  Tax Buddy India  ...                 1\n",
              "2        Delhivery  ...                 1\n",
              "3        PagarBook  ...                 1\n",
              "4         Codingal  ...                 3\n",
              "\n",
              "[5 rows x 12 columns]"
            ]
          },
          "metadata": {
            "tags": []
          },
          "execution_count": 24
        }
      ]
    },
    {
      "cell_type": "code",
      "metadata": {
        "id": "I9dTQgE_Cc8z"
      },
      "source": [
        "X=data[['Industry','subIndustry','CityLocation','InvestmentType','Year','Month']]\n",
        "y=data['Investment Range in USD']"
      ],
      "execution_count": null,
      "outputs": []
    },
    {
      "cell_type": "code",
      "metadata": {
        "id": "rIVktazLCdFU"
      },
      "source": [
        "X=pd.get_dummies(X,columns=['Industry','subIndustry','CityLocation','InvestmentType'],drop_first=True)\n",
        "y,y_unique=pd.factorize(y,sort=True)"
      ],
      "execution_count": null,
      "outputs": []
    },
    {
      "cell_type": "code",
      "metadata": {
        "colab": {
          "base_uri": "https://localhost:8080/"
        },
        "id": "7V7OQESpCrW9",
        "outputId": "3015cbef-668d-48aa-a742-4b3835974070"
      },
      "source": [
        "print(y_unique[:13])"
      ],
      "execution_count": null,
      "outputs": [
        {
          "output_type": "stream",
          "text": [
            "Index(['0-1L', '100C-200C', '10C-20C', '10L-50L', '1C-2C', '1L-10L',\n",
            "       '200C-300C', '20C-40C', '2C-5C', '300C+', '40C-100C', '50L-1C',\n",
            "       '5C-10C'],\n",
            "      dtype='object')\n"
          ],
          "name": "stdout"
        }
      ]
    },
    {
      "cell_type": "code",
      "metadata": {
        "colab": {
          "base_uri": "https://localhost:8080/",
          "height": 294
        },
        "id": "S057Gfc0C0kL",
        "outputId": "22964d3c-8309-415a-d066-5f9455d15e09"
      },
      "source": [
        "X.head()"
      ],
      "execution_count": null,
      "outputs": [
        {
          "output_type": "execute_result",
          "data": {
            "text/html": [
              "<div>\n",
              "<style scoped>\n",
              "    .dataframe tbody tr th:only-of-type {\n",
              "        vertical-align: middle;\n",
              "    }\n",
              "\n",
              "    .dataframe tbody tr th {\n",
              "        vertical-align: top;\n",
              "    }\n",
              "\n",
              "    .dataframe thead th {\n",
              "        text-align: right;\n",
              "    }\n",
              "</style>\n",
              "<table border=\"1\" class=\"dataframe\">\n",
              "  <thead>\n",
              "    <tr style=\"text-align: right;\">\n",
              "      <th></th>\n",
              "      <th>Year</th>\n",
              "      <th>Month</th>\n",
              "      <th>Industry_Accounting</th>\n",
              "      <th>Industry_Advertising</th>\n",
              "      <th>Industry_Advertising, Marketing</th>\n",
              "      <th>Industry_Aerospace</th>\n",
              "      <th>Industry_AgriTech</th>\n",
              "      <th>Industry_Agriculture</th>\n",
              "      <th>Industry_Agtech</th>\n",
              "      <th>Industry_Airfare Marketplace</th>\n",
              "      <th>Industry_Artificial Intelligence</th>\n",
              "      <th>Industry_Auto</th>\n",
              "      <th>Industry_Automation</th>\n",
              "      <th>Industry_Automobile</th>\n",
              "      <th>Industry_Automotive</th>\n",
              "      <th>Industry_Automotive Rental</th>\n",
              "      <th>Industry_B2B</th>\n",
              "      <th>Industry_B2B Marketing</th>\n",
              "      <th>Industry_B2B Platform</th>\n",
              "      <th>Industry_B2B-focused foodtech startup</th>\n",
              "      <th>Industry_BFSI</th>\n",
              "      <th>Industry_BioTech</th>\n",
              "      <th>Industry_Block Chain, Cryptocurrency</th>\n",
              "      <th>Industry_Cafe</th>\n",
              "      <th>Industry_Clean-tech</th>\n",
              "      <th>Industry_Co-working Spaces</th>\n",
              "      <th>Industry_Compliance</th>\n",
              "      <th>Industry_Consumer Goods</th>\n",
              "      <th>Industry_Consumer Interne</th>\n",
              "      <th>Industry_Consumer Internet</th>\n",
              "      <th>Industry_Consumer Portal</th>\n",
              "      <th>Industry_Consumer Technology</th>\n",
              "      <th>Industry_Consumer internet</th>\n",
              "      <th>Industry_Customer Service</th>\n",
              "      <th>Industry_Customer Service Platform</th>\n",
              "      <th>Industry_Dairy Tech</th>\n",
              "      <th>Industry_Deep Tech AI</th>\n",
              "      <th>Industry_Deep-Tech</th>\n",
              "      <th>Industry_Digital Media</th>\n",
              "      <th>Industry_Digital Reconcilation and Financial Services</th>\n",
              "      <th>...</th>\n",
              "      <th>InvestmentType_follow-on</th>\n",
              "      <th>InvestmentType_fundinground</th>\n",
              "      <th>InvestmentType_inhousefunding</th>\n",
              "      <th>InvestmentType_inprogress</th>\n",
              "      <th>InvestmentType_m&amp;a</th>\n",
              "      <th>InvestmentType_maidenround</th>\n",
              "      <th>InvestmentType_mezzanine</th>\n",
              "      <th>InvestmentType_personalinvestment</th>\n",
              "      <th>InvestmentType_pre-seed</th>\n",
              "      <th>InvestmentType_pre-seriesa</th>\n",
              "      <th>InvestmentType_pre-seriesb</th>\n",
              "      <th>InvestmentType_pre-seriese</th>\n",
              "      <th>InvestmentType_preseed</th>\n",
              "      <th>InvestmentType_preseriesa</th>\n",
              "      <th>InvestmentType_private</th>\n",
              "      <th>InvestmentType_private equity</th>\n",
              "      <th>InvestmentType_privatefunding</th>\n",
              "      <th>InvestmentType_secondarymarket</th>\n",
              "      <th>InvestmentType_seed funding</th>\n",
              "      <th>InvestmentType_seed/angel funding</th>\n",
              "      <th>InvestmentType_series1</th>\n",
              "      <th>InvestmentType_seriesa</th>\n",
              "      <th>InvestmentType_seriesb</th>\n",
              "      <th>InvestmentType_seriesb(extension)</th>\n",
              "      <th>InvestmentType_seriesc</th>\n",
              "      <th>InvestmentType_seriesc1</th>\n",
              "      <th>InvestmentType_seriesd</th>\n",
              "      <th>InvestmentType_seriesd1</th>\n",
              "      <th>InvestmentType_seriese</th>\n",
              "      <th>InvestmentType_seriesf</th>\n",
              "      <th>InvestmentType_seriesg</th>\n",
              "      <th>InvestmentType_seriesh</th>\n",
              "      <th>InvestmentType_seriesj</th>\n",
              "      <th>InvestmentType_singleventure</th>\n",
              "      <th>InvestmentType_structureddebt</th>\n",
              "      <th>InvestmentType_termloan</th>\n",
              "      <th>InvestmentType_venture</th>\n",
              "      <th>InvestmentType_venture-seriesunknown</th>\n",
              "      <th>InvestmentType_ventureround</th>\n",
              "      <th>InvestmentType_ventureseries</th>\n",
              "    </tr>\n",
              "  </thead>\n",
              "  <tbody>\n",
              "    <tr>\n",
              "      <th>0</th>\n",
              "      <td>2020.0</td>\n",
              "      <td>12.0</td>\n",
              "      <td>0</td>\n",
              "      <td>0</td>\n",
              "      <td>0</td>\n",
              "      <td>0</td>\n",
              "      <td>0</td>\n",
              "      <td>0</td>\n",
              "      <td>0</td>\n",
              "      <td>0</td>\n",
              "      <td>0</td>\n",
              "      <td>0</td>\n",
              "      <td>0</td>\n",
              "      <td>0</td>\n",
              "      <td>0</td>\n",
              "      <td>0</td>\n",
              "      <td>0</td>\n",
              "      <td>0</td>\n",
              "      <td>0</td>\n",
              "      <td>0</td>\n",
              "      <td>0</td>\n",
              "      <td>0</td>\n",
              "      <td>0</td>\n",
              "      <td>0</td>\n",
              "      <td>0</td>\n",
              "      <td>0</td>\n",
              "      <td>0</td>\n",
              "      <td>0</td>\n",
              "      <td>0</td>\n",
              "      <td>0</td>\n",
              "      <td>0</td>\n",
              "      <td>0</td>\n",
              "      <td>0</td>\n",
              "      <td>0</td>\n",
              "      <td>0</td>\n",
              "      <td>0</td>\n",
              "      <td>0</td>\n",
              "      <td>0</td>\n",
              "      <td>0</td>\n",
              "      <td>0</td>\n",
              "      <td>...</td>\n",
              "      <td>0</td>\n",
              "      <td>0</td>\n",
              "      <td>0</td>\n",
              "      <td>0</td>\n",
              "      <td>0</td>\n",
              "      <td>0</td>\n",
              "      <td>0</td>\n",
              "      <td>0</td>\n",
              "      <td>0</td>\n",
              "      <td>0</td>\n",
              "      <td>0</td>\n",
              "      <td>0</td>\n",
              "      <td>0</td>\n",
              "      <td>0</td>\n",
              "      <td>0</td>\n",
              "      <td>0</td>\n",
              "      <td>0</td>\n",
              "      <td>0</td>\n",
              "      <td>0</td>\n",
              "      <td>0</td>\n",
              "      <td>0</td>\n",
              "      <td>0</td>\n",
              "      <td>0</td>\n",
              "      <td>0</td>\n",
              "      <td>0</td>\n",
              "      <td>0</td>\n",
              "      <td>1</td>\n",
              "      <td>0</td>\n",
              "      <td>0</td>\n",
              "      <td>0</td>\n",
              "      <td>0</td>\n",
              "      <td>0</td>\n",
              "      <td>0</td>\n",
              "      <td>0</td>\n",
              "      <td>0</td>\n",
              "      <td>0</td>\n",
              "      <td>0</td>\n",
              "      <td>0</td>\n",
              "      <td>0</td>\n",
              "      <td>0</td>\n",
              "    </tr>\n",
              "    <tr>\n",
              "      <th>1</th>\n",
              "      <td>2020.0</td>\n",
              "      <td>12.0</td>\n",
              "      <td>0</td>\n",
              "      <td>0</td>\n",
              "      <td>0</td>\n",
              "      <td>0</td>\n",
              "      <td>0</td>\n",
              "      <td>0</td>\n",
              "      <td>0</td>\n",
              "      <td>0</td>\n",
              "      <td>0</td>\n",
              "      <td>0</td>\n",
              "      <td>0</td>\n",
              "      <td>0</td>\n",
              "      <td>0</td>\n",
              "      <td>0</td>\n",
              "      <td>0</td>\n",
              "      <td>0</td>\n",
              "      <td>0</td>\n",
              "      <td>0</td>\n",
              "      <td>0</td>\n",
              "      <td>0</td>\n",
              "      <td>0</td>\n",
              "      <td>0</td>\n",
              "      <td>0</td>\n",
              "      <td>0</td>\n",
              "      <td>0</td>\n",
              "      <td>0</td>\n",
              "      <td>0</td>\n",
              "      <td>0</td>\n",
              "      <td>0</td>\n",
              "      <td>0</td>\n",
              "      <td>0</td>\n",
              "      <td>0</td>\n",
              "      <td>0</td>\n",
              "      <td>0</td>\n",
              "      <td>0</td>\n",
              "      <td>0</td>\n",
              "      <td>0</td>\n",
              "      <td>0</td>\n",
              "      <td>...</td>\n",
              "      <td>0</td>\n",
              "      <td>0</td>\n",
              "      <td>0</td>\n",
              "      <td>0</td>\n",
              "      <td>0</td>\n",
              "      <td>0</td>\n",
              "      <td>0</td>\n",
              "      <td>0</td>\n",
              "      <td>0</td>\n",
              "      <td>0</td>\n",
              "      <td>0</td>\n",
              "      <td>0</td>\n",
              "      <td>0</td>\n",
              "      <td>0</td>\n",
              "      <td>0</td>\n",
              "      <td>0</td>\n",
              "      <td>0</td>\n",
              "      <td>0</td>\n",
              "      <td>1</td>\n",
              "      <td>0</td>\n",
              "      <td>0</td>\n",
              "      <td>0</td>\n",
              "      <td>0</td>\n",
              "      <td>0</td>\n",
              "      <td>0</td>\n",
              "      <td>0</td>\n",
              "      <td>0</td>\n",
              "      <td>0</td>\n",
              "      <td>0</td>\n",
              "      <td>0</td>\n",
              "      <td>0</td>\n",
              "      <td>0</td>\n",
              "      <td>0</td>\n",
              "      <td>0</td>\n",
              "      <td>0</td>\n",
              "      <td>0</td>\n",
              "      <td>0</td>\n",
              "      <td>0</td>\n",
              "      <td>0</td>\n",
              "      <td>0</td>\n",
              "    </tr>\n",
              "    <tr>\n",
              "      <th>2</th>\n",
              "      <td>2020.0</td>\n",
              "      <td>12.0</td>\n",
              "      <td>0</td>\n",
              "      <td>0</td>\n",
              "      <td>0</td>\n",
              "      <td>0</td>\n",
              "      <td>0</td>\n",
              "      <td>0</td>\n",
              "      <td>0</td>\n",
              "      <td>0</td>\n",
              "      <td>0</td>\n",
              "      <td>0</td>\n",
              "      <td>0</td>\n",
              "      <td>0</td>\n",
              "      <td>0</td>\n",
              "      <td>0</td>\n",
              "      <td>0</td>\n",
              "      <td>0</td>\n",
              "      <td>0</td>\n",
              "      <td>0</td>\n",
              "      <td>0</td>\n",
              "      <td>0</td>\n",
              "      <td>0</td>\n",
              "      <td>0</td>\n",
              "      <td>0</td>\n",
              "      <td>0</td>\n",
              "      <td>0</td>\n",
              "      <td>0</td>\n",
              "      <td>0</td>\n",
              "      <td>0</td>\n",
              "      <td>0</td>\n",
              "      <td>0</td>\n",
              "      <td>0</td>\n",
              "      <td>0</td>\n",
              "      <td>0</td>\n",
              "      <td>0</td>\n",
              "      <td>0</td>\n",
              "      <td>0</td>\n",
              "      <td>0</td>\n",
              "      <td>0</td>\n",
              "      <td>...</td>\n",
              "      <td>0</td>\n",
              "      <td>0</td>\n",
              "      <td>0</td>\n",
              "      <td>0</td>\n",
              "      <td>0</td>\n",
              "      <td>0</td>\n",
              "      <td>0</td>\n",
              "      <td>0</td>\n",
              "      <td>0</td>\n",
              "      <td>0</td>\n",
              "      <td>0</td>\n",
              "      <td>0</td>\n",
              "      <td>0</td>\n",
              "      <td>0</td>\n",
              "      <td>0</td>\n",
              "      <td>0</td>\n",
              "      <td>0</td>\n",
              "      <td>1</td>\n",
              "      <td>0</td>\n",
              "      <td>0</td>\n",
              "      <td>0</td>\n",
              "      <td>0</td>\n",
              "      <td>0</td>\n",
              "      <td>0</td>\n",
              "      <td>0</td>\n",
              "      <td>0</td>\n",
              "      <td>0</td>\n",
              "      <td>0</td>\n",
              "      <td>0</td>\n",
              "      <td>0</td>\n",
              "      <td>0</td>\n",
              "      <td>0</td>\n",
              "      <td>0</td>\n",
              "      <td>0</td>\n",
              "      <td>0</td>\n",
              "      <td>0</td>\n",
              "      <td>0</td>\n",
              "      <td>0</td>\n",
              "      <td>0</td>\n",
              "      <td>0</td>\n",
              "    </tr>\n",
              "    <tr>\n",
              "      <th>3</th>\n",
              "      <td>2020.0</td>\n",
              "      <td>12.0</td>\n",
              "      <td>0</td>\n",
              "      <td>0</td>\n",
              "      <td>0</td>\n",
              "      <td>0</td>\n",
              "      <td>0</td>\n",
              "      <td>0</td>\n",
              "      <td>0</td>\n",
              "      <td>0</td>\n",
              "      <td>0</td>\n",
              "      <td>0</td>\n",
              "      <td>0</td>\n",
              "      <td>0</td>\n",
              "      <td>0</td>\n",
              "      <td>0</td>\n",
              "      <td>0</td>\n",
              "      <td>0</td>\n",
              "      <td>0</td>\n",
              "      <td>0</td>\n",
              "      <td>0</td>\n",
              "      <td>0</td>\n",
              "      <td>0</td>\n",
              "      <td>0</td>\n",
              "      <td>0</td>\n",
              "      <td>0</td>\n",
              "      <td>0</td>\n",
              "      <td>0</td>\n",
              "      <td>0</td>\n",
              "      <td>0</td>\n",
              "      <td>0</td>\n",
              "      <td>0</td>\n",
              "      <td>0</td>\n",
              "      <td>0</td>\n",
              "      <td>0</td>\n",
              "      <td>0</td>\n",
              "      <td>0</td>\n",
              "      <td>0</td>\n",
              "      <td>0</td>\n",
              "      <td>0</td>\n",
              "      <td>...</td>\n",
              "      <td>0</td>\n",
              "      <td>0</td>\n",
              "      <td>0</td>\n",
              "      <td>0</td>\n",
              "      <td>0</td>\n",
              "      <td>0</td>\n",
              "      <td>0</td>\n",
              "      <td>0</td>\n",
              "      <td>0</td>\n",
              "      <td>0</td>\n",
              "      <td>0</td>\n",
              "      <td>0</td>\n",
              "      <td>0</td>\n",
              "      <td>0</td>\n",
              "      <td>0</td>\n",
              "      <td>0</td>\n",
              "      <td>0</td>\n",
              "      <td>0</td>\n",
              "      <td>0</td>\n",
              "      <td>0</td>\n",
              "      <td>0</td>\n",
              "      <td>1</td>\n",
              "      <td>0</td>\n",
              "      <td>0</td>\n",
              "      <td>0</td>\n",
              "      <td>0</td>\n",
              "      <td>0</td>\n",
              "      <td>0</td>\n",
              "      <td>0</td>\n",
              "      <td>0</td>\n",
              "      <td>0</td>\n",
              "      <td>0</td>\n",
              "      <td>0</td>\n",
              "      <td>0</td>\n",
              "      <td>0</td>\n",
              "      <td>0</td>\n",
              "      <td>0</td>\n",
              "      <td>0</td>\n",
              "      <td>0</td>\n",
              "      <td>0</td>\n",
              "    </tr>\n",
              "    <tr>\n",
              "      <th>4</th>\n",
              "      <td>2020.0</td>\n",
              "      <td>11.0</td>\n",
              "      <td>0</td>\n",
              "      <td>0</td>\n",
              "      <td>0</td>\n",
              "      <td>0</td>\n",
              "      <td>0</td>\n",
              "      <td>0</td>\n",
              "      <td>0</td>\n",
              "      <td>0</td>\n",
              "      <td>0</td>\n",
              "      <td>0</td>\n",
              "      <td>0</td>\n",
              "      <td>0</td>\n",
              "      <td>0</td>\n",
              "      <td>0</td>\n",
              "      <td>0</td>\n",
              "      <td>0</td>\n",
              "      <td>0</td>\n",
              "      <td>0</td>\n",
              "      <td>0</td>\n",
              "      <td>0</td>\n",
              "      <td>0</td>\n",
              "      <td>0</td>\n",
              "      <td>0</td>\n",
              "      <td>0</td>\n",
              "      <td>0</td>\n",
              "      <td>0</td>\n",
              "      <td>0</td>\n",
              "      <td>0</td>\n",
              "      <td>0</td>\n",
              "      <td>0</td>\n",
              "      <td>0</td>\n",
              "      <td>0</td>\n",
              "      <td>0</td>\n",
              "      <td>0</td>\n",
              "      <td>0</td>\n",
              "      <td>0</td>\n",
              "      <td>0</td>\n",
              "      <td>0</td>\n",
              "      <td>...</td>\n",
              "      <td>0</td>\n",
              "      <td>0</td>\n",
              "      <td>0</td>\n",
              "      <td>0</td>\n",
              "      <td>0</td>\n",
              "      <td>0</td>\n",
              "      <td>0</td>\n",
              "      <td>0</td>\n",
              "      <td>0</td>\n",
              "      <td>0</td>\n",
              "      <td>0</td>\n",
              "      <td>0</td>\n",
              "      <td>0</td>\n",
              "      <td>0</td>\n",
              "      <td>0</td>\n",
              "      <td>0</td>\n",
              "      <td>0</td>\n",
              "      <td>0</td>\n",
              "      <td>1</td>\n",
              "      <td>0</td>\n",
              "      <td>0</td>\n",
              "      <td>0</td>\n",
              "      <td>0</td>\n",
              "      <td>0</td>\n",
              "      <td>0</td>\n",
              "      <td>0</td>\n",
              "      <td>0</td>\n",
              "      <td>0</td>\n",
              "      <td>0</td>\n",
              "      <td>0</td>\n",
              "      <td>0</td>\n",
              "      <td>0</td>\n",
              "      <td>0</td>\n",
              "      <td>0</td>\n",
              "      <td>0</td>\n",
              "      <td>0</td>\n",
              "      <td>0</td>\n",
              "      <td>0</td>\n",
              "      <td>0</td>\n",
              "      <td>0</td>\n",
              "    </tr>\n",
              "  </tbody>\n",
              "</table>\n",
              "<p>5 rows × 2270 columns</p>\n",
              "</div>"
            ],
            "text/plain": [
              "     Year  Month  ...  InvestmentType_ventureround  InvestmentType_ventureseries\n",
              "0  2020.0   12.0  ...                            0                             0\n",
              "1  2020.0   12.0  ...                            0                             0\n",
              "2  2020.0   12.0  ...                            0                             0\n",
              "3  2020.0   12.0  ...                            0                             0\n",
              "4  2020.0   11.0  ...                            0                             0\n",
              "\n",
              "[5 rows x 2270 columns]"
            ]
          },
          "metadata": {
            "tags": []
          },
          "execution_count": 28
        }
      ]
    },
    {
      "cell_type": "code",
      "metadata": {
        "colab": {
          "base_uri": "https://localhost:8080/"
        },
        "id": "JR_hyqAlC5oE",
        "outputId": "185cb253-2512-41d0-9999-4a14c3c9adbc"
      },
      "source": [
        "X.shape"
      ],
      "execution_count": null,
      "outputs": [
        {
          "output_type": "execute_result",
          "data": {
            "text/plain": [
              "(2188, 2270)"
            ]
          },
          "metadata": {
            "tags": []
          },
          "execution_count": 29
        }
      ]
    },
    {
      "cell_type": "code",
      "metadata": {
        "colab": {
          "base_uri": "https://localhost:8080/"
        },
        "id": "YUgofvVpDUKL",
        "outputId": "a5b46b37-2540-4493-a5e1-bb7c34b1f799"
      },
      "source": [
        "# try Oversampling to increase the dataset rows\n",
        "resample=RandomOverSampler()\n",
        "X,y=resample.fit_resample(X,y)\n",
        "X.shape"
      ],
      "execution_count": null,
      "outputs": [
        {
          "output_type": "stream",
          "text": [
            "/usr/local/lib/python3.7/dist-packages/sklearn/utils/deprecation.py:87: FutureWarning: Function safe_indexing is deprecated; safe_indexing is deprecated in version 0.22 and will be removed in version 0.24.\n",
            "  warnings.warn(msg, category=FutureWarning)\n"
          ],
          "name": "stderr"
        },
        {
          "output_type": "execute_result",
          "data": {
            "text/plain": [
              "(10166, 2270)"
            ]
          },
          "metadata": {
            "tags": []
          },
          "execution_count": 31
        }
      ]
    },
    {
      "cell_type": "code",
      "metadata": {
        "id": "O4HDP7XCDdpQ"
      },
      "source": [
        "X_train,X_test,y_train,y_test=train_test_split(X,y,random_state=7,train_size=0.7)"
      ],
      "execution_count": null,
      "outputs": []
    },
    {
      "cell_type": "markdown",
      "metadata": {
        "id": "CYj5nSBYDqpy"
      },
      "source": [
        "**prediction based on target variable Investment Range in USD**"
      ]
    },
    {
      "cell_type": "markdown",
      "metadata": {
        "id": "urimmPeUD0zw"
      },
      "source": [
        "**Decision Tree Classifier**"
      ]
    },
    {
      "cell_type": "code",
      "metadata": {
        "id": "hmPw3LmFD6_f"
      },
      "source": [
        "c1 = DecisionTreeClassifier(min_samples_split=10)"
      ],
      "execution_count": null,
      "outputs": []
    },
    {
      "cell_type": "code",
      "metadata": {
        "id": "54wxKTycEE3H"
      },
      "source": [
        "tree1 = c1.fit(X_train,y_train)"
      ],
      "execution_count": null,
      "outputs": []
    },
    {
      "cell_type": "code",
      "metadata": {
        "id": "zCjchyMTEHiY"
      },
      "source": [
        "y_pred_t1 = c1.predict(X_train)"
      ],
      "execution_count": null,
      "outputs": []
    },
    {
      "cell_type": "code",
      "metadata": {
        "id": "3vENTpfAELkS"
      },
      "source": [
        "y_pred1 = c1.predict(X_test)"
      ],
      "execution_count": null,
      "outputs": []
    },
    {
      "cell_type": "code",
      "metadata": {
        "colab": {
          "base_uri": "https://localhost:8080/"
        },
        "id": "0iRMoNIREPGP",
        "outputId": "c803e44b-b51e-4407-859a-dc5ee4bd9ebf"
      },
      "source": [
        "range_train_score_1 = accuracy_score(y_train, y_pred_t1)\n",
        "range_train_score_1"
      ],
      "execution_count": null,
      "outputs": [
        {
          "output_type": "execute_result",
          "data": {
            "text/plain": [
              "0.978920741989882"
            ]
          },
          "metadata": {
            "tags": []
          },
          "execution_count": 37
        }
      ]
    },
    {
      "cell_type": "code",
      "metadata": {
        "colab": {
          "base_uri": "https://localhost:8080/"
        },
        "id": "EmmVIHd_EekJ",
        "outputId": "2f514e73-9624-43ae-dcd2-d235d7c5fa6f"
      },
      "source": [
        "range_test_score_1 = accuracy_score(y_test, y_pred1)\n",
        "range_test_score_1"
      ],
      "execution_count": null,
      "outputs": [
        {
          "output_type": "execute_result",
          "data": {
            "text/plain": [
              "0.899344262295082"
            ]
          },
          "metadata": {
            "tags": []
          },
          "execution_count": 38
        }
      ]
    },
    {
      "cell_type": "code",
      "metadata": {
        "colab": {
          "base_uri": "https://localhost:8080/"
        },
        "id": "pEX_cbFBEmmb",
        "outputId": "8426f3d2-66f0-4860-e9e7-0a512f44f130"
      },
      "source": [
        "print(classification_report(y_test, y_pred1))"
      ],
      "execution_count": null,
      "outputs": [
        {
          "output_type": "stream",
          "text": [
            "              precision    recall  f1-score   support\n",
            "\n",
            "           0       0.59      0.47      0.52       238\n",
            "           1       0.97      1.00      0.98       253\n",
            "           2       1.00      0.97      0.99       239\n",
            "           3       0.70      0.75      0.72       234\n",
            "           4       0.94      0.97      0.96       227\n",
            "           5       0.67      0.60      0.63       229\n",
            "           6       1.00      1.00      1.00       235\n",
            "           7       0.99      1.00      1.00       226\n",
            "           8       0.94      0.96      0.95       231\n",
            "           9       1.00      1.00      1.00       218\n",
            "          10       1.00      1.00      1.00       257\n",
            "          11       0.82      0.96      0.88       227\n",
            "          12       1.00      1.00      1.00       236\n",
            "\n",
            "    accuracy                           0.90      3050\n",
            "   macro avg       0.89      0.90      0.90      3050\n",
            "weighted avg       0.89      0.90      0.90      3050\n",
            "\n"
          ],
          "name": "stdout"
        }
      ]
    },
    {
      "cell_type": "code",
      "metadata": {
        "colab": {
          "base_uri": "https://localhost:8080/"
        },
        "id": "VUbcij0ZFIf0",
        "outputId": "0243116a-6d52-4579-8a48-a7c29edb9572"
      },
      "source": [
        "cm1 = confusion_matrix(y_test, y_pred1)\n",
        "cm1"
      ],
      "execution_count": null,
      "outputs": [
        {
          "output_type": "execute_result",
          "data": {
            "text/plain": [
              "array([[112,   0,   0,  35,   4,  60,   0,   2,   7,   0,   0,  18,   0],\n",
              "       [  0, 253,   0,   0,   0,   0,   0,   0,   0,   0,   0,   0,   0],\n",
              "       [  0,   7, 232,   0,   0,   0,   0,   0,   0,   0,   0,   0,   0],\n",
              "       [ 19,   1,   0, 175,   5,   9,   0,   0,   5,   0,   0,  19,   1],\n",
              "       [  1,   0,   0,   1, 221,   0,   0,   0,   0,   0,   0,   4,   0],\n",
              "       [ 56,   0,   0,  25,   3, 138,   0,   0,   2,   0,   1,   4,   0],\n",
              "       [  0,   0,   0,   0,   0,   0, 235,   0,   0,   0,   0,   0,   0],\n",
              "       [  0,   0,   0,   0,   0,   0,   0, 226,   0,   0,   0,   0,   0],\n",
              "       [  0,   0,   0,   6,   0,   0,   0,   0, 222,   0,   0,   3,   0],\n",
              "       [  0,   0,   0,   0,   0,   0,   0,   0,   0, 218,   0,   0,   0],\n",
              "       [  0,   0,   0,   0,   0,   0,   0,   0,   0,   0, 257,   0,   0],\n",
              "       [  1,   0,   0,   7,   1,   0,   0,   0,   0,   0,   0, 218,   0],\n",
              "       [  0,   0,   0,   0,   0,   0,   0,   0,   0,   0,   0,   0, 236]])"
            ]
          },
          "metadata": {
            "tags": []
          },
          "execution_count": 40
        }
      ]
    },
    {
      "cell_type": "code",
      "metadata": {
        "colab": {
          "base_uri": "https://localhost:8080/",
          "height": 273
        },
        "id": "ZSVUf3EnFRMP",
        "outputId": "28af4ff0-6314-4e02-9335-56218e92227c"
      },
      "source": [
        "df_cm1 = pd.DataFrame(cm1, range(13), range(13))\n",
        "sns.set(font_scale=1.4) \n",
        "sns.heatmap(df_cm1, annot=True, cmap='Blues', annot_kws={\"size\": 10}, fmt='g') # font size\n",
        "plt.show()"
      ],
      "execution_count": null,
      "outputs": [
        {
          "output_type": "display_data",
          "data": {
            "image/png": "[encoded data removed]",
            "text/plain": [
              "<Figure size 432x288 with 2 Axes>"
            ]
          },
          "metadata": {
            "tags": []
          }
        }
      ]
    },
    {
      "cell_type": "markdown",
      "metadata": {
        "id": "dT2Q-qTyFj7O"
      },
      "source": [
        "**Random Forest Classifier**"
      ]
    },
    {
      "cell_type": "code",
      "metadata": {
        "id": "dxnPajhxFp2l"
      },
      "source": [
        "random_forest = RandomForestClassifier()"
      ],
      "execution_count": null,
      "outputs": []
    },
    {
      "cell_type": "code",
      "metadata": {
        "id": "6l3MFwHUFurZ"
      },
      "source": [
        "rf_temp1 =  RandomForestClassifier(max_depth= 30, n_estimators= 60)"
      ],
      "execution_count": null,
      "outputs": []
    },
    {
      "cell_type": "code",
      "metadata": {
        "colab": {
          "base_uri": "https://localhost:8080/"
        },
        "id": "QREB62m9F1Nc",
        "outputId": "7c2e9c6f-a8a4-4c27-a261-943ae6a09249"
      },
      "source": [
        "rf_temp1_fit = rf_temp1.fit(X_train, y_train)\n",
        "rf_temp1_train_predict = rf_temp1.predict(X_train)\n",
        "\n",
        "rf_temp1_train_predict_score = accuracy_score(y_train, rf_temp1_train_predict) *100\n",
        "rf_temp1_train_predict_score"
      ],
      "execution_count": null,
      "outputs": [
        {
          "output_type": "execute_result",
          "data": {
            "text/plain": [
              "97.14727374929736"
            ]
          },
          "metadata": {
            "tags": []
          },
          "execution_count": 46
        }
      ]
    },
    {
      "cell_type": "code",
      "metadata": {
        "colab": {
          "base_uri": "https://localhost:8080/"
        },
        "id": "Q69BbYauF33o",
        "outputId": "232c2d2d-e41f-42c3-eae9-f7fb2fb067aa"
      },
      "source": [
        "rf_temp1_test_predict = rf_temp1.predict(X_test)\n",
        "rf_temp1_test_predict_score = accuracy_score(y_test, rf_temp1_test_predict) *100\n",
        "rf_temp1_test_predict_score"
      ],
      "execution_count": null,
      "outputs": [
        {
          "output_type": "execute_result",
          "data": {
            "text/plain": [
              "89.18032786885246"
            ]
          },
          "metadata": {
            "tags": []
          },
          "execution_count": 47
        }
      ]
    },
    {
      "cell_type": "code",
      "metadata": {
        "colab": {
          "base_uri": "https://localhost:8080/"
        },
        "id": "sqaBtsymF89F",
        "outputId": "280f5dff-b62a-46ed-d87a-8295514d5cc4"
      },
      "source": [
        "print(classification_report(y_test, rf_temp1_test_predict))"
      ],
      "execution_count": null,
      "outputs": [
        {
          "output_type": "stream",
          "text": [
            "              precision    recall  f1-score   support\n",
            "\n",
            "           0       0.62      0.33      0.43       238\n",
            "           1       0.93      1.00      0.96       253\n",
            "           2       1.00      0.97      0.99       239\n",
            "           3       0.76      0.71      0.73       234\n",
            "           4       0.93      0.96      0.95       227\n",
            "           5       0.60      0.65      0.62       229\n",
            "           6       0.97      1.00      0.98       235\n",
            "           7       1.00      1.00      1.00       226\n",
            "           8       0.91      1.00      0.95       231\n",
            "           9       1.00      1.00      1.00       218\n",
            "          10       1.00      1.00      1.00       257\n",
            "          11       0.78      0.98      0.87       227\n",
            "          12       1.00      1.00      1.00       236\n",
            "\n",
            "    accuracy                           0.89      3050\n",
            "   macro avg       0.88      0.89      0.88      3050\n",
            "weighted avg       0.88      0.89      0.88      3050\n",
            "\n"
          ],
          "name": "stdout"
        }
      ]
    },
    {
      "cell_type": "code",
      "metadata": {
        "colab": {
          "base_uri": "https://localhost:8080/",
          "height": 273
        },
        "id": "mlTjSO05GCfr",
        "outputId": "557a7e2f-98c0-40c1-ca55-9fdaf8d703f5"
      },
      "source": [
        "cm3 = confusion_matrix(y_test, rf_temp1_test_predict)\n",
        "df_cm3 = pd.DataFrame(cm3, range(13), range(13))\n",
        "# plt.figure(figsize=(10,7))\n",
        "sns.set(font_scale=1.4) # for label size\n",
        "sns.heatmap(df_cm3, annot=True, cmap='Blues', annot_kws={\"size\": 10}, fmt='g') # font size\n",
        "plt.show()"
      ],
      "execution_count": null,
      "outputs": [
        {
          "output_type": "display_data",
          "data": {
            "image/png": "[encoded data removed]",
            "text/plain": [
              "<Figure size 432x288 with 2 Axes>"
            ]
          },
          "metadata": {
            "tags": []
          }
        }
      ]
    }
  ]
}