{
 "cells": [
  {
   "cell_type": "code",
   "execution_count": 51,
   "metadata": {},
   "outputs": [],
   "source": [
    "import pandas as pd\n",
    "import numpy as np\n",
    "import seaborn as sns\n",
    "import matplotlib.pyplot as plt\n",
    "import re"
   ]
  },
  {
   "cell_type": "markdown",
   "metadata": {},
   "source": [
    "## Data Exploration and Cleaning"
   ]
  },
  {
   "cell_type": "code",
   "execution_count": 52,
   "metadata": {},
   "outputs": [
    {
     "data": {
      "text/html": [
       "<div>\n",
       "<style scoped>\n",
       "    .dataframe tbody tr th:only-of-type {\n",
       "        vertical-align: middle;\n",
       "    }\n",
       "\n",
       "    .dataframe tbody tr th {\n",
       "        vertical-align: top;\n",
       "    }\n",
       "\n",
       "    .dataframe thead th {\n",
       "        text-align: right;\n",
       "    }\n",
       "</style>\n",
       "<table border=\"1\" class=\"dataframe\">\n",
       "  <thead>\n",
       "    <tr style=\"text-align: right;\">\n",
       "      <th></th>\n",
       "      <th>Sr No</th>\n",
       "      <th>Date dd/mm/yyyy</th>\n",
       "      <th>Startup Name</th>\n",
       "      <th>Industry Vertical</th>\n",
       "      <th>SubVertical</th>\n",
       "      <th>City  Location</th>\n",
       "      <th>Investors Name</th>\n",
       "      <th>InvestmentnType</th>\n",
       "      <th>Amount in USD</th>\n",
       "      <th>Remarks</th>\n",
       "    </tr>\n",
       "  </thead>\n",
       "  <tbody>\n",
       "    <tr>\n",
       "      <th>0</th>\n",
       "      <td>1</td>\n",
       "      <td>15-12-2020</td>\n",
       "      <td>Bira 91</td>\n",
       "      <td>Food and Beverage</td>\n",
       "      <td>Craft Beer</td>\n",
       "      <td>New Delhi</td>\n",
       "      <td>Nishant Mittal, Pankaj Chaddah and Shikha Suni...</td>\n",
       "      <td>Funding</td>\n",
       "      <td>12,73,634.07</td>\n",
       "      <td>NaN</td>\n",
       "    </tr>\n",
       "    <tr>\n",
       "      <th>1</th>\n",
       "      <td>2</td>\n",
       "      <td>21-12-2020</td>\n",
       "      <td>Pine Labs</td>\n",
       "      <td>Financial Services</td>\n",
       "      <td>Payment Solutions Provider</td>\n",
       "      <td>Noida</td>\n",
       "      <td>Lone Pine Capital</td>\n",
       "      <td>Secondary Market</td>\n",
       "      <td>Undisclosed</td>\n",
       "      <td>NaN</td>\n",
       "    </tr>\n",
       "    <tr>\n",
       "      <th>2</th>\n",
       "      <td>3</td>\n",
       "      <td>15-12-2020</td>\n",
       "      <td>Zenoti</td>\n",
       "      <td>Technology Provider</td>\n",
       "      <td>Cloud-based software provider for the spa and ...</td>\n",
       "      <td>Washington</td>\n",
       "      <td>Advent International</td>\n",
       "      <td>Series D</td>\n",
       "      <td>16,00,00,000</td>\n",
       "      <td>NaN</td>\n",
       "    </tr>\n",
       "    <tr>\n",
       "      <th>3</th>\n",
       "      <td>4</td>\n",
       "      <td>22-12-2020</td>\n",
       "      <td>Tax Buddy India</td>\n",
       "      <td>FinTech</td>\n",
       "      <td>Online tax adviser</td>\n",
       "      <td>Mumbai</td>\n",
       "      <td>Zenith Global</td>\n",
       "      <td>Seed</td>\n",
       "      <td>10,00,000</td>\n",
       "      <td>NaN</td>\n",
       "    </tr>\n",
       "    <tr>\n",
       "      <th>4</th>\n",
       "      <td>5</td>\n",
       "      <td>15-12-2020</td>\n",
       "      <td>Delhivery</td>\n",
       "      <td>Supply chain</td>\n",
       "      <td>Transportation</td>\n",
       "      <td>Gurgaon</td>\n",
       "      <td>Steadview Capital</td>\n",
       "      <td>Secondary Market</td>\n",
       "      <td>2,50,00,000</td>\n",
       "      <td>NaN</td>\n",
       "    </tr>\n",
       "  </tbody>\n",
       "</table>\n",
       "</div>"
      ],
      "text/plain": [
       "   Sr No Date dd/mm/yyyy     Startup Name    Industry Vertical  \\\n",
       "0      1      15-12-2020          Bira 91    Food and Beverage   \n",
       "1      2      21-12-2020        Pine Labs   Financial Services   \n",
       "2      3      15-12-2020           Zenoti  Technology Provider   \n",
       "3      4      22-12-2020  Tax Buddy India              FinTech   \n",
       "4      5      15-12-2020        Delhivery        Supply chain    \n",
       "\n",
       "                                         SubVertical City  Location  \\\n",
       "0                                        Craft Beer       New Delhi   \n",
       "1                         Payment Solutions Provider          Noida   \n",
       "2  Cloud-based software provider for the spa and ...     Washington   \n",
       "3                                Online tax adviser          Mumbai   \n",
       "4                                     Transportation        Gurgaon   \n",
       "\n",
       "                                      Investors Name   InvestmentnType  \\\n",
       "0  Nishant Mittal, Pankaj Chaddah and Shikha Suni...           Funding   \n",
       "1                                  Lone Pine Capital  Secondary Market   \n",
       "2                               Advent International          Series D   \n",
       "3                                      Zenith Global              Seed   \n",
       "4                                 Steadview Capital   Secondary Market   \n",
       "\n",
       "  Amount in USD Remarks  \n",
       "0  12,73,634.07     NaN  \n",
       "1   Undisclosed     NaN  \n",
       "2  16,00,00,000     NaN  \n",
       "3     10,00,000     NaN  \n",
       "4   2,50,00,000     NaN  "
      ]
     },
     "execution_count": 52,
     "metadata": {},
     "output_type": "execute_result"
    }
   ],
   "source": [
    "data=pd.read_csv('startupfund.csv')\n",
    "data.head()"
   ]
  },
  {
   "cell_type": "code",
   "execution_count": 53,
   "metadata": {},
   "outputs": [
    {
     "data": {
      "text/plain": [
       "(3158, 10)"
      ]
     },
     "execution_count": 53,
     "metadata": {},
     "output_type": "execute_result"
    }
   ],
   "source": [
    "data.shape"
   ]
  },
  {
   "cell_type": "code",
   "execution_count": 54,
   "metadata": {},
   "outputs": [
    {
     "name": "stdout",
     "output_type": "stream",
     "text": [
      "<class 'pandas.core.frame.DataFrame'>\n",
      "RangeIndex: 3158 entries, 0 to 3157\n",
      "Data columns (total 10 columns):\n",
      " #   Column             Non-Null Count  Dtype \n",
      "---  ------             --------------  ----- \n",
      " 0   Sr No              3158 non-null   int64 \n",
      " 1   Date dd/mm/yyyy    3158 non-null   object\n",
      " 2   Startup Name       3158 non-null   object\n",
      " 3   Industry Vertical  2987 non-null   object\n",
      " 4   SubVertical        2222 non-null   object\n",
      " 5   City  Location     2978 non-null   object\n",
      " 6   Investors Name     3134 non-null   object\n",
      " 7   InvestmentnType    3150 non-null   object\n",
      " 8   Amount in USD      2184 non-null   object\n",
      " 9   Remarks            419 non-null    object\n",
      "dtypes: int64(1), object(9)\n",
      "memory usage: 246.8+ KB\n"
     ]
    }
   ],
   "source": [
    "data.info()"
   ]
  },
  {
   "cell_type": "code",
   "execution_count": 55,
   "metadata": {},
   "outputs": [
    {
     "data": {
      "text/html": [
       "<div>\n",
       "<style scoped>\n",
       "    .dataframe tbody tr th:only-of-type {\n",
       "        vertical-align: middle;\n",
       "    }\n",
       "\n",
       "    .dataframe tbody tr th {\n",
       "        vertical-align: top;\n",
       "    }\n",
       "\n",
       "    .dataframe thead th {\n",
       "        text-align: right;\n",
       "    }\n",
       "</style>\n",
       "<table border=\"1\" class=\"dataframe\">\n",
       "  <thead>\n",
       "    <tr style=\"text-align: right;\">\n",
       "      <th></th>\n",
       "      <th>Sr No</th>\n",
       "      <th>Date dd/mm/yyyy</th>\n",
       "      <th>StartupName</th>\n",
       "      <th>Industry</th>\n",
       "      <th>SubVertical</th>\n",
       "      <th>CityLocation</th>\n",
       "      <th>InvestorName</th>\n",
       "      <th>InvestmentType</th>\n",
       "      <th>Amount</th>\n",
       "      <th>Remarks</th>\n",
       "    </tr>\n",
       "  </thead>\n",
       "  <tbody>\n",
       "    <tr>\n",
       "      <th>0</th>\n",
       "      <td>1</td>\n",
       "      <td>15-12-2020</td>\n",
       "      <td>Bira 91</td>\n",
       "      <td>Food and Beverage</td>\n",
       "      <td>Craft Beer</td>\n",
       "      <td>New Delhi</td>\n",
       "      <td>Nishant Mittal, Pankaj Chaddah and Shikha Suni...</td>\n",
       "      <td>Funding</td>\n",
       "      <td>12,73,634.07</td>\n",
       "      <td>NaN</td>\n",
       "    </tr>\n",
       "    <tr>\n",
       "      <th>1</th>\n",
       "      <td>2</td>\n",
       "      <td>21-12-2020</td>\n",
       "      <td>Pine Labs</td>\n",
       "      <td>Financial Services</td>\n",
       "      <td>Payment Solutions Provider</td>\n",
       "      <td>Noida</td>\n",
       "      <td>Lone Pine Capital</td>\n",
       "      <td>Secondary Market</td>\n",
       "      <td>Undisclosed</td>\n",
       "      <td>NaN</td>\n",
       "    </tr>\n",
       "    <tr>\n",
       "      <th>2</th>\n",
       "      <td>3</td>\n",
       "      <td>15-12-2020</td>\n",
       "      <td>Zenoti</td>\n",
       "      <td>Technology Provider</td>\n",
       "      <td>Cloud-based software provider for the spa and ...</td>\n",
       "      <td>Washington</td>\n",
       "      <td>Advent International</td>\n",
       "      <td>Series D</td>\n",
       "      <td>16,00,00,000</td>\n",
       "      <td>NaN</td>\n",
       "    </tr>\n",
       "    <tr>\n",
       "      <th>3</th>\n",
       "      <td>4</td>\n",
       "      <td>22-12-2020</td>\n",
       "      <td>Tax Buddy India</td>\n",
       "      <td>FinTech</td>\n",
       "      <td>Online tax adviser</td>\n",
       "      <td>Mumbai</td>\n",
       "      <td>Zenith Global</td>\n",
       "      <td>Seed</td>\n",
       "      <td>10,00,000</td>\n",
       "      <td>NaN</td>\n",
       "    </tr>\n",
       "    <tr>\n",
       "      <th>4</th>\n",
       "      <td>5</td>\n",
       "      <td>15-12-2020</td>\n",
       "      <td>Delhivery</td>\n",
       "      <td>Supply chain</td>\n",
       "      <td>Transportation</td>\n",
       "      <td>Gurgaon</td>\n",
       "      <td>Steadview Capital</td>\n",
       "      <td>Secondary Market</td>\n",
       "      <td>2,50,00,000</td>\n",
       "      <td>NaN</td>\n",
       "    </tr>\n",
       "  </tbody>\n",
       "</table>\n",
       "</div>"
      ],
      "text/plain": [
       "   Sr No Date dd/mm/yyyy      StartupName             Industry  \\\n",
       "0      1      15-12-2020          Bira 91    Food and Beverage   \n",
       "1      2      21-12-2020        Pine Labs   Financial Services   \n",
       "2      3      15-12-2020           Zenoti  Technology Provider   \n",
       "3      4      22-12-2020  Tax Buddy India              FinTech   \n",
       "4      5      15-12-2020        Delhivery        Supply chain    \n",
       "\n",
       "                                         SubVertical CityLocation  \\\n",
       "0                                        Craft Beer     New Delhi   \n",
       "1                         Payment Solutions Provider        Noida   \n",
       "2  Cloud-based software provider for the spa and ...   Washington   \n",
       "3                                Online tax adviser        Mumbai   \n",
       "4                                     Transportation      Gurgaon   \n",
       "\n",
       "                                        InvestorName    InvestmentType  \\\n",
       "0  Nishant Mittal, Pankaj Chaddah and Shikha Suni...           Funding   \n",
       "1                                  Lone Pine Capital  Secondary Market   \n",
       "2                               Advent International          Series D   \n",
       "3                                      Zenith Global              Seed   \n",
       "4                                 Steadview Capital   Secondary Market   \n",
       "\n",
       "         Amount Remarks  \n",
       "0  12,73,634.07     NaN  \n",
       "1   Undisclosed     NaN  \n",
       "2  16,00,00,000     NaN  \n",
       "3     10,00,000     NaN  \n",
       "4   2,50,00,000     NaN  "
      ]
     },
     "execution_count": 55,
     "metadata": {},
     "output_type": "execute_result"
    }
   ],
   "source": [
    "data.rename(columns={'Startup Name': 'StartupName', 'Industry Vertical': 'Industry', 'City  Location': 'CityLocation', 'Investors Name': 'InvestorName', 'InvestmentnType': 'InvestmentType', 'Amount in USD': 'Amount'}, inplace=True)\n",
    "data.head()"
   ]
  },
  {
   "cell_type": "markdown",
   "metadata": {},
   "source": [
    "### Cleaning date column and extracting month and year values from date"
   ]
  },
  {
   "cell_type": "code",
   "execution_count": 56,
   "metadata": {},
   "outputs": [],
   "source": [
    "data['Date dd/mm/yyyy']=data['Date dd/mm/yyyy'].map(lambda x:str(x).replace('-',''))\n",
    "data['Date dd/mm/yyyy']=data['Date dd/mm/yyyy'].map(lambda x:str(x).replace('/',''))"
   ]
  },
  {
   "cell_type": "code",
   "execution_count": 57,
   "metadata": {},
   "outputs": [],
   "source": [
    "data['Date']=pd.to_datetime(data['Date dd/mm/yyyy'],format='%d%m%Y',errors='coerce')\n",
    "data['Year']=pd.DatetimeIndex(data['Date']).year\n",
    "data['Month']=pd.DatetimeIndex(data['Date']).month"
   ]
  },
  {
   "cell_type": "markdown",
   "metadata": {},
   "source": [
    "### Converting values in Amount column from string to float "
   ]
  },
  {
   "cell_type": "code",
   "execution_count": 58,
   "metadata": {},
   "outputs": [],
   "source": [
    "def isnum(x):\n",
    "    try:\n",
    "        x=int(str(x).replace(',',''))\n",
    "    except:\n",
    "        x=str(x).replace(',','')\n",
    "    if isinstance(x,int):\n",
    "        return x\n",
    "    else:\n",
    "        return 0"
   ]
  },
  {
   "cell_type": "code",
   "execution_count": 59,
   "metadata": {},
   "outputs": [],
   "source": [
    "data['Amount']=data['Amount'].map(isnum)"
   ]
  },
  {
   "cell_type": "code",
   "execution_count": 60,
   "metadata": {},
   "outputs": [],
   "source": [
    "def amount(x):\n",
    "    if x<=100000:\n",
    "        return '0-1L'\n",
    "    elif x<=1000000:\n",
    "        return '1L-10L'\n",
    "    elif x<=5000000:\n",
    "        return '10L-50L'\n",
    "    elif x<=10000000:\n",
    "        return '50L-1C'\n",
    "    elif x<=20000000:\n",
    "        return '1C-2C'\n",
    "    elif x<=50000000:\n",
    "        return '2C-5C'\n",
    "    elif x<=100000000:\n",
    "        return '5C-10C'\n",
    "    elif x<=200000000:\n",
    "        return '10C-20C'\n",
    "    elif x<=400000000:\n",
    "        return '20C-40C'\n",
    "    elif x<=1000000000:\n",
    "        return '40C-100C'\n",
    "    elif x<=2000000000:\n",
    "        return '100C-200C'\n",
    "    elif x<=3000000000:\n",
    "        return '200C-300C'\n",
    "    else:\n",
    "        return '300C+'"
   ]
  },
  {
   "cell_type": "code",
   "execution_count": 61,
   "metadata": {},
   "outputs": [],
   "source": [
    "data['Investment Range in USD']=data['Amount'].map(amount)"
   ]
  },
  {
   "cell_type": "markdown",
   "metadata": {},
   "source": [
    "### Cleaning column CityLocation"
   ]
  },
  {
   "cell_type": "code",
   "execution_count": 62,
   "metadata": {},
   "outputs": [],
   "source": [
    "data['CityLocation']=data['CityLocation'].map(lambda x: 'New Delhi' if (str(x)=='\\\\\\\\xc2\\\\\\\\xa0New Delhi') else x)\n",
    "data['CityLocation']=data['CityLocation'].map(lambda x: 'Bangalore' if (str(x)=='Bengaluru') else x)\n",
    "data['CityLocation']=data['CityLocation'].map(lambda x: 'Gurugram' if (str(x)=='Gurgaon' or str(x)=='\\\\\\\\xc2\\\\\\\\xa0Gurgaon') else x)\n",
    "data['CityLocation']=data['CityLocation'].map(lambda x: 'Noida' if (str(x)=='\\\\\\\\xc2\\\\\\\\xa0Noida') else x)"
   ]
  },
  {
   "cell_type": "markdown",
   "metadata": {},
   "source": [
    "### Cleaning column Industry"
   ]
  },
  {
   "cell_type": "code",
   "execution_count": 63,
   "metadata": {},
   "outputs": [],
   "source": [
    "data['Industry']=data['Industry'].map(lambda x: 'E-Commerce' if (str(x)=='eCommerce' or str(x)=='ECommerce' or str(x)=='E-commerce' or str(x)=='Ecommerce' or str(x)=='ecommerce' or str(x)=='E-Commerce') else x)\n",
    "data['Industry']=data['Industry'].map(lambda x: 'Education' if (str(x)=='Education' or str(x)=='Ed-Tech' or str(x)=='Online Education Platform' or str(x)=='EdTech' or str(x)=='Edtech') else x)\n",
    "data['Industry']=data['Industry'].map(lambda x: 'Fintech' if (str(x)=='FinTech' or str(x)=='Fin-Tech' or str(x)=='Financial Tech') else x)\n",
    "data['Industry']=data['Industry'].map(lambda x: 'Food & Beverage' if(str(x)=='Food & Beverage' or str(x)=='Food and Beverage' or str(x)=='Food' or str(x)=='Food & Beverages' or str(x)=='Food and Beverages') else x)\n",
    "data['Industry']=data['Industry'].map(lambda x: 'Transport' if(str(x)=='Transportation') else x)\n",
    "data['Industry']=data['Industry'].map(lambda x: 'Healthcare' if(str(x)=='Health and Wellness' or str(x)=='Health Care') else x)"
   ]
  },
  {
   "cell_type": "code",
   "execution_count": 64,
   "metadata": {},
   "outputs": [],
   "source": [
    "data['StartupName']=data['StartupName'].map(lambda x: 'Byju' if(str(x)=='Byjuâ€™s') else x)\n",
    "data['StartupName']=data['StartupName'].map(lambda x: 'Flipkart' if(str(x)=='Flipkart.com') else x)\n",
    "data['StartupName']=data['StartupName'].map(lambda x:'Ola' if(str(x)=='Ola Cabs') else x)"
   ]
  },
  {
   "cell_type": "code",
   "execution_count": 65,
   "metadata": {},
   "outputs": [],
   "source": [
    "data['InvestorName']=data['InvestorName'].map(lambda x: 'Undisclosed Investors' if(str(x)=='Undisclosed investors' or str(x)=='Undisclosed Investor' or str(x)=='undisclosed investors' or str(x)=='Undisclosed' or str(x)=='Undisclosed investor') else x)"
   ]
  },
  {
   "cell_type": "markdown",
   "metadata": {},
   "source": [
    "### Drop Sr.No and remarks column"
   ]
  },
  {
   "cell_type": "code",
   "execution_count": 66,
   "metadata": {},
   "outputs": [],
   "source": [
    "data.drop(columns=['Sr No','Remarks','Date dd/mm/yyyy'],inplace=True)"
   ]
  },
  {
   "cell_type": "code",
   "execution_count": 67,
   "metadata": {},
   "outputs": [
    {
     "data": {
      "text/html": [
       "<div>\n",
       "<style scoped>\n",
       "    .dataframe tbody tr th:only-of-type {\n",
       "        vertical-align: middle;\n",
       "    }\n",
       "\n",
       "    .dataframe tbody tr th {\n",
       "        vertical-align: top;\n",
       "    }\n",
       "\n",
       "    .dataframe thead th {\n",
       "        text-align: right;\n",
       "    }\n",
       "</style>\n",
       "<table border=\"1\" class=\"dataframe\">\n",
       "  <thead>\n",
       "    <tr style=\"text-align: right;\">\n",
       "      <th></th>\n",
       "      <th>StartupName</th>\n",
       "      <th>Industry</th>\n",
       "      <th>SubVertical</th>\n",
       "      <th>CityLocation</th>\n",
       "      <th>InvestorName</th>\n",
       "      <th>InvestmentType</th>\n",
       "      <th>Amount</th>\n",
       "      <th>Date</th>\n",
       "      <th>Year</th>\n",
       "      <th>Month</th>\n",
       "      <th>Investment Range in USD</th>\n",
       "    </tr>\n",
       "  </thead>\n",
       "  <tbody>\n",
       "    <tr>\n",
       "      <th>0</th>\n",
       "      <td>Bira 91</td>\n",
       "      <td>Food &amp; Beverage</td>\n",
       "      <td>Craft Beer</td>\n",
       "      <td>New Delhi</td>\n",
       "      <td>Nishant Mittal, Pankaj Chaddah and Shikha Suni...</td>\n",
       "      <td>Funding</td>\n",
       "      <td>0</td>\n",
       "      <td>2020-12-15</td>\n",
       "      <td>2020.0</td>\n",
       "      <td>12.0</td>\n",
       "      <td>0-1L</td>\n",
       "    </tr>\n",
       "    <tr>\n",
       "      <th>1</th>\n",
       "      <td>Pine Labs</td>\n",
       "      <td>Financial Services</td>\n",
       "      <td>Payment Solutions Provider</td>\n",
       "      <td>Noida</td>\n",
       "      <td>Lone Pine Capital</td>\n",
       "      <td>Secondary Market</td>\n",
       "      <td>0</td>\n",
       "      <td>2020-12-21</td>\n",
       "      <td>2020.0</td>\n",
       "      <td>12.0</td>\n",
       "      <td>0-1L</td>\n",
       "    </tr>\n",
       "    <tr>\n",
       "      <th>2</th>\n",
       "      <td>Zenoti</td>\n",
       "      <td>Technology Provider</td>\n",
       "      <td>Cloud-based software provider for the spa and ...</td>\n",
       "      <td>Washington</td>\n",
       "      <td>Advent International</td>\n",
       "      <td>Series D</td>\n",
       "      <td>160000000</td>\n",
       "      <td>2020-12-15</td>\n",
       "      <td>2020.0</td>\n",
       "      <td>12.0</td>\n",
       "      <td>10C-20C</td>\n",
       "    </tr>\n",
       "    <tr>\n",
       "      <th>3</th>\n",
       "      <td>Tax Buddy India</td>\n",
       "      <td>Fintech</td>\n",
       "      <td>Online tax adviser</td>\n",
       "      <td>Mumbai</td>\n",
       "      <td>Zenith Global</td>\n",
       "      <td>Seed</td>\n",
       "      <td>1000000</td>\n",
       "      <td>2020-12-22</td>\n",
       "      <td>2020.0</td>\n",
       "      <td>12.0</td>\n",
       "      <td>1L-10L</td>\n",
       "    </tr>\n",
       "    <tr>\n",
       "      <th>4</th>\n",
       "      <td>Delhivery</td>\n",
       "      <td>Supply chain</td>\n",
       "      <td>Transportation</td>\n",
       "      <td>Gurugram</td>\n",
       "      <td>Steadview Capital</td>\n",
       "      <td>Secondary Market</td>\n",
       "      <td>25000000</td>\n",
       "      <td>2020-12-15</td>\n",
       "      <td>2020.0</td>\n",
       "      <td>12.0</td>\n",
       "      <td>2C-5C</td>\n",
       "    </tr>\n",
       "  </tbody>\n",
       "</table>\n",
       "</div>"
      ],
      "text/plain": [
       "       StartupName             Industry  \\\n",
       "0          Bira 91      Food & Beverage   \n",
       "1        Pine Labs   Financial Services   \n",
       "2           Zenoti  Technology Provider   \n",
       "3  Tax Buddy India              Fintech   \n",
       "4        Delhivery        Supply chain    \n",
       "\n",
       "                                         SubVertical CityLocation  \\\n",
       "0                                        Craft Beer     New Delhi   \n",
       "1                         Payment Solutions Provider        Noida   \n",
       "2  Cloud-based software provider for the spa and ...   Washington   \n",
       "3                                Online tax adviser        Mumbai   \n",
       "4                                     Transportation     Gurugram   \n",
       "\n",
       "                                        InvestorName    InvestmentType  \\\n",
       "0  Nishant Mittal, Pankaj Chaddah and Shikha Suni...           Funding   \n",
       "1                                  Lone Pine Capital  Secondary Market   \n",
       "2                               Advent International          Series D   \n",
       "3                                      Zenith Global              Seed   \n",
       "4                                 Steadview Capital   Secondary Market   \n",
       "\n",
       "      Amount       Date    Year  Month Investment Range in USD  \n",
       "0          0 2020-12-15  2020.0   12.0                    0-1L  \n",
       "1          0 2020-12-21  2020.0   12.0                    0-1L  \n",
       "2  160000000 2020-12-15  2020.0   12.0                 10C-20C  \n",
       "3    1000000 2020-12-22  2020.0   12.0                  1L-10L  \n",
       "4   25000000 2020-12-15  2020.0   12.0                   2C-5C  "
      ]
     },
     "execution_count": 67,
     "metadata": {},
     "output_type": "execute_result"
    }
   ],
   "source": [
    "data.head()"
   ]
  },
  {
   "cell_type": "code",
   "execution_count": 68,
   "metadata": {},
   "outputs": [
    {
     "name": "stderr",
     "output_type": "stream",
     "text": [
      "c:\\python37\\lib\\site-packages\\pandas\\core\\frame.py:4468: SettingWithCopyWarning: \n",
      "A value is trying to be set on a copy of a slice from a DataFrame\n",
      "\n",
      "See the caveats in the documentation: https://pandas.pydata.org/pandas-docs/stable/user_guide/indexing.html#returning-a-view-versus-a-copy\n",
      "  downcast=downcast,\n"
     ]
    }
   ],
   "source": [
    "data[['Industry','SubVertical','CityLocation','InvestorName','InvestmentType']].fillna('unknown',inplace=True)\n",
    "data.dropna(inplace=True)"
   ]
  },
  {
   "cell_type": "code",
   "execution_count": 69,
   "metadata": {},
   "outputs": [
    {
     "data": {
      "text/plain": [
       "StartupName                0\n",
       "Industry                   0\n",
       "SubVertical                0\n",
       "CityLocation               0\n",
       "InvestorName               0\n",
       "InvestmentType             0\n",
       "Amount                     0\n",
       "Date                       0\n",
       "Year                       0\n",
       "Month                      0\n",
       "Investment Range in USD    0\n",
       "dtype: int64"
      ]
     },
     "execution_count": 69,
     "metadata": {},
     "output_type": "execute_result"
    }
   ],
   "source": [
    "data.isna().sum()"
   ]
  },
  {
   "cell_type": "markdown",
   "metadata": {},
   "source": [
    "### Cleaning column InvestmentType"
   ]
  },
  {
   "cell_type": "code",
   "execution_count": 70,
   "metadata": {},
   "outputs": [],
   "source": [
    "data['InvestmentType']=data['InvestmentType'].apply(lambda x:x.replace(' ','').lower()) "
   ]
  },
  {
   "cell_type": "code",
   "execution_count": 71,
   "metadata": {},
   "outputs": [],
   "source": [
    "data['InvestmentType']=data['InvestmentType'].map(lambda x: 'private equity' if (str(x)=='privateequity' or str(x)=='privateequityround') else x)\n",
    "data['InvestmentType']=data['InvestmentType'].map(lambda x: 'seed funding' if (str(x)=='seedfunding' or str(x)=='seedround' or str(x)=='seed') else x)\n",
    "data['InvestmentType']=data['InvestmentType'].map(lambda x: 'seed/angel funding' if (str(x)=='seed/angelfunding' or str(x)=='angel/seedfunding' or str(x)=='seed/anglefunding') else x)"
   ]
  },
  {
   "cell_type": "code",
   "execution_count": 72,
   "metadata": {},
   "outputs": [],
   "source": [
    "def calculate_n_investors(x):#function to calculate record wise number of investors\n",
    "    if  re.search(',',x) and x!='empty':\n",
    "        return len(x.split(','))\n",
    "    elif x!='empty':\n",
    "        return 1\n",
    "    else:\n",
    "        return -1\n",
    "data['numberofinvestors']=data['InvestorName'].replace(np.NaN,'empty').map(calculate_n_investors)"
   ]
  },
  {
   "cell_type": "code",
   "execution_count": 73,
   "metadata": {},
   "outputs": [
    {
     "data": {
      "text/html": [
       "<div>\n",
       "<style scoped>\n",
       "    .dataframe tbody tr th:only-of-type {\n",
       "        vertical-align: middle;\n",
       "    }\n",
       "\n",
       "    .dataframe tbody tr th {\n",
       "        vertical-align: top;\n",
       "    }\n",
       "\n",
       "    .dataframe thead th {\n",
       "        text-align: right;\n",
       "    }\n",
       "</style>\n",
       "<table border=\"1\" class=\"dataframe\">\n",
       "  <thead>\n",
       "    <tr style=\"text-align: right;\">\n",
       "      <th></th>\n",
       "      <th>StartupName</th>\n",
       "      <th>Industry</th>\n",
       "      <th>SubVertical</th>\n",
       "      <th>CityLocation</th>\n",
       "      <th>InvestorName</th>\n",
       "      <th>InvestmentType</th>\n",
       "      <th>Amount</th>\n",
       "      <th>Date</th>\n",
       "      <th>Year</th>\n",
       "      <th>Month</th>\n",
       "      <th>Investment Range in USD</th>\n",
       "      <th>numberofinvestors</th>\n",
       "    </tr>\n",
       "  </thead>\n",
       "  <tbody>\n",
       "    <tr>\n",
       "      <th>0</th>\n",
       "      <td>Bira 91</td>\n",
       "      <td>Food &amp; Beverage</td>\n",
       "      <td>Craft Beer</td>\n",
       "      <td>New Delhi</td>\n",
       "      <td>Nishant Mittal, Pankaj Chaddah and Shikha Suni...</td>\n",
       "      <td>funding</td>\n",
       "      <td>0</td>\n",
       "      <td>2020-12-15</td>\n",
       "      <td>2020.0</td>\n",
       "      <td>12.0</td>\n",
       "      <td>0-1L</td>\n",
       "      <td>2</td>\n",
       "    </tr>\n",
       "    <tr>\n",
       "      <th>1</th>\n",
       "      <td>Pine Labs</td>\n",
       "      <td>Financial Services</td>\n",
       "      <td>Payment Solutions Provider</td>\n",
       "      <td>Noida</td>\n",
       "      <td>Lone Pine Capital</td>\n",
       "      <td>secondarymarket</td>\n",
       "      <td>0</td>\n",
       "      <td>2020-12-21</td>\n",
       "      <td>2020.0</td>\n",
       "      <td>12.0</td>\n",
       "      <td>0-1L</td>\n",
       "      <td>1</td>\n",
       "    </tr>\n",
       "    <tr>\n",
       "      <th>2</th>\n",
       "      <td>Zenoti</td>\n",
       "      <td>Technology Provider</td>\n",
       "      <td>Cloud-based software provider for the spa and ...</td>\n",
       "      <td>Washington</td>\n",
       "      <td>Advent International</td>\n",
       "      <td>seriesd</td>\n",
       "      <td>160000000</td>\n",
       "      <td>2020-12-15</td>\n",
       "      <td>2020.0</td>\n",
       "      <td>12.0</td>\n",
       "      <td>10C-20C</td>\n",
       "      <td>1</td>\n",
       "    </tr>\n",
       "    <tr>\n",
       "      <th>3</th>\n",
       "      <td>Tax Buddy India</td>\n",
       "      <td>Fintech</td>\n",
       "      <td>Online tax adviser</td>\n",
       "      <td>Mumbai</td>\n",
       "      <td>Zenith Global</td>\n",
       "      <td>seed funding</td>\n",
       "      <td>1000000</td>\n",
       "      <td>2020-12-22</td>\n",
       "      <td>2020.0</td>\n",
       "      <td>12.0</td>\n",
       "      <td>1L-10L</td>\n",
       "      <td>1</td>\n",
       "    </tr>\n",
       "    <tr>\n",
       "      <th>4</th>\n",
       "      <td>Delhivery</td>\n",
       "      <td>Supply chain</td>\n",
       "      <td>Transportation</td>\n",
       "      <td>Gurugram</td>\n",
       "      <td>Steadview Capital</td>\n",
       "      <td>secondarymarket</td>\n",
       "      <td>25000000</td>\n",
       "      <td>2020-12-15</td>\n",
       "      <td>2020.0</td>\n",
       "      <td>12.0</td>\n",
       "      <td>2C-5C</td>\n",
       "      <td>1</td>\n",
       "    </tr>\n",
       "  </tbody>\n",
       "</table>\n",
       "</div>"
      ],
      "text/plain": [
       "       StartupName             Industry  \\\n",
       "0          Bira 91      Food & Beverage   \n",
       "1        Pine Labs   Financial Services   \n",
       "2           Zenoti  Technology Provider   \n",
       "3  Tax Buddy India              Fintech   \n",
       "4        Delhivery        Supply chain    \n",
       "\n",
       "                                         SubVertical CityLocation  \\\n",
       "0                                        Craft Beer     New Delhi   \n",
       "1                         Payment Solutions Provider        Noida   \n",
       "2  Cloud-based software provider for the spa and ...   Washington   \n",
       "3                                Online tax adviser        Mumbai   \n",
       "4                                     Transportation     Gurugram   \n",
       "\n",
       "                                        InvestorName   InvestmentType  \\\n",
       "0  Nishant Mittal, Pankaj Chaddah and Shikha Suni...          funding   \n",
       "1                                  Lone Pine Capital  secondarymarket   \n",
       "2                               Advent International          seriesd   \n",
       "3                                      Zenith Global     seed funding   \n",
       "4                                 Steadview Capital   secondarymarket   \n",
       "\n",
       "      Amount       Date    Year  Month Investment Range in USD  \\\n",
       "0          0 2020-12-15  2020.0   12.0                    0-1L   \n",
       "1          0 2020-12-21  2020.0   12.0                    0-1L   \n",
       "2  160000000 2020-12-15  2020.0   12.0                 10C-20C   \n",
       "3    1000000 2020-12-22  2020.0   12.0                  1L-10L   \n",
       "4   25000000 2020-12-15  2020.0   12.0                   2C-5C   \n",
       "\n",
       "   numberofinvestors  \n",
       "0                  2  \n",
       "1                  1  \n",
       "2                  1  \n",
       "3                  1  \n",
       "4                  1  "
      ]
     },
     "execution_count": 73,
     "metadata": {},
     "output_type": "execute_result"
    }
   ],
   "source": [
    "data.head()"
   ]
  },
  {
   "cell_type": "code",
   "execution_count": null,
   "metadata": {},
   "outputs": [],
   "source": []
  },
  {
   "cell_type": "code",
   "execution_count": 74,
   "metadata": {},
   "outputs": [
    {
     "data": {
      "text/html": [
       "<div>\n",
       "<style scoped>\n",
       "    .dataframe tbody tr th:only-of-type {\n",
       "        vertical-align: middle;\n",
       "    }\n",
       "\n",
       "    .dataframe tbody tr th {\n",
       "        vertical-align: top;\n",
       "    }\n",
       "\n",
       "    .dataframe thead th {\n",
       "        text-align: right;\n",
       "    }\n",
       "</style>\n",
       "<table border=\"1\" class=\"dataframe\">\n",
       "  <thead>\n",
       "    <tr style=\"text-align: right;\">\n",
       "      <th></th>\n",
       "      <th>StartupName</th>\n",
       "      <th>Industry</th>\n",
       "      <th>SubVertical</th>\n",
       "      <th>CityLocation</th>\n",
       "      <th>InvestorName</th>\n",
       "      <th>InvestmentType</th>\n",
       "      <th>Amount</th>\n",
       "      <th>Year</th>\n",
       "      <th>Month</th>\n",
       "      <th>Investment Range in USD</th>\n",
       "      <th>numberofinvestors</th>\n",
       "    </tr>\n",
       "    <tr>\n",
       "      <th>Date</th>\n",
       "      <th></th>\n",
       "      <th></th>\n",
       "      <th></th>\n",
       "      <th></th>\n",
       "      <th></th>\n",
       "      <th></th>\n",
       "      <th></th>\n",
       "      <th></th>\n",
       "      <th></th>\n",
       "      <th></th>\n",
       "      <th></th>\n",
       "    </tr>\n",
       "  </thead>\n",
       "  <tbody>\n",
       "    <tr>\n",
       "      <th>2020-12-15</th>\n",
       "      <td>Bira 91</td>\n",
       "      <td>Food &amp; Beverage</td>\n",
       "      <td>Craft Beer</td>\n",
       "      <td>New Delhi</td>\n",
       "      <td>Nishant Mittal, Pankaj Chaddah and Shikha Suni...</td>\n",
       "      <td>funding</td>\n",
       "      <td>0</td>\n",
       "      <td>2020.0</td>\n",
       "      <td>12.0</td>\n",
       "      <td>0-1L</td>\n",
       "      <td>2</td>\n",
       "    </tr>\n",
       "    <tr>\n",
       "      <th>2020-12-21</th>\n",
       "      <td>Pine Labs</td>\n",
       "      <td>Financial Services</td>\n",
       "      <td>Payment Solutions Provider</td>\n",
       "      <td>Noida</td>\n",
       "      <td>Lone Pine Capital</td>\n",
       "      <td>secondarymarket</td>\n",
       "      <td>0</td>\n",
       "      <td>2020.0</td>\n",
       "      <td>12.0</td>\n",
       "      <td>0-1L</td>\n",
       "      <td>1</td>\n",
       "    </tr>\n",
       "    <tr>\n",
       "      <th>2020-12-15</th>\n",
       "      <td>Zenoti</td>\n",
       "      <td>Technology Provider</td>\n",
       "      <td>Cloud-based software provider for the spa and ...</td>\n",
       "      <td>Washington</td>\n",
       "      <td>Advent International</td>\n",
       "      <td>seriesd</td>\n",
       "      <td>160000000</td>\n",
       "      <td>2020.0</td>\n",
       "      <td>12.0</td>\n",
       "      <td>10C-20C</td>\n",
       "      <td>1</td>\n",
       "    </tr>\n",
       "    <tr>\n",
       "      <th>2020-12-22</th>\n",
       "      <td>Tax Buddy India</td>\n",
       "      <td>Fintech</td>\n",
       "      <td>Online tax adviser</td>\n",
       "      <td>Mumbai</td>\n",
       "      <td>Zenith Global</td>\n",
       "      <td>seed funding</td>\n",
       "      <td>1000000</td>\n",
       "      <td>2020.0</td>\n",
       "      <td>12.0</td>\n",
       "      <td>1L-10L</td>\n",
       "      <td>1</td>\n",
       "    </tr>\n",
       "    <tr>\n",
       "      <th>2020-12-15</th>\n",
       "      <td>Delhivery</td>\n",
       "      <td>Supply chain</td>\n",
       "      <td>Transportation</td>\n",
       "      <td>Gurugram</td>\n",
       "      <td>Steadview Capital</td>\n",
       "      <td>secondarymarket</td>\n",
       "      <td>25000000</td>\n",
       "      <td>2020.0</td>\n",
       "      <td>12.0</td>\n",
       "      <td>2C-5C</td>\n",
       "      <td>1</td>\n",
       "    </tr>\n",
       "  </tbody>\n",
       "</table>\n",
       "</div>"
      ],
      "text/plain": [
       "                StartupName             Industry  \\\n",
       "Date                                               \n",
       "2020-12-15          Bira 91      Food & Beverage   \n",
       "2020-12-21        Pine Labs   Financial Services   \n",
       "2020-12-15           Zenoti  Technology Provider   \n",
       "2020-12-22  Tax Buddy India              Fintech   \n",
       "2020-12-15        Delhivery        Supply chain    \n",
       "\n",
       "                                                  SubVertical CityLocation  \\\n",
       "Date                                                                         \n",
       "2020-12-15                                        Craft Beer     New Delhi   \n",
       "2020-12-21                         Payment Solutions Provider        Noida   \n",
       "2020-12-15  Cloud-based software provider for the spa and ...   Washington   \n",
       "2020-12-22                                Online tax adviser        Mumbai   \n",
       "2020-12-15                                     Transportation     Gurugram   \n",
       "\n",
       "                                                 InvestorName  \\\n",
       "Date                                                            \n",
       "2020-12-15  Nishant Mittal, Pankaj Chaddah and Shikha Suni...   \n",
       "2020-12-21                                  Lone Pine Capital   \n",
       "2020-12-15                               Advent International   \n",
       "2020-12-22                                      Zenith Global   \n",
       "2020-12-15                                 Steadview Capital    \n",
       "\n",
       "             InvestmentType     Amount    Year  Month Investment Range in USD  \\\n",
       "Date                                                                            \n",
       "2020-12-15          funding          0  2020.0   12.0                    0-1L   \n",
       "2020-12-21  secondarymarket          0  2020.0   12.0                    0-1L   \n",
       "2020-12-15          seriesd  160000000  2020.0   12.0                 10C-20C   \n",
       "2020-12-22     seed funding    1000000  2020.0   12.0                  1L-10L   \n",
       "2020-12-15  secondarymarket   25000000  2020.0   12.0                   2C-5C   \n",
       "\n",
       "            numberofinvestors  \n",
       "Date                           \n",
       "2020-12-15                  2  \n",
       "2020-12-21                  1  \n",
       "2020-12-15                  1  \n",
       "2020-12-22                  1  \n",
       "2020-12-15                  1  "
      ]
     },
     "execution_count": 74,
     "metadata": {},
     "output_type": "execute_result"
    }
   ],
   "source": [
    "startup_data = data[['StartupName', 'Industry', 'SubVertical', 'CityLocation', 'InvestorName', 'InvestmentType', 'Amount', 'Date', 'Year', 'Month','Investment Range in USD','numberofinvestors']]\n",
    "startup_data['Date'] = pd.to_datetime(startup_data.Date)\n",
    "startup_data.set_index('Date', inplace=True)\n",
    "startup_data.head()"
   ]
  },
  {
   "cell_type": "markdown",
   "metadata": {},
   "source": [
    "### How Funding change with time"
   ]
  },
  {
   "cell_type": "code",
   "execution_count": 75,
   "metadata": {},
   "outputs": [],
   "source": [
    "per_year_funding = pd.DataFrame(startup_data['Year'].value_counts())  #per year funding\n",
    "per_year_funding .rename(columns={\"Year\":\"Number of Fundings per year\"}, inplace=True)\n",
    "\n",
    "per_month_funding = pd.DataFrame(startup_data['Month'].value_counts()) #per month funding\n",
    "per_month_funding .rename(columns={\"Month\":\"Number of Fundings per month\"}, inplace=True)\n"
   ]
  },
  {
   "cell_type": "code",
   "execution_count": 76,
   "metadata": {},
   "outputs": [],
   "source": [
    "funding_total_yr = pd.DataFrame(startup_data.groupby(by=['Year'])['Amount'].sum()) #Total amount of funding/year\n",
    "funding_total_yr.rename(columns={\"Amount\":\"Total Funding per year(USD-Bn)\"}, inplace=True)\n",
    "funding_total_yr = funding_total_yr.sort_values(by='Total Funding per year(USD-Bn)', ascending=False)\n",
    "\n",
    "funding_total_month = pd.DataFrame(startup_data.groupby(by=['Month'])['Amount'].sum()) #per month\n",
    "funding_total_month.rename(columns={\"Amount\":\"Total Funding per month(USD-Bn)\"}, inplace=True)\n",
    "funding_total_month = funding_total_month.sort_values(by='Total Funding per month(USD-Bn)', ascending=False)\n",
    "\n"
   ]
  },
  {
   "cell_type": "code",
   "execution_count": 77,
   "metadata": {},
   "outputs": [
    {
     "data": {
      "image/png": "[encoded data removed]",
      "text/plain": [
       "<Figure size 1296x576 with 4 Axes>"
      ]
     },
     "metadata": {
      "needs_background": "light"
     },
     "output_type": "display_data"
    }
   ],
   "source": [
    "fig, axes = plt.subplots(nrows=2, ncols=2, figsize=(18,8))\n",
    "\n",
    "sns.barplot(x=per_year_funding.index, y=per_year_funding['Number of Fundings per year'], data=per_year_funding, ax=axes[0,0], orient='v')\n",
    "sns.barplot(x=per_month_funding.index, y=per_month_funding['Number of Fundings per month'], data=per_month_funding, ax=axes[0,1], orient='v')\n",
    "\n",
    "sns.barplot(x=funding_total_yr.index, y=funding_total_yr['Total Funding per year(USD-Bn)'], data=funding_total_yr, ax=axes[1,0], orient='v')\n",
    "sns.barplot(x=funding_total_month.index, y=funding_total_month['Total Funding per month(USD-Bn)'], data=funding_total_month, ax=axes[1,1], orient='v')\n",
    "\n",
    "fig.tight_layout(pad=3)\n",
    "plt.show()"
   ]
  },
  {
   "cell_type": "markdown",
   "metadata": {},
   "source": [
    "### Role of city in funding"
   ]
  },
  {
   "cell_type": "code",
   "execution_count": 78,
   "metadata": {},
   "outputs": [],
   "source": [
    "fundings_count_city = pd.DataFrame(startup_data['CityLocation'].value_counts().sort_values(ascending=False)[:10])\n",
    "fundings_count_city.rename(columns={'CityLocation':'Number of Fundings by City'}, inplace=True)\n",
    "\n",
    "funding_total_city = pd.DataFrame(startup_data.groupby('CityLocation')['Amount'].sum()).sort_values(by=\"Amount\", ascending=False)[:10]\n",
    "funding_total_city.rename(columns={'Amount':'Amount of Funding by City(USD-Bn)'}, inplace=True)\n"
   ]
  },
  {
   "cell_type": "code",
   "execution_count": 79,
   "metadata": {},
   "outputs": [
    {
     "data": {
      "image/png": "[encoded data removed]",
      "text/plain": [
       "<Figure size 1800x720 with 2 Axes>"
      ]
     },
     "metadata": {
      "needs_background": "light"
     },
     "output_type": "display_data"
    }
   ],
   "source": [
    "fig, axes = plt.subplots(nrows=2, ncols=1, figsize=(25, 10))\n",
    "\n",
    "sns.barplot(x=fundings_count_city.index, y=fundings_count_city['Number of Fundings by City'], data=fundings_count_city, ax=axes[0])\n",
    "sns.barplot(x=funding_total_city.index, y=funding_total_city['Amount of Funding by City(USD-Bn)'], data=funding_total_city, ax=axes[1]).set_xticklabels(rotation=90, labels=funding_total_city.index)\n",
    "\n",
    "fig.tight_layout(pad=0.5)\n",
    "plt.show()"
   ]
  },
  {
   "cell_type": "markdown",
   "metadata": {},
   "source": [
    "### Industries favoured by investors"
   ]
  },
  {
   "cell_type": "code",
   "execution_count": 80,
   "metadata": {},
   "outputs": [],
   "source": [
    "fundings_count_industry = pd.DataFrame(startup_data['Industry'].value_counts().sort_values(ascending=False))[:15]\n",
    "fundings_count_industry.rename(columns={'Industry':'Number of Fundings by Industry'}, inplace=True)\n",
    "\n",
    "\n",
    "funding_total_industry = pd.DataFrame(startup_data.groupby('Industry')['Amount'].sum()).sort_values(by=\"Amount\", ascending=False)[:15]\n",
    "funding_total_industry.rename(columns={'Amount':'Amount of Funding by Industry(USD-Bn)'}, inplace=True)\n",
    "\n",
    "\n"
   ]
  },
  {
   "cell_type": "code",
   "execution_count": 81,
   "metadata": {},
   "outputs": [
    {
     "data": {
      "image/png": "[encoded data removed]",
      "text/plain": [
       "<Figure size 1800x1080 with 2 Axes>"
      ]
     },
     "metadata": {
      "needs_background": "light"
     },
     "output_type": "display_data"
    }
   ],
   "source": [
    "fig, axes = plt.subplots(nrows=2, ncols=1, figsize=(25, 15))\n",
    "\n",
    "sns.barplot(x=fundings_count_industry.index, y=fundings_count_industry['Number of Fundings by Industry'], data=fundings_count_industry, ax=axes[0]).set_xticklabels(rotation=90, labels=fundings_count_industry.index)\n",
    "sns.barplot(x=funding_total_industry.index, y=funding_total_industry['Amount of Funding by Industry(USD-Bn)'], data=funding_total_industry, ax=axes[1]).set_xticklabels(rotation=90, labels=funding_total_industry.index)\n",
    "\n",
    "fig.tight_layout(pad=1)\n",
    "plt.xticks(rotation=90)\n",
    "plt.show()"
   ]
  },
  {
   "cell_type": "markdown",
   "metadata": {},
   "source": [
    "### Important Investors in India"
   ]
  },
  {
   "cell_type": "code",
   "execution_count": 82,
   "metadata": {},
   "outputs": [],
   "source": [
    "funding_count_investor = pd.DataFrame(startup_data['InvestorName'].value_counts()).sort_values(by='InvestorName', ascending=False)[:10]\n",
    "funding_count_investor.rename(columns={'InvestorName': 'Number of Investments by Investor'}, inplace=True)\n",
    "funding_count_investor.drop(funding_count_investor[funding_count_investor.index == 'Undisclosed Investors'].index, inplace=True)\n"
   ]
  },
  {
   "cell_type": "code",
   "execution_count": 83,
   "metadata": {},
   "outputs": [],
   "source": [
    "funding_total_investor = pd.DataFrame(startup_data.groupby(['InvestorName'])['Amount'].sum()).sort_values(by=\"Amount\", ascending=False)[:15]\n",
    "funding_total_investor.rename(columns={'Amount':'Total Funding by Investor(USD-Bn)'}, inplace=True)\n"
   ]
  },
  {
   "cell_type": "code",
   "execution_count": 84,
   "metadata": {},
   "outputs": [
    {
     "data": {
      "image/png": "[encoded data removed]",
      "text/plain": [
       "<Figure size 1800x1080 with 2 Axes>"
      ]
     },
     "metadata": {
      "needs_background": "light"
     },
     "output_type": "display_data"
    }
   ],
   "source": [
    "fig, axes = plt.subplots(nrows=2, ncols=1, figsize=(25, 15))\n",
    "\n",
    "sns.barplot(x=funding_count_investor.index, y=funding_count_investor['Number of Investments by Investor'], data=funding_count_investor, ax=axes[0]).set_xticklabels(rotation=90, labels=funding_count_investor.index)\n",
    "sns.barplot(x=funding_total_investor.index, y=funding_total_investor['Total Funding by Investor(USD-Bn)'], data=funding_total_investor, ax=axes[1]).set_xticklabels(rotation=90, labels=funding_total_investor.index)\n",
    "\n",
    "fig.tight_layout(pad=1)\n",
    "plt.show()"
   ]
  },
  {
   "cell_type": "markdown",
   "metadata": {},
   "source": [
    "### Funds startups generally get in india"
   ]
  },
  {
   "cell_type": "code",
   "execution_count": 85,
   "metadata": {},
   "outputs": [],
   "source": [
    "funding_count_company = pd.DataFrame(startup_data['StartupName'].value_counts()).sort_values(by='StartupName', ascending=False)[:15]\n",
    "funding_count_company.rename(columns={'StartupName': 'Number of Investments by Investor'}, inplace=True)\n"
   ]
  },
  {
   "cell_type": "code",
   "execution_count": 86,
   "metadata": {},
   "outputs": [],
   "source": [
    "funding_total_company = pd.DataFrame(startup_data.groupby('StartupName')['Amount'].sum()).sort_values(by='Amount', ascending=False)[:15]\n",
    "funding_total_company.rename(columns={'Amount': \"Total amount Raised by Startup (USD-Bn)\"}, inplace=True)\n"
   ]
  },
  {
   "cell_type": "code",
   "execution_count": 87,
   "metadata": {},
   "outputs": [
    {
     "data": {
      "image/png": "[encoded data removed]",
      "text/plain": [
       "<Figure size 1800x1080 with 2 Axes>"
      ]
     },
     "metadata": {
      "needs_background": "light"
     },
     "output_type": "display_data"
    }
   ],
   "source": [
    "fig, axes = plt.subplots(nrows=2, ncols=1, figsize=(25, 15))\n",
    "\n",
    "sns.barplot(x=funding_count_company.index, y=funding_count_company['Number of Investments by Investor'], data=funding_count_company, ax=axes[0]).set_xticklabels(rotation=90, labels=funding_count_company.index)\n",
    "sns.barplot(x=funding_total_company.index, y=funding_total_company['Total amount Raised by Startup (USD-Bn)'], data=funding_total_company, ax=axes[1]).set_xticklabels(rotation=90, labels=funding_total_company.index)\n",
    "\n",
    "fig.tight_layout(pad=1)\n",
    "plt.show()"
   ]
  },
  {
   "cell_type": "markdown",
   "metadata": {},
   "source": [
    "# ML Models"
   ]
  },
  {
   "cell_type": "code",
   "execution_count": 88,
   "metadata": {},
   "outputs": [],
   "source": [
    "# import ML models\n",
    "from sklearn.linear_model import LogisticRegression\n",
    "from sklearn.tree import DecisionTreeClassifier\n",
    "from sklearn.ensemble import RandomForestClassifier,GradientBoostingClassifier,AdaBoostClassifier\n",
    "from sklearn.svm import SVC\n",
    "\n",
    "# import train test split\n",
    "from sklearn.model_selection import train_test_split\n",
    "\n",
    "# import evaluators\n",
    "from sklearn.metrics import recall_score,precision_score,accuracy_score"
   ]
  },
  {
   "cell_type": "code",
   "execution_count": 89,
   "metadata": {},
   "outputs": [
    {
     "data": {
      "text/html": [
       "<div>\n",
       "<style scoped>\n",
       "    .dataframe tbody tr th:only-of-type {\n",
       "        vertical-align: middle;\n",
       "    }\n",
       "\n",
       "    .dataframe tbody tr th {\n",
       "        vertical-align: top;\n",
       "    }\n",
       "\n",
       "    .dataframe thead th {\n",
       "        text-align: right;\n",
       "    }\n",
       "</style>\n",
       "<table border=\"1\" class=\"dataframe\">\n",
       "  <thead>\n",
       "    <tr style=\"text-align: right;\">\n",
       "      <th></th>\n",
       "      <th>StartupName</th>\n",
       "      <th>Industry</th>\n",
       "      <th>SubVertical</th>\n",
       "      <th>CityLocation</th>\n",
       "      <th>InvestorName</th>\n",
       "      <th>InvestmentType</th>\n",
       "      <th>Amount</th>\n",
       "      <th>Date</th>\n",
       "      <th>Year</th>\n",
       "      <th>Month</th>\n",
       "      <th>Investment Range in USD</th>\n",
       "      <th>numberofinvestors</th>\n",
       "    </tr>\n",
       "  </thead>\n",
       "  <tbody>\n",
       "    <tr>\n",
       "      <th>0</th>\n",
       "      <td>Bira 91</td>\n",
       "      <td>Food &amp; Beverage</td>\n",
       "      <td>Craft Beer</td>\n",
       "      <td>New Delhi</td>\n",
       "      <td>Nishant Mittal, Pankaj Chaddah and Shikha Suni...</td>\n",
       "      <td>funding</td>\n",
       "      <td>0</td>\n",
       "      <td>2020-12-15</td>\n",
       "      <td>2020.0</td>\n",
       "      <td>12.0</td>\n",
       "      <td>0-1L</td>\n",
       "      <td>2</td>\n",
       "    </tr>\n",
       "    <tr>\n",
       "      <th>1</th>\n",
       "      <td>Pine Labs</td>\n",
       "      <td>Financial Services</td>\n",
       "      <td>Payment Solutions Provider</td>\n",
       "      <td>Noida</td>\n",
       "      <td>Lone Pine Capital</td>\n",
       "      <td>secondarymarket</td>\n",
       "      <td>0</td>\n",
       "      <td>2020-12-21</td>\n",
       "      <td>2020.0</td>\n",
       "      <td>12.0</td>\n",
       "      <td>0-1L</td>\n",
       "      <td>1</td>\n",
       "    </tr>\n",
       "    <tr>\n",
       "      <th>2</th>\n",
       "      <td>Zenoti</td>\n",
       "      <td>Technology Provider</td>\n",
       "      <td>Cloud-based software provider for the spa and ...</td>\n",
       "      <td>Washington</td>\n",
       "      <td>Advent International</td>\n",
       "      <td>seriesd</td>\n",
       "      <td>160000000</td>\n",
       "      <td>2020-12-15</td>\n",
       "      <td>2020.0</td>\n",
       "      <td>12.0</td>\n",
       "      <td>10C-20C</td>\n",
       "      <td>1</td>\n",
       "    </tr>\n",
       "    <tr>\n",
       "      <th>3</th>\n",
       "      <td>Tax Buddy India</td>\n",
       "      <td>Fintech</td>\n",
       "      <td>Online tax adviser</td>\n",
       "      <td>Mumbai</td>\n",
       "      <td>Zenith Global</td>\n",
       "      <td>seed funding</td>\n",
       "      <td>1000000</td>\n",
       "      <td>2020-12-22</td>\n",
       "      <td>2020.0</td>\n",
       "      <td>12.0</td>\n",
       "      <td>1L-10L</td>\n",
       "      <td>1</td>\n",
       "    </tr>\n",
       "    <tr>\n",
       "      <th>4</th>\n",
       "      <td>Delhivery</td>\n",
       "      <td>Supply chain</td>\n",
       "      <td>Transportation</td>\n",
       "      <td>Gurugram</td>\n",
       "      <td>Steadview Capital</td>\n",
       "      <td>secondarymarket</td>\n",
       "      <td>25000000</td>\n",
       "      <td>2020-12-15</td>\n",
       "      <td>2020.0</td>\n",
       "      <td>12.0</td>\n",
       "      <td>2C-5C</td>\n",
       "      <td>1</td>\n",
       "    </tr>\n",
       "  </tbody>\n",
       "</table>\n",
       "</div>"
      ],
      "text/plain": [
       "       StartupName             Industry  \\\n",
       "0          Bira 91      Food & Beverage   \n",
       "1        Pine Labs   Financial Services   \n",
       "2           Zenoti  Technology Provider   \n",
       "3  Tax Buddy India              Fintech   \n",
       "4        Delhivery        Supply chain    \n",
       "\n",
       "                                         SubVertical CityLocation  \\\n",
       "0                                        Craft Beer     New Delhi   \n",
       "1                         Payment Solutions Provider        Noida   \n",
       "2  Cloud-based software provider for the spa and ...   Washington   \n",
       "3                                Online tax adviser        Mumbai   \n",
       "4                                     Transportation     Gurugram   \n",
       "\n",
       "                                        InvestorName   InvestmentType  \\\n",
       "0  Nishant Mittal, Pankaj Chaddah and Shikha Suni...          funding   \n",
       "1                                  Lone Pine Capital  secondarymarket   \n",
       "2                               Advent International          seriesd   \n",
       "3                                      Zenith Global     seed funding   \n",
       "4                                 Steadview Capital   secondarymarket   \n",
       "\n",
       "      Amount       Date    Year  Month Investment Range in USD  \\\n",
       "0          0 2020-12-15  2020.0   12.0                    0-1L   \n",
       "1          0 2020-12-21  2020.0   12.0                    0-1L   \n",
       "2  160000000 2020-12-15  2020.0   12.0                 10C-20C   \n",
       "3    1000000 2020-12-22  2020.0   12.0                  1L-10L   \n",
       "4   25000000 2020-12-15  2020.0   12.0                   2C-5C   \n",
       "\n",
       "   numberofinvestors  \n",
       "0                  2  \n",
       "1                  1  \n",
       "2                  1  \n",
       "3                  1  \n",
       "4                  1  "
      ]
     },
     "execution_count": 89,
     "metadata": {},
     "output_type": "execute_result"
    }
   ],
   "source": [
    "data.head()"
   ]
  },
  {
   "cell_type": "code",
   "execution_count": 90,
   "metadata": {},
   "outputs": [],
   "source": [
    "X=data[['Industry','SubVertical','CityLocation','InvestmentType','Year','Month']]\n",
    "y=data['Investment Range in USD']"
   ]
  },
  {
   "cell_type": "code",
   "execution_count": 91,
   "metadata": {},
   "outputs": [],
   "source": [
    "# change string value to numerical value\n",
    "# X['Industry'],Industry_unique=pd.factorize(X['Industry'],sort=True)\n",
    "# X['SubVertical'],SubVertical_unique=pd.factorize(X['SubVertical'],sort=True)\n",
    "# X['CityLocation'],CityLocation_unique=pd.factorize(X['CityLocation'],sort=True)\n",
    "# X['InvestmentType'],InvestmentType_unique=pd.factorize(X['InvestmentType'],sort=True)\n",
    "\n",
    "X=pd.get_dummies(X,columns=['Industry','SubVertical','CityLocation','InvestmentType'],drop_first=True)\n",
    "y,y_unique=pd.factorize(y,sort=True)"
   ]
  },
  {
   "cell_type": "code",
   "execution_count": 92,
   "metadata": {},
   "outputs": [
    {
     "name": "stdout",
     "output_type": "stream",
     "text": [
      "Index(['0-1L', '100C-200C', '10C-20C', '10L-50L', '1C-2C'], dtype='object')\n"
     ]
    }
   ],
   "source": [
    "# print(Industry_unique[:5])\n",
    "# print(SubVertical_unique[:5])\n",
    "# print(CityLocation_unique[:5])\n",
    "# print(InvestmentType_unique[:5])\n",
    "print(y_unique[:5])"
   ]
  },
  {
   "cell_type": "code",
   "execution_count": 93,
   "metadata": {},
   "outputs": [
    {
     "data": {
      "text/html": [
       "<div>\n",
       "<style scoped>\n",
       "    .dataframe tbody tr th:only-of-type {\n",
       "        vertical-align: middle;\n",
       "    }\n",
       "\n",
       "    .dataframe tbody tr th {\n",
       "        vertical-align: top;\n",
       "    }\n",
       "\n",
       "    .dataframe thead th {\n",
       "        text-align: right;\n",
       "    }\n",
       "</style>\n",
       "<table border=\"1\" class=\"dataframe\">\n",
       "  <thead>\n",
       "    <tr style=\"text-align: right;\">\n",
       "      <th></th>\n",
       "      <th>Year</th>\n",
       "      <th>Month</th>\n",
       "      <th>Industry_Accounting</th>\n",
       "      <th>Industry_Advertising</th>\n",
       "      <th>Industry_Advertising, Marketing</th>\n",
       "      <th>Industry_Aerospace</th>\n",
       "      <th>Industry_AgriTech</th>\n",
       "      <th>Industry_Agriculture</th>\n",
       "      <th>Industry_Agtech</th>\n",
       "      <th>Industry_Airfare Marketplace</th>\n",
       "      <th>...</th>\n",
       "      <th>InvestmentType_seriesg</th>\n",
       "      <th>InvestmentType_seriesh</th>\n",
       "      <th>InvestmentType_seriesj</th>\n",
       "      <th>InvestmentType_singleventure</th>\n",
       "      <th>InvestmentType_structureddebt</th>\n",
       "      <th>InvestmentType_termloan</th>\n",
       "      <th>InvestmentType_venture</th>\n",
       "      <th>InvestmentType_venture-seriesunknown</th>\n",
       "      <th>InvestmentType_ventureround</th>\n",
       "      <th>InvestmentType_ventureseries</th>\n",
       "    </tr>\n",
       "  </thead>\n",
       "  <tbody>\n",
       "    <tr>\n",
       "      <th>0</th>\n",
       "      <td>2020.0</td>\n",
       "      <td>12.0</td>\n",
       "      <td>0</td>\n",
       "      <td>0</td>\n",
       "      <td>0</td>\n",
       "      <td>0</td>\n",
       "      <td>0</td>\n",
       "      <td>0</td>\n",
       "      <td>0</td>\n",
       "      <td>0</td>\n",
       "      <td>...</td>\n",
       "      <td>0</td>\n",
       "      <td>0</td>\n",
       "      <td>0</td>\n",
       "      <td>0</td>\n",
       "      <td>0</td>\n",
       "      <td>0</td>\n",
       "      <td>0</td>\n",
       "      <td>0</td>\n",
       "      <td>0</td>\n",
       "      <td>0</td>\n",
       "    </tr>\n",
       "    <tr>\n",
       "      <th>1</th>\n",
       "      <td>2020.0</td>\n",
       "      <td>12.0</td>\n",
       "      <td>0</td>\n",
       "      <td>0</td>\n",
       "      <td>0</td>\n",
       "      <td>0</td>\n",
       "      <td>0</td>\n",
       "      <td>0</td>\n",
       "      <td>0</td>\n",
       "      <td>0</td>\n",
       "      <td>...</td>\n",
       "      <td>0</td>\n",
       "      <td>0</td>\n",
       "      <td>0</td>\n",
       "      <td>0</td>\n",
       "      <td>0</td>\n",
       "      <td>0</td>\n",
       "      <td>0</td>\n",
       "      <td>0</td>\n",
       "      <td>0</td>\n",
       "      <td>0</td>\n",
       "    </tr>\n",
       "    <tr>\n",
       "      <th>2</th>\n",
       "      <td>2020.0</td>\n",
       "      <td>12.0</td>\n",
       "      <td>0</td>\n",
       "      <td>0</td>\n",
       "      <td>0</td>\n",
       "      <td>0</td>\n",
       "      <td>0</td>\n",
       "      <td>0</td>\n",
       "      <td>0</td>\n",
       "      <td>0</td>\n",
       "      <td>...</td>\n",
       "      <td>0</td>\n",
       "      <td>0</td>\n",
       "      <td>0</td>\n",
       "      <td>0</td>\n",
       "      <td>0</td>\n",
       "      <td>0</td>\n",
       "      <td>0</td>\n",
       "      <td>0</td>\n",
       "      <td>0</td>\n",
       "      <td>0</td>\n",
       "    </tr>\n",
       "    <tr>\n",
       "      <th>3</th>\n",
       "      <td>2020.0</td>\n",
       "      <td>12.0</td>\n",
       "      <td>0</td>\n",
       "      <td>0</td>\n",
       "      <td>0</td>\n",
       "      <td>0</td>\n",
       "      <td>0</td>\n",
       "      <td>0</td>\n",
       "      <td>0</td>\n",
       "      <td>0</td>\n",
       "      <td>...</td>\n",
       "      <td>0</td>\n",
       "      <td>0</td>\n",
       "      <td>0</td>\n",
       "      <td>0</td>\n",
       "      <td>0</td>\n",
       "      <td>0</td>\n",
       "      <td>0</td>\n",
       "      <td>0</td>\n",
       "      <td>0</td>\n",
       "      <td>0</td>\n",
       "    </tr>\n",
       "    <tr>\n",
       "      <th>4</th>\n",
       "      <td>2020.0</td>\n",
       "      <td>12.0</td>\n",
       "      <td>0</td>\n",
       "      <td>0</td>\n",
       "      <td>0</td>\n",
       "      <td>0</td>\n",
       "      <td>0</td>\n",
       "      <td>0</td>\n",
       "      <td>0</td>\n",
       "      <td>0</td>\n",
       "      <td>...</td>\n",
       "      <td>0</td>\n",
       "      <td>0</td>\n",
       "      <td>0</td>\n",
       "      <td>0</td>\n",
       "      <td>0</td>\n",
       "      <td>0</td>\n",
       "      <td>0</td>\n",
       "      <td>0</td>\n",
       "      <td>0</td>\n",
       "      <td>0</td>\n",
       "    </tr>\n",
       "  </tbody>\n",
       "</table>\n",
       "<p>5 rows × 2272 columns</p>\n",
       "</div>"
      ],
      "text/plain": [
       "     Year  Month  Industry_Accounting  Industry_Advertising  \\\n",
       "0  2020.0   12.0                    0                     0   \n",
       "1  2020.0   12.0                    0                     0   \n",
       "2  2020.0   12.0                    0                     0   \n",
       "3  2020.0   12.0                    0                     0   \n",
       "4  2020.0   12.0                    0                     0   \n",
       "\n",
       "   Industry_Advertising, Marketing  Industry_Aerospace  Industry_AgriTech  \\\n",
       "0                                0                   0                  0   \n",
       "1                                0                   0                  0   \n",
       "2                                0                   0                  0   \n",
       "3                                0                   0                  0   \n",
       "4                                0                   0                  0   \n",
       "\n",
       "   Industry_Agriculture  Industry_Agtech  Industry_Airfare Marketplace  ...  \\\n",
       "0                     0                0                             0  ...   \n",
       "1                     0                0                             0  ...   \n",
       "2                     0                0                             0  ...   \n",
       "3                     0                0                             0  ...   \n",
       "4                     0                0                             0  ...   \n",
       "\n",
       "   InvestmentType_seriesg  InvestmentType_seriesh  InvestmentType_seriesj  \\\n",
       "0                       0                       0                       0   \n",
       "1                       0                       0                       0   \n",
       "2                       0                       0                       0   \n",
       "3                       0                       0                       0   \n",
       "4                       0                       0                       0   \n",
       "\n",
       "   InvestmentType_singleventure  InvestmentType_structureddebt  \\\n",
       "0                             0                              0   \n",
       "1                             0                              0   \n",
       "2                             0                              0   \n",
       "3                             0                              0   \n",
       "4                             0                              0   \n",
       "\n",
       "   InvestmentType_termloan  InvestmentType_venture  \\\n",
       "0                        0                       0   \n",
       "1                        0                       0   \n",
       "2                        0                       0   \n",
       "3                        0                       0   \n",
       "4                        0                       0   \n",
       "\n",
       "   InvestmentType_venture-seriesunknown  InvestmentType_ventureround  \\\n",
       "0                                     0                            0   \n",
       "1                                     0                            0   \n",
       "2                                     0                            0   \n",
       "3                                     0                            0   \n",
       "4                                     0                            0   \n",
       "\n",
       "   InvestmentType_ventureseries  \n",
       "0                             0  \n",
       "1                             0  \n",
       "2                             0  \n",
       "3                             0  \n",
       "4                             0  \n",
       "\n",
       "[5 rows x 2272 columns]"
      ]
     },
     "execution_count": 93,
     "metadata": {},
     "output_type": "execute_result"
    }
   ],
   "source": [
    "X.head()"
   ]
  },
  {
   "cell_type": "code",
   "execution_count": 94,
   "metadata": {},
   "outputs": [
    {
     "data": {
      "text/plain": [
       "(2190, 2272)"
      ]
     },
     "execution_count": 94,
     "metadata": {},
     "output_type": "execute_result"
    }
   ],
   "source": [
    "X.shape"
   ]
  },
  {
   "cell_type": "code",
   "execution_count": 95,
   "metadata": {},
   "outputs": [],
   "source": [
    "X_train,X_test,y_train,y_test=train_test_split(X,y,random_state=7,train_size=0.7)"
   ]
  },
  {
   "cell_type": "code",
   "execution_count": 96,
   "metadata": {},
   "outputs": [],
   "source": [
    "# initialize models\n",
    "lr=LogisticRegression()\n",
    "dt=DecisionTreeClassifier()\n",
    "rf=RandomForestClassifier()\n",
    "gb=GradientBoostingClassifier()\n",
    "ad=AdaBoostClassifier()\n",
    "svm=SVC()"
   ]
  },
  {
   "cell_type": "code",
   "execution_count": 97,
   "metadata": {},
   "outputs": [],
   "source": [
    "models={\n",
    "    lr:'LogisticRegression',\n",
    "    dt:'DecisionTreeClassifier',\n",
    "    rf:'RandomForestClassifier',\n",
    "    gb:'GradientBoostingClassifier',\n",
    "    ad:'AdaBoostClassifier',\n",
    "    svm:'SVC'\n",
    "}"
   ]
  },
  {
   "cell_type": "code",
   "execution_count": 98,
   "metadata": {},
   "outputs": [
    {
     "name": "stderr",
     "output_type": "stream",
     "text": [
      "c:\\python37\\lib\\site-packages\\sklearn\\linear_model\\_logistic.py:765: ConvergenceWarning: lbfgs failed to converge (status=1):\n",
      "STOP: TOTAL NO. of ITERATIONS REACHED LIMIT.\n",
      "\n",
      "Increase the number of iterations (max_iter) or scale the data as shown in:\n",
      "    https://scikit-learn.org/stable/modules/preprocessing.html\n",
      "Please also refer to the documentation for alternative solver options:\n",
      "    https://scikit-learn.org/stable/modules/linear_model.html#logistic-regression\n",
      "  extra_warning_msg=_LOGISTIC_SOLVER_CONVERGENCE_MSG)\n",
      "c:\\python37\\lib\\site-packages\\sklearn\\metrics\\_classification.py:1245: UndefinedMetricWarning: Precision is ill-defined and being set to 0.0 in labels with no predicted samples. Use `zero_division` parameter to control this behavior.\n",
      "  _warn_prf(average, modifier, msg_start, len(result))\n",
      "c:\\python37\\lib\\site-packages\\sklearn\\metrics\\_classification.py:1245: UndefinedMetricWarning: Precision is ill-defined and being set to 0.0 in labels with no predicted samples. Use `zero_division` parameter to control this behavior.\n",
      "  _warn_prf(average, modifier, msg_start, len(result))\n",
      "c:\\python37\\lib\\site-packages\\sklearn\\metrics\\_classification.py:1245: UndefinedMetricWarning: Precision is ill-defined and being set to 0.0 in labels with no predicted samples. Use `zero_division` parameter to control this behavior.\n",
      "  _warn_prf(average, modifier, msg_start, len(result))\n",
      "c:\\python37\\lib\\site-packages\\sklearn\\metrics\\_classification.py:1245: UndefinedMetricWarning: Recall is ill-defined and being set to 0.0 in labels with no true samples. Use `zero_division` parameter to control this behavior.\n",
      "  _warn_prf(average, modifier, msg_start, len(result))\n",
      "c:\\python37\\lib\\site-packages\\sklearn\\metrics\\_classification.py:1245: UndefinedMetricWarning: Precision is ill-defined and being set to 0.0 in labels with no predicted samples. Use `zero_division` parameter to control this behavior.\n",
      "  _warn_prf(average, modifier, msg_start, len(result))\n",
      "c:\\python37\\lib\\site-packages\\sklearn\\metrics\\_classification.py:1245: UndefinedMetricWarning: Recall is ill-defined and being set to 0.0 in labels with no true samples. Use `zero_division` parameter to control this behavior.\n",
      "  _warn_prf(average, modifier, msg_start, len(result))\n",
      "c:\\python37\\lib\\site-packages\\sklearn\\metrics\\_classification.py:1245: UndefinedMetricWarning: Precision is ill-defined and being set to 0.0 in labels with no predicted samples. Use `zero_division` parameter to control this behavior.\n",
      "  _warn_prf(average, modifier, msg_start, len(result))\n",
      "c:\\python37\\lib\\site-packages\\sklearn\\metrics\\_classification.py:1245: UndefinedMetricWarning: Precision is ill-defined and being set to 0.0 in labels with no predicted samples. Use `zero_division` parameter to control this behavior.\n",
      "  _warn_prf(average, modifier, msg_start, len(result))\n"
     ]
    },
    {
     "data": {
      "text/html": [
       "<div>\n",
       "<style scoped>\n",
       "    .dataframe tbody tr th:only-of-type {\n",
       "        vertical-align: middle;\n",
       "    }\n",
       "\n",
       "    .dataframe tbody tr th {\n",
       "        vertical-align: top;\n",
       "    }\n",
       "\n",
       "    .dataframe thead th {\n",
       "        text-align: right;\n",
       "    }\n",
       "</style>\n",
       "<table border=\"1\" class=\"dataframe\">\n",
       "  <thead>\n",
       "    <tr style=\"text-align: right;\">\n",
       "      <th></th>\n",
       "      <th>Name</th>\n",
       "      <th>Recall</th>\n",
       "      <th>precision</th>\n",
       "      <th>accuracy</th>\n",
       "    </tr>\n",
       "  </thead>\n",
       "  <tbody>\n",
       "    <tr>\n",
       "      <th>0</th>\n",
       "      <td>LogisticRegression</td>\n",
       "      <td>0.362253</td>\n",
       "      <td>0.131227</td>\n",
       "      <td>0.362253</td>\n",
       "    </tr>\n",
       "    <tr>\n",
       "      <th>1</th>\n",
       "      <td>DecisionTreeClassifier</td>\n",
       "      <td>0.307458</td>\n",
       "      <td>0.286613</td>\n",
       "      <td>0.307458</td>\n",
       "    </tr>\n",
       "    <tr>\n",
       "      <th>2</th>\n",
       "      <td>RandomForestClassifier</td>\n",
       "      <td>0.353120</td>\n",
       "      <td>0.309830</td>\n",
       "      <td>0.353120</td>\n",
       "    </tr>\n",
       "    <tr>\n",
       "      <th>3</th>\n",
       "      <td>GradientBoostingClassifier</td>\n",
       "      <td>0.414003</td>\n",
       "      <td>0.381460</td>\n",
       "      <td>0.414003</td>\n",
       "    </tr>\n",
       "    <tr>\n",
       "      <th>4</th>\n",
       "      <td>AdaBoostClassifier</td>\n",
       "      <td>0.398782</td>\n",
       "      <td>0.281746</td>\n",
       "      <td>0.398782</td>\n",
       "    </tr>\n",
       "    <tr>\n",
       "      <th>5</th>\n",
       "      <td>SVC</td>\n",
       "      <td>0.362253</td>\n",
       "      <td>0.131227</td>\n",
       "      <td>0.362253</td>\n",
       "    </tr>\n",
       "  </tbody>\n",
       "</table>\n",
       "</div>"
      ],
      "text/plain": [
       "                         Name    Recall  precision  accuracy\n",
       "0          LogisticRegression  0.362253   0.131227  0.362253\n",
       "1      DecisionTreeClassifier  0.307458   0.286613  0.307458\n",
       "2      RandomForestClassifier  0.353120   0.309830  0.353120\n",
       "3  GradientBoostingClassifier  0.414003   0.381460  0.414003\n",
       "4          AdaBoostClassifier  0.398782   0.281746  0.398782\n",
       "5                         SVC  0.362253   0.131227  0.362253"
      ]
     },
     "execution_count": 98,
     "metadata": {},
     "output_type": "execute_result"
    }
   ],
   "source": [
    "result=[]\n",
    "for i in models:\n",
    "    res={}\n",
    "    res['Name']=models[i]\n",
    "    i.fit(X_train,y_train)\n",
    "    y_pred=i.predict(X_test)\n",
    "    res['Recall']=recall_score(y_test,y_pred,average='weighted')\n",
    "    res['precision']=precision_score(y_test,y_pred,average='weighted')\n",
    "    res['accuracy']=accuracy_score(y_test,y_pred)\n",
    "    result.append(res)\n",
    "pd.DataFrame(result)"
   ]
  },
  {
   "cell_type": "code",
   "execution_count": null,
   "metadata": {},
   "outputs": [],
   "source": []
  }
 ],
 "metadata": {
  "kernelspec": {
   "display_name": "Python 3",
   "language": "python",
   "name": "python3"
  },
  "language_info": {
   "codemirror_mode": {
    "name": "ipython",
    "version": 3
   },
   "file_extension": ".py",
   "mimetype": "text/x-python",
   "name": "python",
   "nbconvert_exporter": "python",
   "pygments_lexer": "ipython3",
   "version": "3.7.9"
  }
 },
 "nbformat": 4,
 "nbformat_minor": 2
}
